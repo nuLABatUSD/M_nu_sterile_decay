{
 "cells": [
  {
   "cell_type": "code",
   "execution_count": 12,
   "id": "2d6ba23d",
   "metadata": {},
   "outputs": [],
   "source": [
    "%matplotlib inline\n",
    "import matplotlib.pyplot as plt\n",
    "import numpy as np\n",
    "from classy import Class"
   ]
  },
  {
   "cell_type": "code",
   "execution_count": 13,
   "id": "5cb30ea5",
   "metadata": {},
   "outputs": [
    {
     "data": {
      "image/png": "[encoded data removed]",
      "text/plain": [
       "<Figure size 432x288 with 1 Axes>"
      ]
     },
     "metadata": {
      "needs_background": "light"
     },
     "output_type": "display_data"
    }
   ],
   "source": [
    "def v_masses(m_small, normal):\n",
    "    delta_m21_sq = .0000750\n",
    "    delta_m31_sq = 0.002458\n",
    "    if normal:\n",
    "        m1 = m_small\n",
    "        m2_sq = delta_m21_sq + m1**2\n",
    "        m3_sq = delta_m31_sq +m1**2\n",
    "        m2 = np.sqrt(m2_sq)\n",
    "        m3 = np.sqrt(m3_sq)\n",
    "    else:\n",
    "        m3 = m_small\n",
    "        m1_sq = m3**2 + delta_m31_sq\n",
    "        m2_sq = delta_m21_sq + m1_sq\n",
    "        m1 = np.sqrt(m1_sq)\n",
    "        m2 = np.sqrt(m2_sq)\n",
    "        \n",
    "    return m1,m2,m3\n",
    "\n",
    "small_m = np.linspace(0.05,0.1,100)\n",
    "neutrino_masses_t = np.zeros(len(small_m))\n",
    "for i in range(len(small_m)):\n",
    "    neutrino_masses_t[i] = v_masses(small_m[i],True)[0] + v_masses(small_m[i],True)[1] + v_masses(small_m[i],True)[2]\n",
    "neutrino_masses_f = np.zeros(len(small_m))\n",
    "for i in range(len(small_m)):\n",
    "    neutrino_masses_f[i] = v_masses(small_m[i],False)[0] + v_masses(small_m[i],False)[1] + v_masses(small_m[i],False)[2]\n",
    "\n",
    "    \n",
    "    \n",
    "plt.figure()\n",
    "plt.loglog(small_m,neutrino_masses_t)\n",
    "plt.loglog(small_m,neutrino_masses_f)\n",
    "plt.xlabel('m_small')\n",
    "plt.ylabel('m1+m2+m3')\n",
    "plt.show()\n",
    "\n"
   ]
  },
  {
   "cell_type": "code",
   "execution_count": 14,
   "id": "1269a9ce",
   "metadata": {},
   "outputs": [
    {
     "ename": "CosmoComputationError",
     "evalue": "\n\nError in Class: thermodynamics_init(L:344) :error in thermodynamics_helium_from_bbn(ppr,pba,pth);\n=>thermodynamics_helium_from_bbn(L:545) :could not open fA with name /Users/charmquark/downloads/class_public-3.2.0/external/bbn/sBBN_2017.dat and mode \"r\"",
     "output_type": "error",
     "traceback": [
      "\u001b[0;31m---------------------------------------------------------------------------\u001b[0m",
      "\u001b[0;31mCosmoComputationError\u001b[0m                     Traceback (most recent call last)",
      "Input \u001b[0;32mIn [14]\u001b[0m, in \u001b[0;36m<cell line: 20>\u001b[0;34m()\u001b[0m\n\u001b[1;32m     18\u001b[0m LambdaCDM \u001b[38;5;241m=\u001b[39m Class()\n\u001b[1;32m     19\u001b[0m LambdaCDM\u001b[38;5;241m.\u001b[39mset(LambdaCDM_settings)\n\u001b[0;32m---> 20\u001b[0m \u001b[43mLambdaCDM\u001b[49m\u001b[38;5;241;43m.\u001b[39;49m\u001b[43mcompute\u001b[49m\u001b[43m(\u001b[49m\u001b[43m)\u001b[49m\n\u001b[1;32m     24\u001b[0m kk \u001b[38;5;241m=\u001b[39m np\u001b[38;5;241m.\u001b[39mlogspace(\u001b[38;5;241m-\u001b[39m\u001b[38;5;241m4\u001b[39m,np\u001b[38;5;241m.\u001b[39mlog10(\u001b[38;5;241m3\u001b[39m),\u001b[38;5;241m1000\u001b[39m) \u001b[38;5;66;03m# k in h/Mpc\u001b[39;00m\n\u001b[1;32m     25\u001b[0m Pk_LambdaCDM \u001b[38;5;241m=\u001b[39m np\u001b[38;5;241m.\u001b[39mzeros(\u001b[38;5;28mlen\u001b[39m(kk)) \u001b[38;5;66;03m# P(k) in (Mpc/h)**3\u001b[39;00m\n",
      "File \u001b[0;32mclassy.pyx:389\u001b[0m, in \u001b[0;36mclassy.Class.compute\u001b[0;34m()\u001b[0m\n",
      "\u001b[0;31mCosmoComputationError\u001b[0m: \n\nError in Class: thermodynamics_init(L:344) :error in thermodynamics_helium_from_bbn(ppr,pba,pth);\n=>thermodynamics_helium_from_bbn(L:545) :could not open fA with name /Users/charmquark/downloads/class_public-3.2.0/external/bbn/sBBN_2017.dat and mode \"r\""
     ]
    }
   ],
   "source": [
    "LambdaCDM_settings = {'omega_b':0.0223828,\n",
    "                     #'omega_cdm':0.1201075,\n",
    "                     'h':0.67810,\n",
    "                     'A_s':2.100549e-09,\n",
    "                     'n_s':0.9660499,\n",
    "                     'tau_reio':0.05430842,\n",
    "                     'output':'mPk',\n",
    "                     'P_k_max_1/Mpc':3.0,\n",
    "                      'Omega_m':0.309883043,\n",
    "                     # The next line should be uncommented for higher precision (but significantly slower running)\n",
    "                     'ncdm_fluid_approximation':3,\n",
    "                     # You may uncomment this line to get more info on the ncdm sector from Class:\n",
    "                     'background_verbose':1\n",
    "                    }\n",
    "\n",
    "\n",
    "\n",
    "LambdaCDM = Class()\n",
    "LambdaCDM.set(LambdaCDM_settings)\n",
    "LambdaCDM.compute()\n",
    "\n",
    "\n",
    "\n",
    "kk = np.logspace(-4,np.log10(3),1000) # k in h/Mpc\n",
    "Pk_LambdaCDM = np.zeros(len(kk)) # P(k) in (Mpc/h)**3\n",
    "h = LambdaCDM_settings['h'] # get reduced Hubble for conversions to 1/Mpc\n",
    "\n",
    "for i,k in enumerate(kk):\n",
    "    Pk_LambdaCDM[i] = LambdaCDM.pk(k*h,0.)*h**3 # function .pk(k,z)\n",
    "\n",
    "\n",
    "def v_masses_new(m_small, normal, filename):\n",
    "    \n",
    "    v_masses(m_small,normal)\n",
    "    \n",
    "    m1,m2,m3 = v_masses(m_small,normal)\n",
    "    \n",
    "    \n",
    "    neutrino_mass_settings = {'N_ur':0.00441,\n",
    "                              'N_ncdm':3,\n",
    "                              'm_ncdm':'{},{},{}'.format(m1,m2,m3)     \n",
    "                             }\n",
    "\n",
    "    neutrino = Class()\n",
    "    neutrino.set(LambdaCDM_settings)\n",
    "    neutrino.set(neutrino_mass_settings)\n",
    "    neutrino.compute()\n",
    "\n",
    "    kk = np.logspace(-4,np.log10(3),1000) # k in h/Mpc\n",
    "    Pk_neutrino = np.zeros(len(kk))\n",
    "\n",
    "    for i,k in enumerate(kk):\n",
    "        Pk_neutrino[i] = neutrino.pk(k*h,0.)*h**3 # function .pk(k,z)\n",
    "\n",
    "\n",
    "    plt.figure()\n",
    "    plt.loglog(kk,Pk_LambdaCDM)\n",
    "    plt.loglog(kk,Pk_neutrino,linestyle='--')\n",
    "    plt.xlabel(r'$k \\,\\,\\,\\, [h/\\mathrm{Mpc}]$')\n",
    "    plt.ylabel(r'$P(k) \\,\\,\\,\\, [\\mathrm{Mpc}/h]^3$')\n",
    "    plt.show()\n",
    "\n",
    "\n",
    "    plt.figure()\n",
    "    plt.semilogx(kk,Pk_neutrino/Pk_LambdaCDM-1)\n",
    "    plt.xlabel(r'$k [h /\\mathrm{Mpc}]$')\n",
    "    plt.ylabel(r'$P(k)^\\nu/P(k)-1$')\n",
    "    plt.show()\n",
    "    \n",
    "    \n",
    "    \n",
    "    def dict_results(spectrum):\n",
    "        Dict_S = {'age': spectrum.age(),\n",
    "            'Neff': spectrum.Neff(),\n",
    "            'omega_b': spectrum.omega_b(),\n",
    "            'Omega0_cdm':spectrum.Omega0_cdm(),\n",
    "            'h':spectrum.h(),\n",
    "            'Omega0_k':spectrum.Omega0_k(),\n",
    "            'Omega0_m': spectrum.Omega0_m(),\n",
    "            'Omega_b': spectrum.Omega_b(),\n",
    "            'Omega_g': spectrum.Omega_g(),\n",
    "            'Omega_lambda': spectrum.Omega_Lambda(),\n",
    "            'Omega_m': spectrum.Omega_m(),\n",
    "            'Omega_r': spectrum.Omega_r(),\n",
    "            'rs_drag': spectrum.rs_drag(),\n",
    "            'Sigma8': spectrum.sigma8(),\n",
    "            'Sigma8_cb': spectrum.sigma8_cb(),\n",
    "            'T_cmb': spectrum.T_cmb(),\n",
    "            'theta_s_100': spectrum.theta_s_100(),\n",
    "            'theta_star_100': spectrum.theta_star_100(),  \n",
    "            'n_s':spectrum.n_s(),\n",
    "            'tau_reio':spectrum.tau_reio()\n",
    "             }\n",
    "        return Dict_S\n",
    "    dict_n = dict_results(neutrino)\n",
    "    print(dict_n)\n",
    "    \n",
    "    \n",
    "    np.savez(filename, n_results = dict_n, k_n_array = kk, Pk_n_array = Pk_neutrino, truth_value = normal, v1 = m1, v2 = m2, v3 = m3, small_mass = m_small, sum_n = m1+m2+m3)\n",
    "    \n",
    "    \n",
    "v_masses_new(0.1,True,\"normal hierarchy\")\n",
    "\n"
   ]
  },
  {
   "cell_type": "code",
   "execution_count": 4,
   "id": "1dd7f6db",
   "metadata": {},
   "outputs": [],
   "source": [
    "def dict_results(spectrum):\n",
    "    Dict_S = {'age': spectrum.age(),\n",
    "        'Neff': spectrum.Neff(),\n",
    "        'omega_b': spectrum.omega_b(),\n",
    "        'Omega0_cdm':spectrum.Omega0_cdm(),\n",
    "        'h':spectrum.h(),\n",
    "        'Omega0_k':spectrum.Omega0_k(),\n",
    "        'Omega0_m': spectrum.Omega0_m(),\n",
    "        'Omega_b': spectrum.Omega_b(),\n",
    "        'Omega_g': spectrum.Omega_g(),\n",
    "        'Omega_lambda': spectrum.Omega_Lambda(),\n",
    "        'Omega_m': spectrum.Omega_m(),\n",
    "        'Omega_r': spectrum.Omega_r(),\n",
    "        'rs_drag': spectrum.rs_drag(),\n",
    "        'Sigma8': spectrum.sigma8(),\n",
    "        'Sigma8_cb': spectrum.sigma8_cb(),\n",
    "        'T_cmb': spectrum.T_cmb(),\n",
    "        'theta_s_100': spectrum.theta_s_100(),\n",
    "        'theta_star_100': spectrum.theta_star_100(),  \n",
    "        'n_s':spectrum.n_s(),\n",
    "        'tau_reio':spectrum.tau_reio()\n",
    "         }\n",
    "    return Dict_S"
   ]
  },
  {
   "cell_type": "code",
   "execution_count": 5,
   "id": "9f34ec53",
   "metadata": {},
   "outputs": [
    {
     "name": "stdout",
     "output_type": "stream",
     "text": [
      "{'age': 13.77059773438602, 'Neff': 3.0439999999999996, 'omega_b': 0.022382800000000005, 'Omega0_cdm': 0.26120569320189113, 'h': 0.6781, 'Omega0_k': 0.0, 'Omega0_m': 0.30988304299999997, 'Omega_b': 0.04867734979810887, 'Omega_g': 5.378150968509927e-05, 'Omega_lambda': 0.6900259955434282, 'Omega_m': 0.30988304299999997, 'Omega_r': 9.09614565717917e-05, 'rs_drag': 147.0713806675917, 'Sigma8': 0.8250562050450522, 'Sigma8_cb': 0.8250562050450522, 'T_cmb': 2.7255, 'theta_s_100': 1.0417961948352972, 'theta_star_100': 1.0441437202320782, 'n_s': 0.9660499, 'tau_reio': 0.05430842}\n"
     ]
    }
   ],
   "source": [
    "dict_L = dict_results(LambdaCDM)\n",
    "print(dict_L)"
   ]
  },
  {
   "cell_type": "code",
   "execution_count": null,
   "id": "f931eedb",
   "metadata": {},
   "outputs": [],
   "source": []
  }
 ],
 "metadata": {
  "kernelspec": {
   "display_name": "Python 3 (ipykernel)",
   "language": "python",
   "name": "python3"
  },
  "language_info": {
   "codemirror_mode": {
    "name": "ipython",
    "version": 3
   },
   "file_extension": ".py",
   "mimetype": "text/x-python",
   "name": "python",
   "nbconvert_exporter": "python",
   "pygments_lexer": "ipython3",
   "version": "3.9.12"
  }
 },
 "nbformat": 4,
 "nbformat_minor": 5
}
