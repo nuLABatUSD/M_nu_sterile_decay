{
 "cells": [
  {
   "cell_type": "code",
   "execution_count": 14,
   "id": "853dcb0c",
   "metadata": {},
   "outputs": [],
   "source": [
    "import numpy as np\n",
    "import matplotlib.pyplot as plt\n",
    "import numba as nb"
   ]
  },
  {
   "cell_type": "code",
   "execution_count": 15,
   "id": "d3489920",
   "metadata": {},
   "outputs": [],
   "source": [
    "data_file = np.load(\"test-fit.npz\", allow_pickle=True)\n",
    "e = data_file['eps']\n",
    "f = data_file['fe']"
   ]
  },
  {
   "cell_type": "code",
   "execution_count": 16,
   "id": "7ea54a4f",
   "metadata": {},
   "outputs": [],
   "source": [
    "data_file2 = np.load(\"test-fit2.npz\", allow_pickle=True)\n",
    "e2 = data_file2['eps']\n",
    "f2 = data_file2['fe']"
   ]
  },
  {
   "cell_type": "code",
   "execution_count": 31,
   "id": "d13784d6",
   "metadata": {},
   "outputs": [],
   "source": [
    "@nb.jit(nopython=True)\n",
    "def fit2(e_array, f_array):\n",
    "    e_max = e_array[np.where(e_array**2*f_array == np.max(e_array**2*f_array))[0]][0]\n",
    "    f_max = f_array[np.where(e_array**2*f_array == np.max(e_array**2*f_array))[0]][0]\n",
    "    \n",
    "    Del_e = e_array[1] - e_array[0]\n",
    "    Del_T = (1/2.301)*Del_e\n",
    "    \n",
    "    T = e_max/2.301\n",
    "    N = (((np.exp(e_max/T)+1)*np.max(e_array**2*f_array))/e_max**2)\n",
    "    Del_N = (((np.exp(e_max/T+Del_T)+1)*np.max(e_array**2*f_array))/e_max**2)\n",
    "    \n",
    "    return T,N,Del_T,Del_N"
   ]
  },
  {
   "cell_type": "code",
   "execution_count": 32,
   "id": "9cdb9e98",
   "metadata": {},
   "outputs": [],
   "source": [
    "@nb.jit(nopython=True)\n",
    "def least_sum(e_array,f_array,T, N):\n",
    "    Sum = 0 \n",
    "    for i in range(len(e_array)):\n",
    "        Sum = Sum + ((e_array[i]**2*f_array[i]-((N)*(e_array[i]**2)/(np.exp(e_array[i]/T)+1)))**2)\n",
    "    return Sum"
   ]
  },
  {
   "cell_type": "code",
   "execution_count": 33,
   "id": "a1ee973a",
   "metadata": {},
   "outputs": [],
   "source": [
    "@nb.jit(nopython=True)\n",
    "def fit3(e_array,f_array):\n",
    "    \n",
    "    T_0, N_0, T_error, N_error = fit2(e_array,f_array)\n",
    "    \n",
    "    \n",
    "    T = np.linspace(T_0-T_error,T_0+T_error,100)\n",
    "    N = np.linspace(N_0-N_error,N_0+N_error,100)\n",
    "    M = np.zeros((len(T),len(N)))\n",
    "    for i in range(len(T)):\n",
    "        for j in range(len(N)):\n",
    "            M[i,j] = least_sum(e_array,f_array,T[i],N[j])\n",
    "    \n",
    "    w = np.where(M==np.amin(M))\n",
    "    T_best = T[w[0][0]]\n",
    "    N_best = N[w[1][0]]\n",
    "    \n",
    "    return T_best,N_best"
   ]
  },
  {
   "cell_type": "code",
   "execution_count": 40,
   "id": "c789ba95",
   "metadata": {},
   "outputs": [],
   "source": [
    "def everything1(e_array,f_array):\n",
    "    Tbest,Nbest = fit3(e_array,f_array)\n",
    "    e_array_reverse = e_array[::-1]\n",
    "    f_array_reverse = f_array[::-1]\n",
    "    diff_reverse = np.zeros(len(e_array_reverse))\n",
    "    \n",
    "    for i in range(len(e_array_reverse)):\n",
    "        diff_reverse[i] = (f_array_reverse[i])-((Nbest)/(np.exp(e_array_reverse[i]/Tbest)+1))\n",
    "    return diff_reverse,Tbest,Nbest"
   ]
  },
  {
   "cell_type": "code",
   "execution_count": 43,
   "id": "67def110",
   "metadata": {},
   "outputs": [],
   "source": [
    "def everything2(e_array,f_array):\n",
    "    diff_still_reverse,T_best,N_best = everything1(e_array,f_array)\n",
    "    \n",
    "    diff_smaller_reverse = []\n",
    "    for i in diff_still_reverse: \n",
    "        if i < 0:\n",
    "            break\n",
    "        if i > 0:\n",
    "            diff_smaller_reverse.append(i)\n",
    "    diff_smaller_correct = diff_smaller_reverse[::-1]\n",
    "    E_new = e_array[len(e_array)-len(diff_smaller_correct):]\n",
    "    F_new = f_array[len(e_array)-len(diff_smaller_correct):]\n",
    "    \n",
    "    \n",
    "    np.polyfit(E_new,np.log(diff_smaller_correct),2) \n",
    "    A_best = np.polyfit(E_new,np.log(diff_smaller_correct),2)[0]\n",
    "    B_best = np.polyfit(E_new,np.log(diff_smaller_correct),2)[1]\n",
    "    C_best = np.polyfit(E_new,np.log(diff_smaller_correct),2)[2]\n",
    "    \n",
    "    poly = A_best*e_array**2+B_best*e_array+C_best\n",
    "    \n",
    "    \n",
    "    plt.figure()\n",
    "    plt.semilogy(e_array,e_array**2*f_array,color=\"black\")\n",
    "    plt.semilogy(e_array,N_best*(e_array**2)/(np.exp(e_array/T_best)+1)+e**2*np.exp(poly),color=\"green\")\n",
    "    plt.show()\n",
    "    \n",
    "    return A_best,B_best,C_best,T_best,N_best\n",
    "    "
   ]
  },
  {
   "cell_type": "code",
   "execution_count": 44,
   "id": "7d2253e3",
   "metadata": {},
   "outputs": [
    {
     "data": {
      "image/png": "[encoded data removed]",
      "text/plain": [
       "<Figure size 432x288 with 1 Axes>"
      ]
     },
     "metadata": {
      "needs_background": "light"
     },
     "output_type": "display_data"
    },
    {
     "data": {
      "text/plain": [
       "(0.0012908544032027547,\n",
       " -0.4484654379921326,\n",
       " -7.659854919569376,\n",
       " 1.5671710586964824,\n",
       " 0.7117404676647079)"
      ]
     },
     "execution_count": 44,
     "metadata": {},
     "output_type": "execute_result"
    }
   ],
   "source": [
    "everything2(e,f)"
   ]
  },
  {
   "cell_type": "code",
   "execution_count": 45,
   "id": "9baa0f62",
   "metadata": {},
   "outputs": [
    {
     "data": {
      "image/png": "[encoded data removed]",
      "text/plain": [
       "<Figure size 432x288 with 1 Axes>"
      ]
     },
     "metadata": {
      "needs_background": "light"
     },
     "output_type": "display_data"
    },
    {
     "data": {
      "text/plain": [
       "(-0.002040106185677538,\n",
       " 0.09924849888416934,\n",
       " -9.722659061181984,\n",
       " 2.7195027195027195,\n",
       " 12.570015639330949)"
      ]
     },
     "execution_count": 45,
     "metadata": {},
     "output_type": "execute_result"
    }
   ],
   "source": [
    "everything2(e2,f2)"
   ]
  },
  {
   "cell_type": "code",
   "execution_count": null,
   "id": "8bb6162a",
   "metadata": {},
   "outputs": [],
   "source": []
  }
 ],
 "metadata": {
  "kernelspec": {
   "display_name": "Python 3 (ipykernel)",
   "language": "python",
   "name": "python3"
  },
  "language_info": {
   "codemirror_mode": {
    "name": "ipython",
    "version": 3
   },
   "file_extension": ".py",
   "mimetype": "text/x-python",
   "name": "python",
   "nbconvert_exporter": "python",
   "pygments_lexer": "ipython3",
   "version": "3.9.12"
  }
 },
 "nbformat": 4,
 "nbformat_minor": 5
}
