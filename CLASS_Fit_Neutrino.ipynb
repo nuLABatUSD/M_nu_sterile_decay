{
 "cells": [
  {
   "cell_type": "code",
   "execution_count": 1,
   "id": "645af5ae",
   "metadata": {},
   "outputs": [],
   "source": [
    "import numpy as np\n",
    "import matplotlib.pyplot as plt\n",
    "import numba as nb\n",
    "import FittingWorkCleaner as FWC\n",
    "import Neutrino_Work as NW\n",
    "from classy import Class"
   ]
  },
  {
   "cell_type": "code",
   "execution_count": 2,
   "id": "a3d1acae",
   "metadata": {},
   "outputs": [],
   "source": [
    "data_1= np.load(\"mass-300-life-0.030.npz\", allow_pickle=True)\n",
    "f_actual = data_1['fe'][-1]\n",
    "e_actual = data_1['e'][-1]\n",
    "Neff_short = data_1['neff']\n",
    "\n",
    "data_2= np.load(\"mass-300-life-0.584.npz\", allow_pickle=True)\n",
    "f_actual_2 = data_2['fe'][-1]\n",
    "e_actual_2 = data_2['e'][-1]\n",
    "Neff_long = data_2['neff']\n",
    "\n",
    "\n",
    "data_file = np.load(\"test-fit.npz\", allow_pickle=True)\n",
    "e = data_file['eps']\n",
    "f = data_file['fe']\n",
    "\n",
    "\n",
    "data_file2 = np.load(\"test-fit2.npz\", allow_pickle=True)\n",
    "e2 = data_file2['eps']\n",
    "f2 = data_file2['fe']"
   ]
  },
  {
   "cell_type": "code",
   "execution_count": 3,
   "id": "4b74769b",
   "metadata": {},
   "outputs": [],
   "source": [
    "def v_masses_nontherm(m_small, normal,filename,poly_degree,plot):\n",
    "    \n",
    "    #if normal is True, uses the normal hiearachy, If normal False, uses the inverted hiearachy.\n",
    "    #if plot is true, neutrino spectra is plotted. If false, spectra is not plotted. parameters returned in both \n",
    "    \n",
    "    actual_data= np.load(filename, allow_pickle=True)\n",
    "    f_array = actual_data['fe'][-1]\n",
    "    e_array = actual_data['e'][-1]\n",
    "    \n",
    "    mass1,mass2,mass3 = NW.v_masses(m_small,normal)\n",
    "    \n",
    "    T_best,N_best,coefficients = FWC.finale(e_array,f_array,poly_degree,plot)\n",
    "    \n",
    "    params = '{},{},{},{},{},{},{}'.format(T_best,N_best,coefficients[0],coefficients[1],coefficients[2],coefficients[3],coefficients[4])\n",
    "    \n",
    "    af = actual_data['scalefactors'][-1]\n",
    "    tf = actual_data['temp'][-1]\n",
    "    value = 1/(af*tf)\n",
    "\n",
    "    \n",
    "    neutrino_mass_settings = {'N_ncdm':3,\n",
    "          'use_ncdm_psd_files': \"0,0,0\",\n",
    "          'm_ncdm': '{},{},{}'.format(mass1,mass2,mass3),\n",
    "          'T_ncdm':'{},{},{}'.format(value,value,value),\n",
    "          'ncdm_psd_parameters': params,\n",
    "          'N_ur': 0.0\n",
    "          }   \n",
    "    \n",
    "    LambdaCDM_settings = {'omega_b':0.0223828,\n",
    "                     #'omega_cdm':0.1201075,\n",
    "                     'h':0.67810,\n",
    "                     'A_s':2.100549e-09,\n",
    "                     'n_s':0.9660499,\n",
    "                     'tau_reio':0.05430842,\n",
    "                     'output':'mPk',\n",
    "                     'P_k_max_1/Mpc':3.0,\n",
    "                      'Omega_m':0.309883043,\n",
    "                     # The next line should be uncommented for higher precision (but significantly slower running)\n",
    "                     'ncdm_fluid_approximation':3,\n",
    "                     # You may uncomment this line to get more info on the ncdm sector from Class:\n",
    "                     'background_verbose':1,\n",
    "                    }\n",
    "\n",
    "    neutrino = Class()\n",
    "    neutrino.set(LambdaCDM_settings)\n",
    "    neutrino.set(neutrino_mass_settings)\n",
    "    neutrino.compute()\n",
    "\n",
    "    neutrino_results = NW.dict_results(neutrino)\n",
    "    N_eff = neutrino_results['Neff']   \n",
    "        \n",
    "    LambdaCDM_other = {'N_ur':'{},{},{}'.format(N_eff,N_eff,N_eff) #needed to get LambdaCDM Neff closer to model Neff\n",
    "                     }\n",
    "    \n",
    "    LambdaCDM = Class()\n",
    "    LambdaCDM.set(LambdaCDM_settings)\n",
    "    LambdaCDM.set(LambdaCDM_other)\n",
    "    LambdaCDM.compute()\n",
    "    \n",
    "    LambdaCDM_results = NW.dict_results(LambdaCDM)\n",
    "    \n",
    "    kk = np.logspace(-4,np.log10(3),1000) # k in h/Mpc\n",
    "    Pk_LambdaCDM = np.zeros(len(kk)) # P(k) in (Mpc/h)**3\n",
    "    h = LambdaCDM_settings['h'] # get reduced Hubble for conversions to 1/Mpc\n",
    "\n",
    "    for i,k in enumerate(kk):\n",
    "        Pk_LambdaCDM[i] = LambdaCDM.pk(k*h,0.)*h**3 # function .pk(k,z)\n",
    "\n",
    "    \n",
    "    kk= np.logspace(-4,np.log10(3),1000) # k in h/Mpc\n",
    "    Pk_neutrino = np.zeros(len(kk))\n",
    "\n",
    "    for i,k in enumerate(kk):\n",
    "        Pk_neutrino[i] = neutrino.pk(k*h,0.)*h**3 # function .pk(k,z)\n",
    "        \n",
    "    plt.figure()\n",
    "    plt.loglog(kk,Pk_LambdaCDM)\n",
    "    plt.loglog(kk,Pk_neutrino,linestyle='--')\n",
    "    plt.xlabel(r'$k \\,\\,\\,\\, [h/\\mathrm{Mpc}]$')\n",
    "    plt.ylabel(r'$P(k) \\,\\,\\,\\, [\\mathrm{Mpc}/h]^3$')\n",
    "    plt.show()\n",
    "\n",
    "\n",
    "    plt.figure()\n",
    "    plt.semilogx(kk,Pk_neutrino/Pk_LambdaCDM-1)\n",
    "    plt.xlabel(r'$k [h /\\mathrm{Mpc}]$')\n",
    "    plt.ylabel(r'$P(k)^\\nu/P(k)-1$')\n",
    "    plt.show()\n",
    "    \n",
    "    \n",
    "   \n",
    "    return neutrino_results,LambdaCDM_results\n",
    "    "
   ]
  },
  {
   "cell_type": "code",
   "execution_count": 4,
   "id": "f1298484",
   "metadata": {},
   "outputs": [
    {
     "data": {
      "image/png": "[encoded data removed]",
      "text/plain": [
       "<Figure size 432x288 with 1 Axes>"
      ]
     },
     "metadata": {
      "needs_background": "light"
     },
     "output_type": "display_data"
    },
    {
     "data": {
      "image/png": "[encoded data removed]",
      "text/plain": [
       "<Figure size 432x288 with 1 Axes>"
      ]
     },
     "metadata": {
      "needs_background": "light"
     },
     "output_type": "display_data"
    },
    {
     "data": {
      "image/png": "[encoded data removed]",
      "text/plain": [
       "<Figure size 432x288 with 1 Axes>"
      ]
     },
     "metadata": {
      "needs_background": "light"
     },
     "output_type": "display_data"
    },
    {
     "data": {
      "text/plain": [
       "({'age': 13.772636040813154,\n",
       "  'Neff': 3.0095756649721483,\n",
       "  'omega_b': 0.022382800000000005,\n",
       "  'Omega0_cdm': 0.25405127428477653,\n",
       "  'h': 0.6781,\n",
       "  'Omega0_k': 0.0,\n",
       "  'Omega0_m': 0.30988279611598757,\n",
       "  'Omega_b': 0.04867734979810887,\n",
       "  'Omega_g': 5.378150968509927e-05,\n",
       "  'Omega_lambda': 0.6900631754903148,\n",
       "  'Omega_m': 0.30988279611598757,\n",
       "  'Omega_r': 5.402839369750757e-05,\n",
       "  'rs_drag': 148.06250445557112,\n",
       "  'Sigma8': 0.7519878559416694,\n",
       "  'Sigma8_cb': 0.7674363055756875,\n",
       "  'T_cmb': 2.7255,\n",
       "  'theta_s_100': 1.0477265112007672,\n",
       "  'theta_star_100': 1.0501218545073563,\n",
       "  'n_s': 0.9660499,\n",
       "  'tau_reio': 0.05430842},\n",
       " {'age': 13.770623072670812,\n",
       "  'Neff': 3.0095756649721492,\n",
       "  'omega_b': 0.022382800000000005,\n",
       "  'Omega0_cdm': 0.26120569320189113,\n",
       "  'h': 0.6781,\n",
       "  'Omega0_k': 0.0,\n",
       "  'Omega0_m': 0.30988304299999997,\n",
       "  'Omega_b': 0.04867734979810887,\n",
       "  'Omega_g': 5.378150968509927e-05,\n",
       "  'Omega_lambda': 0.69002641600826,\n",
       "  'Omega_m': 0.30988304299999997,\n",
       "  'Omega_r': 9.054099174000942e-05,\n",
       "  'rs_drag': 147.24485195386828,\n",
       "  'Sigma8': 0.8272446617807587,\n",
       "  'Sigma8_cb': 0.8272446617807587,\n",
       "  'T_cmb': 2.7255,\n",
       "  'theta_s_100': 1.0430155907271936,\n",
       "  'theta_star_100': 1.0453666148067324,\n",
       "  'n_s': 0.9660499,\n",
       "  'tau_reio': 0.05430842})"
      ]
     },
     "execution_count": 4,
     "metadata": {},
     "output_type": "execute_result"
    }
   ],
   "source": [
    "v_masses_nontherm(0.1,True,\"mass-300-life-0.030.npz\",4,True)"
   ]
  },
  {
   "cell_type": "code",
   "execution_count": 5,
   "id": "56a5c111",
   "metadata": {},
   "outputs": [
    {
     "ename": "TypeError",
     "evalue": "argument of type 'NoneType' is not iterable",
     "output_type": "error",
     "traceback": [
      "\u001b[0;31m---------------------------------------------------------------------------\u001b[0m",
      "\u001b[0;31mTypeError\u001b[0m                                 Traceback (most recent call last)",
      "File \u001b[0;32mclassy.pyx:208\u001b[0m, in \u001b[0;36mclassy.Class.struct_cleanup\u001b[0;34m()\u001b[0m\n",
      "\u001b[0;31mTypeError\u001b[0m: argument of type 'NoneType' is not iterable"
     ]
    },
    {
     "name": "stderr",
     "output_type": "stream",
     "text": [
      "Exception ignored in: 'classy.Class.__dealloc__'\n",
      "Traceback (most recent call last):\n",
      "  File \"classy.pyx\", line 208, in classy.Class.struct_cleanup\n",
      "TypeError: argument of type 'NoneType' is not iterable\n"
     ]
    },
    {
     "ename": "TypeError",
     "evalue": "argument of type 'NoneType' is not iterable",
     "output_type": "error",
     "traceback": [
      "\u001b[0;31m---------------------------------------------------------------------------\u001b[0m",
      "\u001b[0;31mTypeError\u001b[0m                                 Traceback (most recent call last)",
      "File \u001b[0;32mclassy.pyx:208\u001b[0m, in \u001b[0;36mclassy.Class.struct_cleanup\u001b[0;34m()\u001b[0m\n",
      "\u001b[0;31mTypeError\u001b[0m: argument of type 'NoneType' is not iterable"
     ]
    },
    {
     "name": "stderr",
     "output_type": "stream",
     "text": [
      "Exception ignored in: 'classy.Class.__dealloc__'\n",
      "Traceback (most recent call last):\n",
      "  File \"classy.pyx\", line 208, in classy.Class.struct_cleanup\n",
      "TypeError: argument of type 'NoneType' is not iterable\n"
     ]
    },
    {
     "data": {
      "image/png": "[encoded data removed]",
      "text/plain": [
       "<Figure size 432x288 with 1 Axes>"
      ]
     },
     "metadata": {
      "needs_background": "light"
     },
     "output_type": "display_data"
    },
    {
     "data": {
      "image/png": "[encoded data removed]",
      "text/plain": [
       "<Figure size 432x288 with 1 Axes>"
      ]
     },
     "metadata": {
      "needs_background": "light"
     },
     "output_type": "display_data"
    },
    {
     "data": {
      "text/plain": [
       "({'age': 13.77281518377072,\n",
       "  'Neff': 0.6878309035446849,\n",
       "  'omega_b': 0.022382800000000005,\n",
       "  'Omega0_cdm': 0.2587277148131082,\n",
       "  'h': 0.6781,\n",
       "  'Omega0_k': 0.0,\n",
       "  'Omega0_m': 0.309883013193762,\n",
       "  'Omega_b': 0.04867734979810887,\n",
       "  'Omega_g': 5.378150968509927e-05,\n",
       "  'Omega_lambda': 0.6900631754903148,\n",
       "  'Omega_m': 0.309883013193762,\n",
       "  'Omega_r': 5.381131592313658e-05,\n",
       "  'rs_drag': 161.2809427824865,\n",
       "  'Sigma8': 1.0956448562468375,\n",
       "  'Sigma8_cb': 1.103085878409307,\n",
       "  'T_cmb': 2.7255,\n",
       "  'theta_s_100': 1.1415250957813448,\n",
       "  'theta_star_100': 1.1441569820087525,\n",
       "  'n_s': 0.9660499,\n",
       "  'tau_reio': 0.05430842},\n",
       " {'age': 13.772339163513132,\n",
       "  'Neff': 0.6878309035446849,\n",
       "  'omega_b': 0.022382800000000005,\n",
       "  'Omega0_cdm': 0.26120569320189113,\n",
       "  'h': 0.6781,\n",
       "  'Omega0_k': 0.0,\n",
       "  'Omega0_m': 0.30988304299999997,\n",
       "  'Omega_b': 0.04867734979810887,\n",
       "  'Omega_g': 5.378150968509927e-05,\n",
       "  'Omega_lambda': 0.6900547742036983,\n",
       "  'Omega_m': 0.30988304299999997,\n",
       "  'Omega_r': 6.218279630166203e-05,\n",
       "  'rs_drag': 160.93887488059167,\n",
       "  'Sigma8': 1.027794702569868,\n",
       "  'Sigma8_cb': 1.027794702569868,\n",
       "  'T_cmb': 2.7255,\n",
       "  'theta_s_100': 1.1394305683480546,\n",
       "  'theta_star_100': 1.1420465002768863,\n",
       "  'n_s': 0.9660499,\n",
       "  'tau_reio': 0.05430842})"
      ]
     },
     "execution_count": 5,
     "metadata": {},
     "output_type": "execute_result"
    }
   ],
   "source": [
    "v_masses_nontherm(0.1,True,\"mass-300-life-0.584.npz\",4,False)"
   ]
  },
  {
   "cell_type": "code",
   "execution_count": 6,
   "id": "e7f13304",
   "metadata": {},
   "outputs": [],
   "source": [
    "def cdf_faster1(e,f):\n",
    "    r = np.zeros(len(e))\n",
    "    \n",
    "    y = e**2 * f\n",
    "    \n",
    "    for i in range(1, len(r)):\n",
    "        r[i] = r[i-1] + 0.5 * (y[i-1] + y[i]) * (e[i]-e[i-1])\n",
    "        \n",
    "    r /= np.trapz(y,e)\n",
    "    \n",
    "    return r\n",
    "\n",
    "def cdf_array1(e_array,f_array):\n",
    "    high = np.where(cdf_faster1(e_array,f_array)>2/3)[0][0]\n",
    "    \n",
    "    k = len(e_array)-high\n",
    "    e_array_shorter = np.delete(e_array,np.s_[-k:])\n",
    "    f_array_shorter = np.delete(f_array,np.s_[-k:])\n",
    "    \n",
    "    return e_array_shorter,f_array_shorter"
   ]
  },
  {
   "cell_type": "code",
   "execution_count": 7,
   "id": "87d86bef",
   "metadata": {},
   "outputs": [],
   "source": [
    "def v_masses_nontherm_no_cdf(m_small, normal,filename,poly_degree,plot):\n",
    "    \n",
    "    #if normal is True, uses the normal hiearachy, If normal False, uses the inverted hiearachy.\n",
    "    #if plot is true, neutrino spectra is plotted. If false, spectra is not plotted. parameters returned in both \n",
    "    \n",
    "    actual_data= np.load(filename, allow_pickle=True)\n",
    "    f_array = actual_data['fe'][-1]\n",
    "    e_array = actual_data['e'][-1]\n",
    "    \n",
    "    e_please_work,f_please_work = cdf_array1(e_array,e_array*f_array)\n",
    "    \n",
    "    mass1,mass2,mass3 = NW.v_masses(m_small,normal)\n",
    "    \n",
    "    T_best,N_best,coefficients = FWC.finale_no_cdf(e_please_work,f_please_work,poly_degree,plot)\n",
    "    \n",
    "    params = '{},{},{},{},{},{},{}'.format(T_best,N_best,coefficients[0],coefficients[1],coefficients[2],coefficients[3],coefficients[4])\n",
    "    \n",
    "    af = actual_data['scalefactors'][-1]\n",
    "    tf = actual_data['temp'][-1]\n",
    "    value = 1/(af*tf)\n",
    "\n",
    "    \n",
    "    neutrino_mass_settings = {'N_ncdm':3,\n",
    "          'use_ncdm_psd_files': \"0,0,0\",\n",
    "          'm_ncdm': '{},{},{}'.format(mass1,mass2,mass3),\n",
    "          'T_ncdm':'{},{},{}'.format(value,value,value),\n",
    "          'ncdm_psd_parameters': params,\n",
    "          'N_ur': 0.0\n",
    "          }   \n",
    "    \n",
    "    LambdaCDM_settings = {'omega_b':0.0223828,\n",
    "                     #'omega_cdm':0.1201075,\n",
    "                     'h':0.67810,\n",
    "                     'A_s':2.100549e-09,\n",
    "                     'n_s':0.9660499,\n",
    "                     'tau_reio':0.05430842,\n",
    "                     'output':'mPk',\n",
    "                     'P_k_max_1/Mpc':3.0,\n",
    "                      'Omega_m':0.309883043,\n",
    "                     # The next line should be uncommented for higher precision (but significantly slower running)\n",
    "                     'ncdm_fluid_approximation':3,\n",
    "                     # You may uncomment this line to get more info on the ncdm sector from Class:\n",
    "                     'background_verbose':1,\n",
    "                    }\n",
    "\n",
    "    neutrino = Class()\n",
    "    neutrino.set(LambdaCDM_settings)\n",
    "    neutrino.set(neutrino_mass_settings)\n",
    "    neutrino.compute()\n",
    "\n",
    "    neutrino_results = NW.dict_results(neutrino)\n",
    "    N_eff = neutrino_results['Neff']   \n",
    "        \n",
    "    LambdaCDM_other = {'N_ur':'{},{},{}'.format(N_eff,N_eff,N_eff) #needed to get LambdaCDM Neff closer to model Neff\n",
    "                     }\n",
    "    \n",
    "    LambdaCDM = Class()\n",
    "    LambdaCDM.set(LambdaCDM_settings)\n",
    "    LambdaCDM.set(LambdaCDM_other)\n",
    "    LambdaCDM.compute()\n",
    "    \n",
    "    LambdaCDM_results = NW.dict_results(LambdaCDM)\n",
    "    \n",
    "    kk = np.logspace(-4,np.log10(3),1000) # k in h/Mpc\n",
    "    Pk_LambdaCDM = np.zeros(len(kk)) # P(k) in (Mpc/h)**3\n",
    "    h = LambdaCDM_settings['h'] # get reduced Hubble for conversions to 1/Mpc\n",
    "\n",
    "    for i,k in enumerate(kk):\n",
    "        Pk_LambdaCDM[i] = LambdaCDM.pk(k*h,0.)*h**3 # function .pk(k,z)\n",
    "\n",
    "    \n",
    "    kk= np.logspace(-4,np.log10(3),1000) # k in h/Mpc\n",
    "    Pk_neutrino = np.zeros(len(kk))\n",
    "\n",
    "    for i,k in enumerate(kk):\n",
    "        Pk_neutrino[i] = neutrino.pk(k*h,0.)*h**3 # function .pk(k,z)\n",
    "        \n",
    "    plt.figure()\n",
    "    plt.loglog(kk,Pk_LambdaCDM)\n",
    "    plt.loglog(kk,Pk_neutrino,linestyle='--')\n",
    "    plt.xlabel(r'$k \\,\\,\\,\\, [h/\\mathrm{Mpc}]$')\n",
    "    plt.ylabel(r'$P(k) \\,\\,\\,\\, [\\mathrm{Mpc}/h]^3$')\n",
    "    plt.show()\n",
    "\n",
    "\n",
    "    plt.figure()\n",
    "    plt.semilogx(kk,Pk_neutrino/Pk_LambdaCDM-1)\n",
    "    plt.xlabel(r'$k [h /\\mathrm{Mpc}]$')\n",
    "    plt.ylabel(r'$P(k)^\\nu/P(k)-1$')\n",
    "    plt.show()\n",
    "    \n",
    "    \n",
    "   \n",
    "    return neutrino_results,LambdaCDM_results"
   ]
  },
  {
   "cell_type": "code",
   "execution_count": 8,
   "id": "6cfd82c8",
   "metadata": {},
   "outputs": [
    {
     "data": {
      "image/png": "[encoded data removed]",
      "text/plain": [
       "<Figure size 432x288 with 1 Axes>"
      ]
     },
     "metadata": {
      "needs_background": "light"
     },
     "output_type": "display_data"
    },
    {
     "name": "stderr",
     "output_type": "stream",
     "text": [
      "Exception ignored in: Traceback (most recent call last):\n",
      "  File \"/Users/charmquark/opt/anaconda3/lib/python3.9/site-packages/IPython/core/interactiveshell.py\", line 3369, in run_code\n",
      "    exec(code_obj, self.user_global_ns, self.user_ns)\n",
      "  File \"/var/folders/4_/8dqxg1mn27s2m8nmvf9r3nkh0000gp/T/ipykernel_82887/602060168.py\", line 1, in <cell line: 1>\n",
      "    v_masses_nontherm_no_cdf(0.1,True,\"mass-300-life-0.584.npz\",4,True)\n",
      "  File \"/var/folders/4_/8dqxg1mn27s2m8nmvf9r3nkh0000gp/T/ipykernel_82887/1401094726.py\", line 49, in v_masses_nontherm_no_cdf\n",
      "    neutrino.compute()\n",
      "  File \"classy.pyx\", line 389, in classy.Class.compute\n",
      "'classy.Class.__dealloc__'\n",
      "Traceback (most recent call last):\n",
      "  File \"classy.pyx\", line 208, in classy.Class.struct_cleanup\n",
      "classy.CosmoComputationError: \n",
      "\n",
      "Error in Class: thermodynamics_init(L:344) :error in thermodynamics_helium_from_bbn(ppr,pba,pth);\n",
      "=>thermodynamics_helium_from_bbn(L:625) :condition (DeltaNeff > deltaN[num_deltaN-1]) is true; You have asked for an unrealistic high value of Delta N_eff = 2.680012e+01. The corresponding value of the primordial helium fraction cannot be found in the interpolation table. If you really want this value, you should fix YHe to a given value rather than to BBN\n",
      "\n",
      "During handling of the above exception, another exception occurred:\n",
      "\n",
      "Traceback (most recent call last):\n",
      "  File \"/Users/charmquark/opt/anaconda3/lib/python3.9/site-packages/executing/executing.py\", line 317, in executing\n",
      "    args = executing_cache[key]\n",
      "KeyError: (<code object run_code at 0x7f9cd8d112f0, file \"/Users/charmquark/opt/anaconda3/lib/python3.9/site-packages/IPython/core/interactiveshell.py\", line 3333>, 140311629206256, 74)\n",
      "\n",
      "During handling of the above exception, another exception occurred:\n",
      "\n",
      "Traceback (most recent call last):\n",
      "  File \"classy.pyx\", line 208, in classy.Class.struct_cleanup\n",
      "TypeError: argument of type 'NoneType' is not iterable\n",
      "TypeError: argument of type 'NoneType' is not iterable\n",
      "Exception ignored in: 'classy.Class.__dealloc__'\n",
      "Traceback (most recent call last):\n",
      "  File \"classy.pyx\", line 208, in classy.Class.struct_cleanup\n",
      "Traceback (most recent call last):\n",
      "  File \"/Users/charmquark/opt/anaconda3/lib/python3.9/site-packages/IPython/core/interactiveshell.py\", line 3369, in run_code\n",
      "    exec(code_obj, self.user_global_ns, self.user_ns)\n",
      "  File \"/var/folders/4_/8dqxg1mn27s2m8nmvf9r3nkh0000gp/T/ipykernel_82887/602060168.py\", line 1, in <cell line: 1>\n",
      "    v_masses_nontherm_no_cdf(0.1,True,\"mass-300-life-0.584.npz\",4,True)\n",
      "  File \"/var/folders/4_/8dqxg1mn27s2m8nmvf9r3nkh0000gp/T/ipykernel_82887/1401094726.py\", line 49, in v_masses_nontherm_no_cdf\n",
      "    neutrino.compute()\n",
      "  File \"classy.pyx\", line 389, in classy.Class.compute\n",
      "classy.CosmoComputationError: \n",
      "\n",
      "Error in Class: thermodynamics_init(L:344) :error in thermodynamics_helium_from_bbn(ppr,pba,pth);\n",
      "=>thermodynamics_helium_from_bbn(L:625) :condition (DeltaNeff > deltaN[num_deltaN-1]) is true; You have asked for an unrealistic high value of Delta N_eff = 2.680012e+01. The corresponding value of the primordial helium fraction cannot be found in the interpolation table. If you really want this value, you should fix YHe to a given value rather than to BBN\n",
      "\n",
      "During handling of the above exception, another exception occurred:\n",
      "\n",
      "Traceback (most recent call last):\n",
      "  File \"/Users/charmquark/opt/anaconda3/lib/python3.9/site-packages/executing/executing.py\", line 317, in executing\n",
      "    args = executing_cache[key]\n",
      "KeyError: (<code object run_code at 0x7f9cd8d112f0, file \"/Users/charmquark/opt/anaconda3/lib/python3.9/site-packages/IPython/core/interactiveshell.py\", line 3333>, 140311629206256, 74)\n",
      "\n",
      "During handling of the above exception, another exception occurred:\n",
      "\n",
      "Traceback (most recent call last):\n",
      "  File \"classy.pyx\", line 208, in classy.Class.struct_cleanup\n",
      "TypeError: argument of type 'NoneType' is not iterable\n",
      "TypeError: argument of type 'NoneType' is not iterable\n"
     ]
    },
    {
     "ename": "CosmoComputationError",
     "evalue": "\n\nError in Class: thermodynamics_init(L:344) :error in thermodynamics_helium_from_bbn(ppr,pba,pth);\n=>thermodynamics_helium_from_bbn(L:625) :condition (DeltaNeff > deltaN[num_deltaN-1]) is true; You have asked for an unrealistic high value of Delta N_eff = 2.680012e+01. The corresponding value of the primordial helium fraction cannot be found in the interpolation table. If you really want this value, you should fix YHe to a given value rather than to BBN",
     "output_type": "error",
     "traceback": [
      "\u001b[0;31m---------------------------------------------------------------------------\u001b[0m",
      "\u001b[0;31mCosmoComputationError\u001b[0m                     Traceback (most recent call last)",
      "Input \u001b[0;32mIn [8]\u001b[0m, in \u001b[0;36m<cell line: 1>\u001b[0;34m()\u001b[0m\n\u001b[0;32m----> 1\u001b[0m \u001b[43mv_masses_nontherm_no_cdf\u001b[49m\u001b[43m(\u001b[49m\u001b[38;5;241;43m0.1\u001b[39;49m\u001b[43m,\u001b[49m\u001b[38;5;28;43;01mTrue\u001b[39;49;00m\u001b[43m,\u001b[49m\u001b[38;5;124;43m\"\u001b[39;49m\u001b[38;5;124;43mmass-300-life-0.584.npz\u001b[39;49m\u001b[38;5;124;43m\"\u001b[39;49m\u001b[43m,\u001b[49m\u001b[38;5;241;43m4\u001b[39;49m\u001b[43m,\u001b[49m\u001b[38;5;28;43;01mTrue\u001b[39;49;00m\u001b[43m)\u001b[49m\n",
      "Input \u001b[0;32mIn [7]\u001b[0m, in \u001b[0;36mv_masses_nontherm_no_cdf\u001b[0;34m(m_small, normal, filename, poly_degree, plot)\u001b[0m\n\u001b[1;32m     47\u001b[0m neutrino\u001b[38;5;241m.\u001b[39mset(LambdaCDM_settings)\n\u001b[1;32m     48\u001b[0m neutrino\u001b[38;5;241m.\u001b[39mset(neutrino_mass_settings)\n\u001b[0;32m---> 49\u001b[0m \u001b[43mneutrino\u001b[49m\u001b[38;5;241;43m.\u001b[39;49m\u001b[43mcompute\u001b[49m\u001b[43m(\u001b[49m\u001b[43m)\u001b[49m\n\u001b[1;32m     51\u001b[0m neutrino_results \u001b[38;5;241m=\u001b[39m NW\u001b[38;5;241m.\u001b[39mdict_results(neutrino)\n\u001b[1;32m     52\u001b[0m N_eff \u001b[38;5;241m=\u001b[39m neutrino_results[\u001b[38;5;124m'\u001b[39m\u001b[38;5;124mNeff\u001b[39m\u001b[38;5;124m'\u001b[39m]   \n",
      "File \u001b[0;32mclassy.pyx:389\u001b[0m, in \u001b[0;36mclassy.Class.compute\u001b[0;34m()\u001b[0m\n",
      "\u001b[0;31mCosmoComputationError\u001b[0m: \n\nError in Class: thermodynamics_init(L:344) :error in thermodynamics_helium_from_bbn(ppr,pba,pth);\n=>thermodynamics_helium_from_bbn(L:625) :condition (DeltaNeff > deltaN[num_deltaN-1]) is true; You have asked for an unrealistic high value of Delta N_eff = 2.680012e+01. The corresponding value of the primordial helium fraction cannot be found in the interpolation table. If you really want this value, you should fix YHe to a given value rather than to BBN"
     ]
    }
   ],
   "source": [
    "v_masses_nontherm_no_cdf(0.1,True,\"mass-300-life-0.584.npz\",4,True)"
   ]
  },
  {
   "cell_type": "code",
   "execution_count": null,
   "id": "b13c53aa",
   "metadata": {},
   "outputs": [],
   "source": []
  }
 ],
 "metadata": {
  "kernelspec": {
   "display_name": "Python 3 (ipykernel)",
   "language": "python",
   "name": "python3"
  },
  "language_info": {
   "codemirror_mode": {
    "name": "ipython",
    "version": 3
   },
   "file_extension": ".py",
   "mimetype": "text/x-python",
   "name": "python",
   "nbconvert_exporter": "python",
   "pygments_lexer": "ipython3",
   "version": "3.9.12"
  }
 },
 "nbformat": 4,
 "nbformat_minor": 5
}
