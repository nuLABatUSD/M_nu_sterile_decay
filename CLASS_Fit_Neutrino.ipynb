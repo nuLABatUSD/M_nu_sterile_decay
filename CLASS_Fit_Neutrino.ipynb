{
 "cells": [
  {
   "cell_type": "code",
   "execution_count": 1,
   "id": "645af5ae",
   "metadata": {},
   "outputs": [],
   "source": [
    "import numpy as np\n",
    "import matplotlib.pyplot as plt\n",
    "import numba as nb\n",
    "import FittingWorkCleaner as FWC\n",
    "import Neutrino_Work as NW\n",
    "from classy import Class"
   ]
  },
  {
   "cell_type": "code",
   "execution_count": 2,
   "id": "a3d1acae",
   "metadata": {},
   "outputs": [],
   "source": [
    "data_1= np.load(\"mass-300-life-0.030.npz\", allow_pickle=True)\n",
    "f_actual = data_1['fe'][-1]\n",
    "e_actual = data_1['e'][-1]\n",
    "Neff_short = data_1['neff']\n",
    "\n",
    "data_2= np.load(\"mass-300-life-0.584.npz\", allow_pickle=True)\n",
    "f_actual_2 = data_2['fe'][-1]\n",
    "e_actual_2 = data_2['e'][-1]\n",
    "Neff_long = data_2['neff']\n",
    "\n",
    "\n",
    "data_file = np.load(\"test-fit.npz\", allow_pickle=True)\n",
    "e = data_file['eps']\n",
    "f = data_file['fe']\n",
    "\n",
    "\n",
    "data_file2 = np.load(\"test-fit2.npz\", allow_pickle=True)\n",
    "e2 = data_file2['eps']\n",
    "f2 = data_file2['fe']"
   ]
  },
  {
   "cell_type": "code",
   "execution_count": 4,
   "id": "4b74769b",
   "metadata": {},
   "outputs": [],
   "source": [
    "def v_masses_nontherm(m_small, normal,filename,poly_degree,plot):\n",
    "    \n",
    "    #if normal is True, uses the normal hiearachy, If normal False, uses the inverted hiearachy.\n",
    "    #if plot is true, neutrino spectra is plotted. If false, spectra is not plotted. parameters returned in both \n",
    "    \n",
    "    actual_data= np.load(filename, allow_pickle=True)\n",
    "    f_array = actual_data['fe'][-1]\n",
    "    e_array = actual_data['e'][-1]\n",
    "    \n",
    "    mass1,mass2,mass3 = NW.v_masses(m_small,normal)\n",
    "    \n",
    "    T_best,N_best,coefficients = FWC.finale(e_array,f_array,poly_degree,plot)\n",
    "    \n",
    "    params = '{},{},{},{},{},{},{}'.format(T_best,N_best,coefficients[0],coefficients[1],coefficients[2],coefficients[3],coefficients[4])\n",
    "    \n",
    "    af = actual_data['scalefactors'][-1]\n",
    "    tf = actual_data['temp'][-1]\n",
    "    value = 1/(af*tf)\n",
    "\n",
    "    \n",
    "    neutrino_mass_settings = {'N_ncdm':3,\n",
    "          'use_ncdm_psd_files': \"0,0,0\",\n",
    "          'm_ncdm': '{},{},{}'.format(mass1,mass2,mass3),\n",
    "          'T_ncdm':'{},{},{}'.format(value,value,value),\n",
    "          'ncdm_psd_parameters': params,\n",
    "          'N_ur': 0.0\n",
    "          }   \n",
    "    \n",
    "    LambdaCDM_settings = {'omega_b':0.0223828,\n",
    "                     #'omega_cdm':0.1201075,\n",
    "                     'h':0.67810,\n",
    "                     'A_s':2.100549e-09,\n",
    "                     'n_s':0.9660499,\n",
    "                     'tau_reio':0.05430842,\n",
    "                     'output':'mPk',\n",
    "                     'P_k_max_1/Mpc':3.0,\n",
    "                      'Omega_m':0.309883043,\n",
    "                     # The next line should be uncommented for higher precision (but significantly slower running)\n",
    "                     'ncdm_fluid_approximation':3,\n",
    "                     # You may uncomment this line to get more info on the ncdm sector from Class:\n",
    "                     'background_verbose':1,\n",
    "                    }\n",
    "\n",
    "    neutrino = Class()\n",
    "    neutrino.set(LambdaCDM_settings)\n",
    "    neutrino.set(neutrino_mass_settings)\n",
    "    neutrino.compute()\n",
    "\n",
    "    neutrino_results = NW.dict_results(neutrino)\n",
    "    N_eff = neutrino_results['Neff']   \n",
    "        \n",
    "    LambdaCDM_other = {'N_ur':'{},{},{}'.format(N_eff,N_eff,N_eff) #needed to get LambdaCDM Neff closer to model Neff\n",
    "                     }\n",
    "    \n",
    "    LambdaCDM = Class()\n",
    "    LambdaCDM.set(LambdaCDM_settings)\n",
    "    LambdaCDM.set(LambdaCDM_other)\n",
    "    LambdaCDM.compute()\n",
    "    \n",
    "    LambdaCDM_results = NW.dict_results(LambdaCDM)\n",
    "    \n",
    "    kk = np.logspace(-4,np.log10(3),1000) # k in h/Mpc\n",
    "    Pk_LambdaCDM = np.zeros(len(kk)) # P(k) in (Mpc/h)**3\n",
    "    h = LambdaCDM_settings['h'] # get reduced Hubble for conversions to 1/Mpc\n",
    "\n",
    "    for i,k in enumerate(kk):\n",
    "        Pk_LambdaCDM[i] = LambdaCDM.pk(k*h,0.)*h**3 # function .pk(k,z)\n",
    "\n",
    "    \n",
    "    kk= np.logspace(-4,np.log10(3),1000) # k in h/Mpc\n",
    "    Pk_neutrino = np.zeros(len(kk))\n",
    "\n",
    "    for i,k in enumerate(kk):\n",
    "        Pk_neutrino[i] = neutrino.pk(k*h,0.)*h**3 # function .pk(k,z)\n",
    "        \n",
    "    plt.figure()\n",
    "    plt.loglog(kk,Pk_LambdaCDM)\n",
    "    plt.loglog(kk,Pk_neutrino,linestyle='--')\n",
    "    plt.xlabel(r'$k \\,\\,\\,\\, [h/\\mathrm{Mpc}]$')\n",
    "    plt.ylabel(r'$P(k) \\,\\,\\,\\, [\\mathrm{Mpc}/h]^3$')\n",
    "    plt.show()\n",
    "\n",
    "\n",
    "    plt.figure()\n",
    "    plt.semilogx(kk,Pk_neutrino/Pk_LambdaCDM-1)\n",
    "    plt.xlabel(r'$k [h /\\mathrm{Mpc}]$')\n",
    "    plt.ylabel(r'$P(k)^\\nu/P(k)-1$')\n",
    "    plt.show()\n",
    "    \n",
    "    \n",
    "   \n",
    "    return neutrino_results,LambdaCDM_results\n",
    "    "
   ]
  },
  {
   "cell_type": "code",
   "execution_count": 20,
   "id": "f1298484",
   "metadata": {},
   "outputs": [
    {
     "ename": "TypeError",
     "evalue": "argument of type 'NoneType' is not iterable",
     "output_type": "error",
     "traceback": [
      "\u001b[0;31m---------------------------------------------------------------------------\u001b[0m",
      "\u001b[0;31mTypeError\u001b[0m                                 Traceback (most recent call last)",
      "File \u001b[0;32mclassy.pyx:208\u001b[0m, in \u001b[0;36mclassy.Class.struct_cleanup\u001b[0;34m()\u001b[0m\n",
      "\u001b[0;31mTypeError\u001b[0m: argument of type 'NoneType' is not iterable"
     ]
    },
    {
     "name": "stderr",
     "output_type": "stream",
     "text": [
      "Exception ignored in: 'classy.Class.__dealloc__'\n",
      "Traceback (most recent call last):\n",
      "  File \"classy.pyx\", line 208, in classy.Class.struct_cleanup\n",
      "TypeError: argument of type 'NoneType' is not iterable\n"
     ]
    },
    {
     "ename": "TypeError",
     "evalue": "argument of type 'NoneType' is not iterable",
     "output_type": "error",
     "traceback": [
      "\u001b[0;31m---------------------------------------------------------------------------\u001b[0m",
      "\u001b[0;31mTypeError\u001b[0m                                 Traceback (most recent call last)",
      "File \u001b[0;32mclassy.pyx:208\u001b[0m, in \u001b[0;36mclassy.Class.struct_cleanup\u001b[0;34m()\u001b[0m\n",
      "\u001b[0;31mTypeError\u001b[0m: argument of type 'NoneType' is not iterable"
     ]
    },
    {
     "name": "stderr",
     "output_type": "stream",
     "text": [
      "Exception ignored in: 'classy.Class.__dealloc__'\n",
      "Traceback (most recent call last):\n",
      "  File \"classy.pyx\", line 208, in classy.Class.struct_cleanup\n",
      "TypeError: argument of type 'NoneType' is not iterable\n"
     ]
    },
    {
     "ename": "TypeError",
     "evalue": "argument of type 'NoneType' is not iterable",
     "output_type": "error",
     "traceback": [
      "\u001b[0;31m---------------------------------------------------------------------------\u001b[0m",
      "\u001b[0;31mTypeError\u001b[0m                                 Traceback (most recent call last)",
      "File \u001b[0;32mclassy.pyx:208\u001b[0m, in \u001b[0;36mclassy.Class.struct_cleanup\u001b[0;34m()\u001b[0m\n",
      "\u001b[0;31mTypeError\u001b[0m: argument of type 'NoneType' is not iterable"
     ]
    },
    {
     "name": "stderr",
     "output_type": "stream",
     "text": [
      "Exception ignored in: 'classy.Class.__dealloc__'\n",
      "Traceback (most recent call last):\n",
      "  File \"classy.pyx\", line 208, in classy.Class.struct_cleanup\n",
      "TypeError: argument of type 'NoneType' is not iterable\n"
     ]
    },
    {
     "ename": "TypeError",
     "evalue": "argument of type 'NoneType' is not iterable",
     "output_type": "error",
     "traceback": [
      "\u001b[0;31m---------------------------------------------------------------------------\u001b[0m",
      "\u001b[0;31mTypeError\u001b[0m                                 Traceback (most recent call last)",
      "File \u001b[0;32mclassy.pyx:208\u001b[0m, in \u001b[0;36mclassy.Class.struct_cleanup\u001b[0;34m()\u001b[0m\n",
      "\u001b[0;31mTypeError\u001b[0m: argument of type 'NoneType' is not iterable"
     ]
    },
    {
     "name": "stderr",
     "output_type": "stream",
     "text": [
      "Exception ignored in: 'classy.Class.__dealloc__'\n",
      "Traceback (most recent call last):\n",
      "  File \"classy.pyx\", line 208, in classy.Class.struct_cleanup\n",
      "TypeError: argument of type 'NoneType' is not iterable\n"
     ]
    },
    {
     "data": {
      "image/png": "[encoded data removed]",
      "text/plain": [
       "<Figure size 432x288 with 1 Axes>"
      ]
     },
     "metadata": {
      "needs_background": "light"
     },
     "output_type": "display_data"
    },
    {
     "data": {
      "image/png": "[encoded data removed]",
      "text/plain": [
       "<Figure size 432x288 with 1 Axes>"
      ]
     },
     "metadata": {
      "needs_background": "light"
     },
     "output_type": "display_data"
    },
    {
     "data": {
      "image/png": "[encoded data removed]",
      "text/plain": [
       "<Figure size 432x288 with 1 Axes>"
      ]
     },
     "metadata": {
      "needs_background": "light"
     },
     "output_type": "display_data"
    },
    {
     "data": {
      "text/plain": [
       "({'age': 13.772636067517311,\n",
       "  'Neff': 3.00941608201756,\n",
       "  'omega_b': 0.022382800000000005,\n",
       "  'Omega0_cdm': 0.2540513424957565,\n",
       "  'h': 0.6781,\n",
       "  'Omega0_k': 0.0,\n",
       "  'Omega0_m': 0.30988279617504083,\n",
       "  'Omega_b': 0.04867734979810887,\n",
       "  'Omega_g': 5.378150968509927e-05,\n",
       "  'Omega_lambda': 0.6900631754903148,\n",
       "  'Omega_m': 0.30988279617504083,\n",
       "  'Omega_r': 5.4028334644266066e-05,\n",
       "  'rs_drag': 148.06331373259573,\n",
       "  'Sigma8': 0.7519678908476323,\n",
       "  'Sigma8_cb': 0.7674157016156604,\n",
       "  'T_cmb': 2.7255,\n",
       "  'theta_s_100': 1.047732206658164,\n",
       "  'theta_star_100': 1.050127584511746,\n",
       "  'n_s': 0.9660499,\n",
       "  'tau_reio': 0.05430842},\n",
       " {'age': 13.770623190178462,\n",
       "  'Neff': 3.00941608201756,\n",
       "  'omega_b': 0.022382800000000005,\n",
       "  'Omega0_cdm': 0.26120569320189113,\n",
       "  'h': 0.6781,\n",
       "  'Omega0_k': 0.0,\n",
       "  'Omega0_m': 0.30988304299999997,\n",
       "  'Omega_b': 0.04867734979810887,\n",
       "  'Omega_g': 5.378150968509927e-05,\n",
       "  'Omega_lambda': 0.690026417957434,\n",
       "  'Omega_m': 0.30988304299999997,\n",
       "  'Omega_r': 9.053904256597013e-05,\n",
       "  'rs_drag': 147.2456584825804,\n",
       "  'Sigma8': 0.8272549008441781,\n",
       "  'Sigma8_cb': 0.8272549008441781,\n",
       "  'T_cmb': 2.7255,\n",
       "  'theta_s_100': 1.0430212621786477,\n",
       "  'theta_star_100': 1.0453723028945068,\n",
       "  'n_s': 0.9660499,\n",
       "  'tau_reio': 0.05430842})"
      ]
     },
     "execution_count": 20,
     "metadata": {},
     "output_type": "execute_result"
    }
   ],
   "source": [
    "v_masses_nontherm(0.1,True,\"mass-300-life-0.030.npz\",4,True)"
   ]
  },
  {
   "cell_type": "code",
   "execution_count": 18,
   "id": "56a5c111",
   "metadata": {},
   "outputs": [
    {
     "data": {
      "image/png": "[encoded data removed]",
      "text/plain": [
       "<Figure size 432x288 with 1 Axes>"
      ]
     },
     "metadata": {
      "needs_background": "light"
     },
     "output_type": "display_data"
    },
    {
     "data": {
      "image/png": "[encoded data removed]",
      "text/plain": [
       "<Figure size 432x288 with 1 Axes>"
      ]
     },
     "metadata": {
      "needs_background": "light"
     },
     "output_type": "display_data"
    },
    {
     "data": {
      "text/plain": [
       "({'age': 13.77281511704191,\n",
       "  'Neff': 0.6891433739898806,\n",
       "  'omega_b': 0.022382800000000005,\n",
       "  'Omega0_cdm': 0.2587231524514335,\n",
       "  'h': 0.6781,\n",
       "  'Omega0_k': 0.0,\n",
       "  'Omega0_m': 0.30988301313652383,\n",
       "  'Omega_b': 0.04867734979810887,\n",
       "  'Omega_g': 5.378150968509927e-05,\n",
       "  'Omega_lambda': 0.6900631754903148,\n",
       "  'Omega_m': 0.30988301313652383,\n",
       "  'Omega_r': 5.3811373161376694e-05,\n",
       "  'rs_drag': 161.27242383208994,\n",
       "  'Sigma8': 1.0958537387002425,\n",
       "  'Sigma8_cb': 1.1033118482988902,\n",
       "  'T_cmb': 2.7255,\n",
       "  'theta_s_100': 1.1414644281648205,\n",
       "  'theta_star_100': 1.144096121456105,\n",
       "  'n_s': 0.9660499,\n",
       "  'tau_reio': 0.05430842},\n",
       " {'age': 13.772338189524602,\n",
       "  'Neff': 0.6891433739898806,\n",
       "  'omega_b': 0.022382800000000005,\n",
       "  'Omega0_cdm': 0.26120569320189113,\n",
       "  'h': 0.6781,\n",
       "  'Omega0_k': 0.0,\n",
       "  'Omega0_m': 0.30988304299999997,\n",
       "  'Omega_b': 0.04867734979810887,\n",
       "  'Omega_g': 5.378150968509927e-05,\n",
       "  'Omega_lambda': 0.6900547581729555,\n",
       "  'Omega_m': 0.30988304299999997,\n",
       "  'Omega_r': 6.219882704458014e-05,\n",
       "  'rs_drag': 160.9297634500688,\n",
       "  'Sigma8': 1.0276389560461172,\n",
       "  'Sigma8_cb': 1.0276389560461172,\n",
       "  'T_cmb': 2.7255,\n",
       "  'theta_s_100': 1.1393663122271622,\n",
       "  'theta_star_100': 1.1419820151661884,\n",
       "  'n_s': 0.9660499,\n",
       "  'tau_reio': 0.05430842})"
      ]
     },
     "execution_count": 18,
     "metadata": {},
     "output_type": "execute_result"
    }
   ],
   "source": [
    "v_masses_nontherm(0.1,True,\"mass-300-life-0.584.npz\",4,False)"
   ]
  },
  {
   "cell_type": "code",
   "execution_count": 14,
   "id": "e7f13304",
   "metadata": {},
   "outputs": [],
   "source": [
    "def cdf_faster1(e,f):\n",
    "    r = np.zeros(len(e))\n",
    "    \n",
    "    y = e**2 * f\n",
    "    \n",
    "    for i in range(1, len(r)):\n",
    "        r[i] = r[i-1] + 0.5 * (y[i-1] + y[i]) * (e[i]-e[i-1])\n",
    "        \n",
    "    r /= np.trapz(y,e)\n",
    "    \n",
    "    return r\n",
    "\n",
    "def cdf_array1(e_array,f_array):\n",
    "    high = np.where(cdf_faster1(e_array,f_array)>2/3)[0][0]\n",
    "    \n",
    "    k = len(e_array)-high\n",
    "    e_array_shorter = np.delete(e_array,np.s_[-k:])\n",
    "    f_array_shorter = np.delete(f_array,np.s_[-k:])\n",
    "    \n",
    "    return e_array_shorter,f_array_shorter"
   ]
  },
  {
   "cell_type": "code",
   "execution_count": 15,
   "id": "87d86bef",
   "metadata": {},
   "outputs": [],
   "source": [
    "def v_masses_nontherm_no_cdf(m_small, normal,filename,poly_degree,plot):\n",
    "    \n",
    "    #if normal is True, uses the normal hiearachy, If normal False, uses the inverted hiearachy.\n",
    "    #if plot is true, neutrino spectra is plotted. If false, spectra is not plotted. parameters returned in both \n",
    "    \n",
    "    actual_data= np.load(filename, allow_pickle=True)\n",
    "    f_array = actual_data['fe'][-1]\n",
    "    e_array = actual_data['e'][-1]\n",
    "    \n",
    "    e_please_work,f_please_work = cdf_array1(e_array,e_array*f_array)\n",
    "    \n",
    "    mass1,mass2,mass3 = NW.v_masses(m_small,normal)\n",
    "    \n",
    "    T_best,N_best,coefficients = FWC.finale_no_cdf(e_please_work,f_please_work,poly_degree,plot)\n",
    "    \n",
    "    params = '{},{},{},{},{},{},{}'.format(T_best,N_best,coefficients[0],coefficients[1],coefficients[2],coefficients[3],coefficients[4])\n",
    "    \n",
    "    af = actual_data['scalefactors'][-1]\n",
    "    tf = actual_data['temp'][-1]\n",
    "    value = 1/(af*tf)\n",
    "\n",
    "    \n",
    "    neutrino_mass_settings = {'N_ncdm':3,\n",
    "          'use_ncdm_psd_files': \"0,0,0\",\n",
    "          'm_ncdm': '{},{},{}'.format(mass1,mass2,mass3),\n",
    "          'T_ncdm':'{},{},{}'.format(value,value,value),\n",
    "          'ncdm_psd_parameters': params,\n",
    "          'N_ur': 0.0\n",
    "          }   \n",
    "    \n",
    "    LambdaCDM_settings = {'omega_b':0.0223828,\n",
    "                     #'omega_cdm':0.1201075,\n",
    "                     'h':0.67810,\n",
    "                     'A_s':2.100549e-09,\n",
    "                     'n_s':0.9660499,\n",
    "                     'tau_reio':0.05430842,\n",
    "                     'output':'mPk',\n",
    "                     'P_k_max_1/Mpc':3.0,\n",
    "                      'Omega_m':0.309883043,\n",
    "                     # The next line should be uncommented for higher precision (but significantly slower running)\n",
    "                     'ncdm_fluid_approximation':3,\n",
    "                     # You may uncomment this line to get more info on the ncdm sector from Class:\n",
    "                     'background_verbose':1,\n",
    "                    }\n",
    "\n",
    "    neutrino = Class()\n",
    "    neutrino.set(LambdaCDM_settings)\n",
    "    neutrino.set(neutrino_mass_settings)\n",
    "    neutrino.compute()\n",
    "\n",
    "    neutrino_results = NW.dict_results(neutrino)\n",
    "    N_eff = neutrino_results['Neff']   \n",
    "        \n",
    "    LambdaCDM_other = {'N_ur':'{},{},{}'.format(N_eff,N_eff,N_eff) #needed to get LambdaCDM Neff closer to model Neff\n",
    "                     }\n",
    "    \n",
    "    LambdaCDM = Class()\n",
    "    LambdaCDM.set(LambdaCDM_settings)\n",
    "    LambdaCDM.set(LambdaCDM_other)\n",
    "    LambdaCDM.compute()\n",
    "    \n",
    "    LambdaCDM_results = NW.dict_results(LambdaCDM)\n",
    "    \n",
    "    kk = np.logspace(-4,np.log10(3),1000) # k in h/Mpc\n",
    "    Pk_LambdaCDM = np.zeros(len(kk)) # P(k) in (Mpc/h)**3\n",
    "    h = LambdaCDM_settings['h'] # get reduced Hubble for conversions to 1/Mpc\n",
    "\n",
    "    for i,k in enumerate(kk):\n",
    "        Pk_LambdaCDM[i] = LambdaCDM.pk(k*h,0.)*h**3 # function .pk(k,z)\n",
    "\n",
    "    \n",
    "    kk= np.logspace(-4,np.log10(3),1000) # k in h/Mpc\n",
    "    Pk_neutrino = np.zeros(len(kk))\n",
    "\n",
    "    for i,k in enumerate(kk):\n",
    "        Pk_neutrino[i] = neutrino.pk(k*h,0.)*h**3 # function .pk(k,z)\n",
    "        \n",
    "    plt.figure()\n",
    "    plt.loglog(kk,Pk_LambdaCDM)\n",
    "    plt.loglog(kk,Pk_neutrino,linestyle='--')\n",
    "    plt.xlabel(r'$k \\,\\,\\,\\, [h/\\mathrm{Mpc}]$')\n",
    "    plt.ylabel(r'$P(k) \\,\\,\\,\\, [\\mathrm{Mpc}/h]^3$')\n",
    "    plt.show()\n",
    "\n",
    "\n",
    "    plt.figure()\n",
    "    plt.semilogx(kk,Pk_neutrino/Pk_LambdaCDM-1)\n",
    "    plt.xlabel(r'$k [h /\\mathrm{Mpc}]$')\n",
    "    plt.ylabel(r'$P(k)^\\nu/P(k)-1$')\n",
    "    plt.show()\n",
    "    \n",
    "    \n",
    "   \n",
    "    return neutrino_results,LambdaCDM_results"
   ]
  },
  {
   "cell_type": "code",
   "execution_count": 19,
   "id": "6cfd82c8",
   "metadata": {},
   "outputs": [
    {
     "data": {
      "image/png": "[encoded data removed]",
      "text/plain": [
       "<Figure size 432x288 with 1 Axes>"
      ]
     },
     "metadata": {
      "needs_background": "light"
     },
     "output_type": "display_data"
    },
    {
     "ename": "CosmoComputationError",
     "evalue": "\n\nError in Class: thermodynamics_init(L:344) :error in thermodynamics_helium_from_bbn(ppr,pba,pth);\n=>thermodynamics_helium_from_bbn(L:625) :condition (DeltaNeff > deltaN[num_deltaN-1]) is true; You have asked for an unrealistic high value of Delta N_eff = 2.680012e+01. The corresponding value of the primordial helium fraction cannot be found in the interpolation table. If you really want this value, you should fix YHe to a given value rather than to BBN",
     "output_type": "error",
     "traceback": [
      "\u001b[0;31m---------------------------------------------------------------------------\u001b[0m",
      "\u001b[0;31mCosmoComputationError\u001b[0m                     Traceback (most recent call last)",
      "Input \u001b[0;32mIn [19]\u001b[0m, in \u001b[0;36m<cell line: 1>\u001b[0;34m()\u001b[0m\n\u001b[0;32m----> 1\u001b[0m \u001b[43mv_masses_nontherm_no_cdf\u001b[49m\u001b[43m(\u001b[49m\u001b[38;5;241;43m0.1\u001b[39;49m\u001b[43m,\u001b[49m\u001b[38;5;28;43;01mTrue\u001b[39;49;00m\u001b[43m,\u001b[49m\u001b[38;5;124;43m\"\u001b[39;49m\u001b[38;5;124;43mmass-300-life-0.584.npz\u001b[39;49m\u001b[38;5;124;43m\"\u001b[39;49m\u001b[43m,\u001b[49m\u001b[38;5;241;43m4\u001b[39;49m\u001b[43m,\u001b[49m\u001b[38;5;28;43;01mTrue\u001b[39;49;00m\u001b[43m)\u001b[49m\n",
      "Input \u001b[0;32mIn [15]\u001b[0m, in \u001b[0;36mv_masses_nontherm_no_cdf\u001b[0;34m(m_small, normal, filename, poly_degree, plot)\u001b[0m\n\u001b[1;32m     47\u001b[0m neutrino\u001b[38;5;241m.\u001b[39mset(LambdaCDM_settings)\n\u001b[1;32m     48\u001b[0m neutrino\u001b[38;5;241m.\u001b[39mset(neutrino_mass_settings)\n\u001b[0;32m---> 49\u001b[0m \u001b[43mneutrino\u001b[49m\u001b[38;5;241;43m.\u001b[39;49m\u001b[43mcompute\u001b[49m\u001b[43m(\u001b[49m\u001b[43m)\u001b[49m\n\u001b[1;32m     51\u001b[0m neutrino_results \u001b[38;5;241m=\u001b[39m NW\u001b[38;5;241m.\u001b[39mdict_results(neutrino)\n\u001b[1;32m     52\u001b[0m N_eff \u001b[38;5;241m=\u001b[39m neutrino_results[\u001b[38;5;124m'\u001b[39m\u001b[38;5;124mNeff\u001b[39m\u001b[38;5;124m'\u001b[39m]   \n",
      "File \u001b[0;32mclassy.pyx:389\u001b[0m, in \u001b[0;36mclassy.Class.compute\u001b[0;34m()\u001b[0m\n",
      "\u001b[0;31mCosmoComputationError\u001b[0m: \n\nError in Class: thermodynamics_init(L:344) :error in thermodynamics_helium_from_bbn(ppr,pba,pth);\n=>thermodynamics_helium_from_bbn(L:625) :condition (DeltaNeff > deltaN[num_deltaN-1]) is true; You have asked for an unrealistic high value of Delta N_eff = 2.680012e+01. The corresponding value of the primordial helium fraction cannot be found in the interpolation table. If you really want this value, you should fix YHe to a given value rather than to BBN"
     ]
    }
   ],
   "source": [
    "v_masses_nontherm_no_cdf(0.1,True,\"mass-300-life-0.584.npz\",4,True)"
   ]
  },
  {
   "cell_type": "code",
   "execution_count": null,
   "id": "b13c53aa",
   "metadata": {},
   "outputs": [],
   "source": []
  }
 ],
 "metadata": {
  "kernelspec": {
   "display_name": "Python 3 (ipykernel)",
   "language": "python",
   "name": "python3"
  },
  "language_info": {
   "codemirror_mode": {
    "name": "ipython",
    "version": 3
   },
   "file_extension": ".py",
   "mimetype": "text/x-python",
   "name": "python",
   "nbconvert_exporter": "python",
   "pygments_lexer": "ipython3",
   "version": "3.9.12"
  }
 },
 "nbformat": 4,
 "nbformat_minor": 5
}
