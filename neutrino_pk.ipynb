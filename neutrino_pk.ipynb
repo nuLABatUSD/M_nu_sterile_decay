{
 "cells": [
  {
   "cell_type": "code",
   "execution_count": 1,
   "metadata": {},
   "outputs": [],
   "source": [
    "%matplotlib inline\n",
    "import matplotlib.pyplot as plt\n",
    "import numpy as np\n",
    "from classy import Class"
   ]
  },
  {
   "cell_type": "code",
   "execution_count": 3,
   "metadata": {},
   "outputs": [],
   "source": [
    "LambdaCDM_settings = {'omega_b':0.0223828,\n",
    "                     'omega_cdm':0.1201075,\n",
    "                     'h':0.67810,\n",
    "                     'A_s':2.100549e-09,\n",
    "                     'n_s':0.9660499,\n",
    "                     'tau_reio':0.05430842,\n",
    "                     'output':'mPk',\n",
    "                     'P_k_max_1/Mpc':3.0,\n",
    "                     # The next line should be uncommented for higher precision (but significantly slower running)\n",
    "                     'ncdm_fluid_approximation':3,\n",
    "                     # You may uncomment this line to get more info on the ncdm sector from Class:\n",
    "                     'background_verbose':1\n",
    "                    }\n",
    "\n",
    "neutrino_mass_settings = {'N_ur':0.00441,\n",
    "                          'N_ncdm':3,\n",
    "                          'm_ncdm':'0.10,0.10,0.10'\n",
    "                         }"
   ]
  },
  {
   "cell_type": "code",
   "execution_count": 4,
   "metadata": {},
   "outputs": [
    {
     "data": {
      "text/plain": [
       "{'N_ur': 0.00441, 'N_ncdm': 3, 'm_ncdm': '0.10,0.10,0.10'}"
      ]
     },
     "execution_count": 4,
     "metadata": {},
     "output_type": "execute_result"
    }
   ],
   "source": [
    "neutrino_mass_settings"
   ]
  },
  {
   "cell_type": "code",
   "execution_count": 5,
   "metadata": {},
   "outputs": [],
   "source": [
    "LambdaCDM = Class()\n",
    "LambdaCDM.set(LambdaCDM_settings)\n",
    "LambdaCDM.compute()\n",
    "\n",
    "neutrino = Class()\n",
    "neutrino.set(LambdaCDM_settings)\n",
    "neutrino.set(neutrino_mass_settings)\n",
    "neutrino.compute()"
   ]
  },
  {
   "cell_type": "code",
   "execution_count": 6,
   "metadata": {},
   "outputs": [],
   "source": [
    "kk = np.logspace(-4,np.log10(3),1000) # k in h/Mpc\n",
    "\n",
    "Pk_LambdaCDM = np.zeros(len(kk)) # P(k) in (Mpc/h)**3\n",
    "Pk_neutrino = np.zeros(len(kk))\n",
    "\n",
    "h = LambdaCDM_settings['h'] # get reduced Hubble for conversions to 1/Mpc\n",
    "\n",
    "for i,k in enumerate(kk):\n",
    "    Pk_LambdaCDM[i] = LambdaCDM.pk(k*h,0.)*h**3 # function .pk(k,z)\n",
    "    Pk_neutrino[i] = neutrino.pk(k*h,0.)*h**3 # function .pk(k,z)\n"
   ]
  },
  {
   "cell_type": "code",
   "execution_count": 7,
   "metadata": {},
   "outputs": [
    {
     "data": {
      "image/png": "[encoded data removed]",
      "text/plain": [
       "<Figure size 432x288 with 1 Axes>"
      ]
     },
     "metadata": {
      "needs_background": "light"
     },
     "output_type": "display_data"
    }
   ],
   "source": [
    "plt.figure()\n",
    "plt.loglog(kk,Pk_LambdaCDM)\n",
    "plt.loglog(kk,Pk_neutrino,linestyle='--')\n",
    "plt.xlabel(r'$k \\,\\,\\,\\, [h/\\mathrm{Mpc}]$')\n",
    "plt.ylabel(r'$P(k) \\,\\,\\,\\, [\\mathrm{Mpc}/h]^3$')\n",
    "plt.show()"
   ]
  },
  {
   "cell_type": "code",
   "execution_count": 8,
   "metadata": {},
   "outputs": [
    {
     "data": {
      "image/png": "[encoded data removed]",
      "text/plain": [
       "<Figure size 432x288 with 1 Axes>"
      ]
     },
     "metadata": {
      "needs_background": "light"
     },
     "output_type": "display_data"
    }
   ],
   "source": [
    "plt.figure()\n",
    "plt.semilogx(kk,Pk_neutrino/Pk_LambdaCDM-1)\n",
    "plt.xlabel(r'$k [h /\\mathrm{Mpc}]$')\n",
    "plt.ylabel(r'$P(k)^\\nu/P(k)-1$')\n",
    "plt.show()"
   ]
  },
  {
   "cell_type": "code",
   "execution_count": 9,
   "metadata": {},
   "outputs": [],
   "source": [
    "def dict_results(spectrum):\n",
    "    Dict_S = {'age': spectrum.age(),\n",
    "        'Neff': spectrum.Neff(),\n",
    "        'omega_b': spectrum.omega_b(),\n",
    "        'Omega0_cdm':spectrum.Omega0_cdm(),\n",
    "        'h':spectrum.h(),\n",
    "        'Omega0_k':spectrum.Omega0_k(),\n",
    "        'Omega0_m': spectrum.Omega0_m(),\n",
    "        'Omega_b': spectrum.Omega_b(),\n",
    "        'Omega_g': spectrum.Omega_g(),\n",
    "        'Omega_lambda': spectrum.Omega_Lambda(),\n",
    "        'Omega_m': spectrum.Omega_m(),\n",
    "        'Omega_r': spectrum.Omega_r(),\n",
    "        'rs_drag': spectrum.rs_drag(),\n",
    "        'Sigma8': spectrum.sigma8(),\n",
    "        'Sigma8_cb': spectrum.sigma8_cb(),\n",
    "        'T_cmb': spectrum.T_cmb(),\n",
    "        'theta_s_100': spectrum.theta_s_100(),\n",
    "        'theta_star_100': spectrum.theta_star_100(),  \n",
    "        'n_s':spectrum.n_s(),\n",
    "        'tau_reio':spectrum.tau_reio()\n",
    "         }\n",
    "    return Dict_S\n"
   ]
  },
  {
   "cell_type": "code",
   "execution_count": 12,
   "metadata": {},
   "outputs": [],
   "source": [
    "dict_n = dict_results(neutrino)\n",
    "dict_L = dict_results(LambdaCDM)"
   ]
  },
  {
   "cell_type": "code",
   "execution_count": 13,
   "metadata": {},
   "outputs": [
    {
     "name": "stdout",
     "output_type": "stream",
     "text": [
      "{'age': 13.686306522671936, 'Neff': 3.0440046643602656, 'omega_b': 0.022382800000000005, 'Omega0_cdm': 0.26120569325001164, 'h': 0.6781, 'Omega0_k': 0.0, 'Omega0_m': 0.31688749481886624, 'Omega_b': 0.04867734979810887, 'Omega_g': 5.378150968509927e-05, 'Omega_lambda': 0.6830584134315361, 'Omega_m': 0.31688749481886624, 'Omega_r': 5.4091749597715606e-05, 'rs_drag': 147.01363518534924, 'Sigma8': 0.7655787141490327, 'Sigma8_cb': 0.7806957045246775, 'T_cmb': 2.7255, 'theta_s_100': 1.0497110913535503, 'theta_star_100': 1.0520662868125528, 'n_s': 0.9660499, 'tau_reio': 0.05430842}\n"
     ]
    }
   ],
   "source": [
    "print(dict_n)"
   ]
  },
  {
   "cell_type": "code",
   "execution_count": 14,
   "metadata": {},
   "outputs": [
    {
     "name": "stdout",
     "output_type": "stream",
     "text": [
      "{'age': 13.770597733785934, 'Neff': 3.0439999999999996, 'omega_b': 0.022382800000000005, 'Omega0_cdm': 0.26120569325001164, 'h': 0.6781, 'Omega0_k': 0.0, 'Omega0_m': 0.30988304304812053, 'Omega_b': 0.04867734979810887, 'Omega_g': 5.378150968509927e-05, 'Omega_lambda': 0.6900259954953076, 'Omega_m': 0.30988304304812053, 'Omega_r': 9.09614565717917e-05, 'rs_drag': 147.0713808247393, 'Sigma8': 0.825055787187691, 'Sigma8_cb': 0.825055787187691, 'T_cmb': 2.7255, 'theta_s_100': 1.0417961947906842, 'theta_star_100': 1.0441437219459013, 'n_s': 0.9660499, 'tau_reio': 0.05430842}\n"
     ]
    }
   ],
   "source": [
    "print(dict_L)"
   ]
  },
  {
   "cell_type": "code",
   "execution_count": 15,
   "metadata": {},
   "outputs": [
    {
     "name": "stdout",
     "output_type": "stream",
     "text": [
      "13.686306522671936\n"
     ]
    }
   ],
   "source": [
    "print(dict_n['age'])"
   ]
  },
  {
   "cell_type": "code",
   "execution_count": null,
   "metadata": {},
   "outputs": [],
   "source": []
  }
 ],
 "metadata": {
  "kernelspec": {
   "display_name": "Python 3 (ipykernel)",
   "language": "python",
   "name": "python3"
  },
  "language_info": {
   "codemirror_mode": {
    "name": "ipython",
    "version": 3
   },
   "file_extension": ".py",
   "mimetype": "text/x-python",
   "name": "python",
   "nbconvert_exporter": "python",
   "pygments_lexer": "ipython3",
   "version": "3.9.7"
  }
 },
 "nbformat": 4,
 "nbformat_minor": 2
}
