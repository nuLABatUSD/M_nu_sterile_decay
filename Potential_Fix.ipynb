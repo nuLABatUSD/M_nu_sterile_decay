{
 "cells": [
  {
   "cell_type": "code",
   "execution_count": 1,
   "id": "26dfabed",
   "metadata": {},
   "outputs": [],
   "source": [
    "import numpy as np\n",
    "import matplotlib.pyplot as plt\n",
    "import numba as nb\n",
    "import FittingWorkCleaner as FWC\n",
    "import Neutrino_Work as NW\n",
    "from classy import Class"
   ]
  },
  {
   "cell_type": "code",
   "execution_count": 2,
   "id": "b526ab61",
   "metadata": {},
   "outputs": [],
   "source": [
    "data_1= np.load(\"mass-300-life-0.030.npz\", allow_pickle=True)\n",
    "f_actual = data_1['fe'][-1]\n",
    "e_actual = data_1['e'][-1]\n",
    "Neff_short = data_1['neff']\n",
    "\n",
    "data_2= np.load(\"mass-300-life-0.584.npz\", allow_pickle=True)\n",
    "f_actual_2 = data_2['fe'][-1]\n",
    "e_actual_2 = data_2['e'][-1]\n",
    "Neff_long = data_2['neff']\n",
    "\n",
    "\n",
    "data_file = np.load(\"test-fit.npz\", allow_pickle=True)\n",
    "e = data_file['eps']\n",
    "f = data_file['fe']\n",
    "\n",
    "\n",
    "data_file2 = np.load(\"test-fit2.npz\", allow_pickle=True)\n",
    "e2 = data_file2['eps']\n",
    "f2 = data_file2['fe']"
   ]
  },
  {
   "cell_type": "code",
   "execution_count": 3,
   "id": "c908c530",
   "metadata": {},
   "outputs": [],
   "source": [
    "alpha = 2 \n",
    "T,N,coeff = FWC.finale(e_actual_2,f_actual_2,4,False)\n",
    "A,B,C,D,E = coeff[0],coeff[1],coeff[2],coeff[3],coeff[4]\n",
    "af = data_2['scalefactors'][-1]\n",
    "tf = data_2['temp'][-1]\n",
    "T_ncdm = (1/(af*tf))\n",
    "k = len(e_actual_2)-15\n",
    "e_shorter = np.delete(e_actual_2,np.s_[-k:])\n",
    "\n",
    "\n",
    "\n",
    "k_prime = len(e_actual_2)-30\n",
    "e_prime = np.delete(e_actual_2,np.s_[-k_prime:])\n",
    "T_prime = T/alpha\n",
    "N_prime = N\n",
    "A_prime = A*(alpha)**4\n",
    "B_prime = B*(alpha)**3\n",
    "C_prime = C*(alpha)**2\n",
    "D_prime = D*(alpha)**1\n",
    "E_prime = E\n",
    "T_ncdm_p = T_ncdm*alpha"
   ]
  },
  {
   "cell_type": "code",
   "execution_count": 4,
   "id": "40383994",
   "metadata": {},
   "outputs": [],
   "source": [
    "def mimic(e,T,N,A,B,C,D,E,T_ncdm):\n",
    "    dn = np.zeros(len(e))\n",
    "    for i in range(len(e)):\n",
    "        dn[i] = (T_ncdm)**3*(2/((2*np.pi)**3))*((N/(np.exp(e[i]/T)+1))+np.exp(A*(e[i]**4)+B*(e[i]**3)+C*(e[i]**2)+D*e[i]+E))*4*((np.pi)**2)*(e[i]**2)\n",
    "    return dn \n",
    "\n",
    "    \n",
    "    "
   ]
  },
  {
   "cell_type": "code",
   "execution_count": 5,
   "id": "7c67fe46",
   "metadata": {},
   "outputs": [
    {
     "data": {
      "text/plain": [
       "array([0.        , 0.00217338, 0.00669215, 0.01119693, 0.0143855 ,\n",
       "       0.01588831, 0.01591205, 0.01489465, 0.01328313, 0.01143328,\n",
       "       0.0095872 , 0.00788779, 0.00640454, 0.00515839, 0.00414126])"
      ]
     },
     "execution_count": 5,
     "metadata": {},
     "output_type": "execute_result"
    }
   ],
   "source": [
    "mimic(e_shorter,T,N,A,B,C,D,E,T_ncdm)"
   ]
  },
  {
   "cell_type": "code",
   "execution_count": 6,
   "id": "79c4bc6e",
   "metadata": {},
   "outputs": [
    {
     "data": {
      "text/plain": [
       "array([0.        , 0.0133843 , 0.02877099, 0.03182411, 0.02656626,\n",
       "       0.0191744 , 0.01280909, 0.00828252, 0.00538967, 0.00366889,\n",
       "       0.00270059, 0.00218147, 0.00191556, 0.0017847 , 0.00172119,\n",
       "       0.00168788, 0.00166523, 0.00164355, 0.00161845, 0.00158833,\n",
       "       0.00155299, 0.00151287, 0.0014687 , 0.00142129, 0.00137144,\n",
       "       0.00131986, 0.00126722, 0.00121407, 0.0011609 , 0.00110811])"
      ]
     },
     "execution_count": 6,
     "metadata": {},
     "output_type": "execute_result"
    }
   ],
   "source": [
    "mimic(e_prime,T_prime,N_prime,A_prime,B_prime,C_prime,D_prime,E_prime,T_ncdm_p)"
   ]
  },
  {
   "cell_type": "code",
   "execution_count": 7,
   "id": "f3096ee8",
   "metadata": {},
   "outputs": [],
   "source": [
    "def larger_emax(filename,alpha_num):\n",
    "    alpha = alpha_num\n",
    "    \n",
    "    data_actual = np.load(filename, allow_pickle=True)\n",
    "    f = data_actual['fe'][-1]\n",
    "    e = data_actual['e'][-1]\n",
    "    \n",
    "    af = data_actual['scalefactors'][-1]\n",
    "    tf = data_actual['temp'][-1]\n",
    "    value = 1/(af*tf) \n",
    "    \n",
    "    T,N,coefficients = FWC.finale(e,f,4,False)\n",
    "    A,B,C,D,E = coefficients[0],coefficients[1],coefficients[2],coefficients[3],coefficients[4]\n",
    "    \n",
    "    T_p = T/alpha\n",
    "    N_p = N\n",
    "    A_p = A*(alpha)**4\n",
    "    B_p = B*(alpha)**3\n",
    "    C_p = C*(alpha)**2\n",
    "    D_p = D*(alpha)**1\n",
    "    E_p = E\n",
    "    value_p = value*alpha\n",
    "    \n",
    "    k = len(e)-15\n",
    "    e_shorter = np.delete(e,np.s_[-k:])\n",
    "    dn = mimic(e_shorter,T,N,A,B,C,D,E,value)\n",
    "    \n",
    "    \n",
    "    k_p = len(e)-30\n",
    "    e_p = np.delete(e,np.s_[-k_p:])\n",
    "    dn_p = mimic(e_p,T_p,N_p,A_p,B_p,C_p,D_p,E_p,value_p)\n",
    "    \n",
    "    \n",
    "    plt.figure()\n",
    "    plt.plot(e_shorter,dn,color=\"blue\")\n",
    "    plt.plot(e_p,dn_p,color='red')\n",
    "    plt.show\n",
    "    \n",
    "    \n",
    "    plt.figure()\n",
    "    plt.plot(alpha*e_p,dn_p,color='black')\n",
    "    plt.show\n",
    "    \n",
    "    "
   ]
  },
  {
   "cell_type": "code",
   "execution_count": 8,
   "id": "0c4e94d6",
   "metadata": {},
   "outputs": [
    {
     "data": {
      "image/png": "[encoded data removed]",
      "text/plain": [
       "<Figure size 432x288 with 1 Axes>"
      ]
     },
     "metadata": {
      "needs_background": "light"
     },
     "output_type": "display_data"
    },
    {
     "data": {
      "image/png": "[encoded data removed]",
      "text/plain": [
       "<Figure size 432x288 with 1 Axes>"
      ]
     },
     "metadata": {
      "needs_background": "light"
     },
     "output_type": "display_data"
    }
   ],
   "source": [
    "larger_emax(\"mass-300-life-0.584.npz\",2)"
   ]
  },
  {
   "cell_type": "code",
   "execution_count": 9,
   "id": "9c4e3c3b",
   "metadata": {},
   "outputs": [
    {
     "name": "stdout",
     "output_type": "stream",
     "text": [
      "0.606538950727753\n"
     ]
    }
   ],
   "source": [
    "actual_data= np.load(\"mass-300-life-0.030.npz\", allow_pickle=True)\n",
    "af = actual_data['scalefactors'][-1]\n",
    "tf = actual_data['temp'][-1]\n",
    "value = (1/(af*tf))\n",
    "print(value)"
   ]
  },
  {
   "cell_type": "code",
   "execution_count": 10,
   "id": "f87cd5ad",
   "metadata": {},
   "outputs": [],
   "source": [
    "def v_masses_nontherm_alpha(m_small, normal,filename,plot,file,Pk_graphs):\n",
    "    \n",
    "    #if normal is True, uses the normal hiearachy, If normal False, uses the inverted hiearachy.\n",
    "    #if plot is true, neutrino spectra is plotted. If false, spectra is not plotted. parameters returned in both \n",
    "    #if Pk_plots is true, then the matter power spectra plots are plotted. \n",
    "    \n",
    "    actual_data= np.load(filename, allow_pickle=True)\n",
    "    f_array = actual_data['fe'][-1]\n",
    "    e_array = actual_data['e'][-1]\n",
    "    alpha = 1\n",
    "    poly_degree = 4\n",
    "    \n",
    "    mass1,mass2,mass3 = NW.v_masses(m_small,normal)\n",
    "    \n",
    "    T_best,N_best,coefficients = FWC.finale(e_array,f_array,poly_degree,plot)\n",
    "    \n",
    "    params = '{},{},{},{},{},{},{}'.format(T_best/alpha,N_best,coefficients[0]*alpha**4,coefficients[1]*alpha**3,coefficients[2]*alpha**2,coefficients[3]*alpha,coefficients[4])\n",
    "    \n",
    "    af = actual_data['scalefactors'][-1]\n",
    "    tf = actual_data['temp'][-1]\n",
    "    value = (1/(af*tf))*alpha\n",
    "\n",
    "    \n",
    "    neutrino_mass_settings = {'N_ncdm':3,\n",
    "          'use_ncdm_psd_files': \"0,0,0\",\n",
    "          'm_ncdm': '{},{},{}'.format(mass1,mass2,mass3),\n",
    "          'T_ncdm':'{},{},{}'.format(value,value,value),\n",
    "          'ncdm_psd_parameters': params,\n",
    "          'N_ur': 0.0\n",
    "          }   \n",
    "    \n",
    "    LambdaCDM_settings = {'omega_b':0.0223828,\n",
    "                     #'omega_cdm':0.1201075,\n",
    "                     'h':0.67810,\n",
    "                     'A_s':2.100549e-09,\n",
    "                     'n_s':0.9660499,\n",
    "                     'tau_reio':0.05430842,\n",
    "                     'output':'mPk',\n",
    "                     'P_k_max_1/Mpc':3.0,\n",
    "                      'Omega_m':0.309883043,\n",
    "                     # The next line should be uncommented for higher precision (but significantly slower running)\n",
    "                     'ncdm_fluid_approximation':3,\n",
    "                     # You may uncomment this line to get more info on the ncdm sector from Class:\n",
    "                     'background_verbose':1,\n",
    "                    }\n",
    "\n",
    "    neutrino = Class()\n",
    "    neutrino.set(LambdaCDM_settings)\n",
    "    neutrino.set(neutrino_mass_settings)\n",
    "    neutrino.compute()\n",
    "\n",
    "    neutrino_results = NW.dict_results(neutrino)\n",
    "    N_eff = neutrino_results['Neff']   \n",
    "        \n",
    "    LambdaCDM_other = {'N_ur':'{},{},{}'.format(N_eff,N_eff,N_eff) #needed to get LambdaCDM Neff closer to model Neff\n",
    "                     }\n",
    "    \n",
    "    LambdaCDM = Class()\n",
    "    LambdaCDM.set(LambdaCDM_settings)\n",
    "    LambdaCDM.set(LambdaCDM_other)\n",
    "    LambdaCDM.compute()\n",
    "    \n",
    "    LambdaCDM_results = NW.dict_results(LambdaCDM)\n",
    "    \n",
    "    kk = np.logspace(-4,np.log10(3),1000) # k in h/Mpc\n",
    "    Pk_LambdaCDM = np.zeros(len(kk)) # P(k) in (Mpc/h)**3\n",
    "    h = LambdaCDM_settings['h'] # get reduced Hubble for conversions to 1/Mpc\n",
    "\n",
    "    for i,k in enumerate(kk):\n",
    "        Pk_LambdaCDM[i] = LambdaCDM.pk(k*h,0.)*h**3 # function .pk(k,z)\n",
    "\n",
    "    \n",
    "    kk= np.logspace(-4,np.log10(3),1000) # k in h/Mpc\n",
    "    Pk_neutrino = np.zeros(len(kk))\n",
    "\n",
    "    for i,k in enumerate(kk):\n",
    "        Pk_neutrino[i] = neutrino.pk(k*h,0.)*h**3 # function .pk(k,z)\n",
    "        \n",
    "        \n",
    "    np.savez(file, n_results = neutrino_results, L_results = LambdaCDM_results, k_n_array = kk, Pk_n_array = Pk_neutrino, LambdaCDM_array = Pk_LambdaCDM, truth_value = normal, v1 = mass1, v2 = mass2, v3 = mass3, small_mass = m_small, sum_n = mass1+mass2+mass3, alpha_value = alpha)\n",
    "\n",
    "        \n",
    "    if Pk_graphs:\n",
    "        plt.figure()\n",
    "        plt.loglog(kk,Pk_LambdaCDM)\n",
    "        plt.loglog(kk,Pk_neutrino,linestyle='--')\n",
    "        plt.xlabel(r'$k \\,\\,\\,\\, [h/\\mathrm{Mpc}]$')\n",
    "        plt.ylabel(r'$P(k) \\,\\,\\,\\, [\\mathrm{Mpc}/h]^3$')\n",
    "        plt.show()\n",
    "\n",
    "\n",
    "        plt.figure()\n",
    "        plt.semilogx(kk,Pk_neutrino/Pk_LambdaCDM-1)\n",
    "        plt.xlabel(r'$k [h /\\mathrm{Mpc}]$')\n",
    "        plt.ylabel(r'$P(k)^\\nu/P(k)-1$')\n",
    "        plt.show()\n",
    "        \n",
    "        return neutrino_results,LambdaCDM_results\n",
    "    \n",
    "    else: \n",
    "        return neutrino_results,LambdaCDM_results\n",
    "        \n",
    "\n",
    "    \n",
    "    \n",
    "   \n",
    "    "
   ]
  },
  {
   "cell_type": "code",
   "execution_count": 11,
   "id": "0a0d8790",
   "metadata": {},
   "outputs": [
    {
     "data": {
      "image/png": "[encoded data removed]",
      "text/plain": [
       "<Figure size 432x288 with 1 Axes>"
      ]
     },
     "metadata": {
      "needs_background": "light"
     },
     "output_type": "display_data"
    },
    {
     "data": {
      "image/png": "[encoded data removed]",
      "text/plain": [
       "<Figure size 432x288 with 1 Axes>"
      ]
     },
     "metadata": {
      "needs_background": "light"
     },
     "output_type": "display_data"
    },
    {
     "data": {
      "text/plain": [
       "({'age': 13.771976023813258,\n",
       "  'Neff': 3.0095756649721483,\n",
       "  'omega_b': 0.022382800000000005,\n",
       "  'Omega0_cdm': 0.2598414844150295,\n",
       "  'h': 0.6781,\n",
       "  'Omega0_k': 0.0,\n",
       "  'Omega0_m': 0.30987536538719895,\n",
       "  'Omega_b': 0.04867734979810887,\n",
       "  'Omega_g': 5.378150968509927e-05,\n",
       "  'Omega_lambda': 0.6900631754903148,\n",
       "  'Omega_m': 0.30987536538719895,\n",
       "  'Omega_r': 6.145912248617269e-05,\n",
       "  'rs_drag': 147.40637580060178,\n",
       "  'Sigma8': 0.8135462595496337,\n",
       "  'Sigma8_cb': 0.8169815488784717,\n",
       "  'T_cmb': 2.7255,\n",
       "  'theta_s_100': 1.043754111062179,\n",
       "  'theta_star_100': 1.04611419277761,\n",
       "  'n_s': 0.9660499,\n",
       "  'tau_reio': 0.05430842},\n",
       " {'age': 13.770623072670812,\n",
       "  'Neff': 3.0095756649721492,\n",
       "  'omega_b': 0.022382800000000005,\n",
       "  'Omega0_cdm': 0.26120569320189113,\n",
       "  'h': 0.6781,\n",
       "  'Omega0_k': 0.0,\n",
       "  'Omega0_m': 0.30988304299999997,\n",
       "  'Omega_b': 0.04867734979810887,\n",
       "  'Omega_g': 5.378150968509927e-05,\n",
       "  'Omega_lambda': 0.69002641600826,\n",
       "  'Omega_m': 0.30988304299999997,\n",
       "  'Omega_r': 9.054099174000942e-05,\n",
       "  'rs_drag': 147.24485195386828,\n",
       "  'Sigma8': 0.8272446617807587,\n",
       "  'Sigma8_cb': 0.8272446617807587,\n",
       "  'T_cmb': 2.7255,\n",
       "  'theta_s_100': 1.0430155907271936,\n",
       "  'theta_star_100': 1.0453666148067324,\n",
       "  'n_s': 0.9660499,\n",
       "  'tau_reio': 0.05430842})"
      ]
     },
     "execution_count": 11,
     "metadata": {},
     "output_type": "execute_result"
    }
   ],
   "source": [
    "v_masses_nontherm_alpha(0.001,True,\"mass-300-life-0.030.npz\",False,\"test2_dontkeep\",True)"
   ]
  },
  {
   "cell_type": "code",
   "execution_count": 12,
   "id": "bde11d15",
   "metadata": {},
   "outputs": [
    {
     "data": {
      "image/png": "[encoded data removed]",
      "text/plain": [
       "<Figure size 432x288 with 1 Axes>"
      ]
     },
     "metadata": {
      "needs_background": "light"
     },
     "output_type": "display_data"
    },
    {
     "ename": "TypeError",
     "evalue": "argument of type 'NoneType' is not iterable",
     "output_type": "error",
     "traceback": [
      "\u001b[0;31m---------------------------------------------------------------------------\u001b[0m",
      "\u001b[0;31mParseException\u001b[0m                            Traceback (most recent call last)",
      "File \u001b[0;32m~/opt/anaconda3/lib/python3.9/site-packages/pyparsing/core.py:887\u001b[0m, in \u001b[0;36mParserElement._parseCache\u001b[0;34m(self, instring, loc, doActions, callPreParse)\u001b[0m\n\u001b[1;32m    886\u001b[0m \u001b[38;5;28;01mtry\u001b[39;00m:\n\u001b[0;32m--> 887\u001b[0m     value \u001b[38;5;241m=\u001b[39m \u001b[38;5;28;43mself\u001b[39;49m\u001b[38;5;241;43m.\u001b[39;49m\u001b[43m_parseNoCache\u001b[49m\u001b[43m(\u001b[49m\u001b[43minstring\u001b[49m\u001b[43m,\u001b[49m\u001b[43m \u001b[49m\u001b[43mloc\u001b[49m\u001b[43m,\u001b[49m\u001b[43m \u001b[49m\u001b[43mdoActions\u001b[49m\u001b[43m,\u001b[49m\u001b[43m \u001b[49m\u001b[43mcallPreParse\u001b[49m\u001b[43m)\u001b[49m\n\u001b[1;32m    888\u001b[0m \u001b[38;5;28;01mexcept\u001b[39;00m ParseBaseException \u001b[38;5;28;01mas\u001b[39;00m pe:\n\u001b[1;32m    889\u001b[0m     \u001b[38;5;66;03m# cache a copy of the exception, without the traceback\u001b[39;00m\n",
      "File \u001b[0;32m~/opt/anaconda3/lib/python3.9/site-packages/pyparsing/core.py:787\u001b[0m, in \u001b[0;36mParserElement._parseNoCache\u001b[0;34m(self, instring, loc, doActions, callPreParse)\u001b[0m\n\u001b[1;32m    786\u001b[0m \u001b[38;5;28;01mtry\u001b[39;00m:\n\u001b[0;32m--> 787\u001b[0m     loc, tokens \u001b[38;5;241m=\u001b[39m \u001b[38;5;28;43mself\u001b[39;49m\u001b[38;5;241;43m.\u001b[39;49m\u001b[43mparseImpl\u001b[49m\u001b[43m(\u001b[49m\u001b[43minstring\u001b[49m\u001b[43m,\u001b[49m\u001b[43m \u001b[49m\u001b[43mpreloc\u001b[49m\u001b[43m,\u001b[49m\u001b[43m \u001b[49m\u001b[43mdoActions\u001b[49m\u001b[43m)\u001b[49m\n\u001b[1;32m    788\u001b[0m \u001b[38;5;28;01mexcept\u001b[39;00m \u001b[38;5;167;01mIndexError\u001b[39;00m:\n",
      "File \u001b[0;32m~/opt/anaconda3/lib/python3.9/site-packages/pyparsing/core.py:3780\u001b[0m, in \u001b[0;36mAnd.parseImpl\u001b[0;34m(self, instring, loc, doActions)\u001b[0m\n\u001b[1;32m   3777\u001b[0m \u001b[38;5;28;01mdef\u001b[39;00m \u001b[38;5;21mparseImpl\u001b[39m(\u001b[38;5;28mself\u001b[39m, instring, loc, doActions\u001b[38;5;241m=\u001b[39m\u001b[38;5;28;01mTrue\u001b[39;00m):\n\u001b[1;32m   3778\u001b[0m     \u001b[38;5;66;03m# pass False as callPreParse arg to _parse for first element, since we already\u001b[39;00m\n\u001b[1;32m   3779\u001b[0m     \u001b[38;5;66;03m# pre-parsed the string as part of our And pre-parsing\u001b[39;00m\n\u001b[0;32m-> 3780\u001b[0m     loc, resultlist \u001b[38;5;241m=\u001b[39m \u001b[38;5;28;43mself\u001b[39;49m\u001b[38;5;241;43m.\u001b[39;49m\u001b[43mexprs\u001b[49m\u001b[43m[\u001b[49m\u001b[38;5;241;43m0\u001b[39;49m\u001b[43m]\u001b[49m\u001b[38;5;241;43m.\u001b[39;49m\u001b[43m_parse\u001b[49m\u001b[43m(\u001b[49m\n\u001b[1;32m   3781\u001b[0m \u001b[43m        \u001b[49m\u001b[43minstring\u001b[49m\u001b[43m,\u001b[49m\u001b[43m \u001b[49m\u001b[43mloc\u001b[49m\u001b[43m,\u001b[49m\u001b[43m \u001b[49m\u001b[43mdoActions\u001b[49m\u001b[43m,\u001b[49m\u001b[43m \u001b[49m\u001b[43mcallPreParse\u001b[49m\u001b[38;5;241;43m=\u001b[39;49m\u001b[38;5;28;43;01mFalse\u001b[39;49;00m\n\u001b[1;32m   3782\u001b[0m \u001b[43m    \u001b[49m\u001b[43m)\u001b[49m\n\u001b[1;32m   3783\u001b[0m     errorStop \u001b[38;5;241m=\u001b[39m \u001b[38;5;28;01mFalse\u001b[39;00m\n",
      "File \u001b[0;32m~/opt/anaconda3/lib/python3.9/site-packages/pyparsing/core.py:887\u001b[0m, in \u001b[0;36mParserElement._parseCache\u001b[0;34m(self, instring, loc, doActions, callPreParse)\u001b[0m\n\u001b[1;32m    886\u001b[0m \u001b[38;5;28;01mtry\u001b[39;00m:\n\u001b[0;32m--> 887\u001b[0m     value \u001b[38;5;241m=\u001b[39m \u001b[38;5;28;43mself\u001b[39;49m\u001b[38;5;241;43m.\u001b[39;49m\u001b[43m_parseNoCache\u001b[49m\u001b[43m(\u001b[49m\u001b[43minstring\u001b[49m\u001b[43m,\u001b[49m\u001b[43m \u001b[49m\u001b[43mloc\u001b[49m\u001b[43m,\u001b[49m\u001b[43m \u001b[49m\u001b[43mdoActions\u001b[49m\u001b[43m,\u001b[49m\u001b[43m \u001b[49m\u001b[43mcallPreParse\u001b[49m\u001b[43m)\u001b[49m\n\u001b[1;32m    888\u001b[0m \u001b[38;5;28;01mexcept\u001b[39;00m ParseBaseException \u001b[38;5;28;01mas\u001b[39;00m pe:\n\u001b[1;32m    889\u001b[0m     \u001b[38;5;66;03m# cache a copy of the exception, without the traceback\u001b[39;00m\n",
      "File \u001b[0;32m~/opt/anaconda3/lib/python3.9/site-packages/pyparsing/core.py:787\u001b[0m, in \u001b[0;36mParserElement._parseNoCache\u001b[0;34m(self, instring, loc, doActions, callPreParse)\u001b[0m\n\u001b[1;32m    786\u001b[0m \u001b[38;5;28;01mtry\u001b[39;00m:\n\u001b[0;32m--> 787\u001b[0m     loc, tokens \u001b[38;5;241m=\u001b[39m \u001b[38;5;28;43mself\u001b[39;49m\u001b[38;5;241;43m.\u001b[39;49m\u001b[43mparseImpl\u001b[49m\u001b[43m(\u001b[49m\u001b[43minstring\u001b[49m\u001b[43m,\u001b[49m\u001b[43m \u001b[49m\u001b[43mpreloc\u001b[49m\u001b[43m,\u001b[49m\u001b[43m \u001b[49m\u001b[43mdoActions\u001b[49m\u001b[43m)\u001b[49m\n\u001b[1;32m    788\u001b[0m \u001b[38;5;28;01mexcept\u001b[39;00m \u001b[38;5;167;01mIndexError\u001b[39;00m:\n",
      "File \u001b[0;32m~/opt/anaconda3/lib/python3.9/site-packages/pyparsing/core.py:4267\u001b[0m, in \u001b[0;36mParseElementEnhance.parseImpl\u001b[0;34m(self, instring, loc, doActions)\u001b[0m\n\u001b[1;32m   4266\u001b[0m \u001b[38;5;28;01mif\u001b[39;00m \u001b[38;5;28mself\u001b[39m\u001b[38;5;241m.\u001b[39mexpr \u001b[38;5;129;01mis\u001b[39;00m \u001b[38;5;129;01mnot\u001b[39;00m \u001b[38;5;28;01mNone\u001b[39;00m:\n\u001b[0;32m-> 4267\u001b[0m     \u001b[38;5;28;01mreturn\u001b[39;00m \u001b[38;5;28;43mself\u001b[39;49m\u001b[38;5;241;43m.\u001b[39;49m\u001b[43mexpr\u001b[49m\u001b[38;5;241;43m.\u001b[39;49m\u001b[43m_parse\u001b[49m\u001b[43m(\u001b[49m\u001b[43minstring\u001b[49m\u001b[43m,\u001b[49m\u001b[43m \u001b[49m\u001b[43mloc\u001b[49m\u001b[43m,\u001b[49m\u001b[43m \u001b[49m\u001b[43mdoActions\u001b[49m\u001b[43m,\u001b[49m\u001b[43m \u001b[49m\u001b[43mcallPreParse\u001b[49m\u001b[38;5;241;43m=\u001b[39;49m\u001b[38;5;28;43;01mFalse\u001b[39;49;00m\u001b[43m)\u001b[49m\n\u001b[1;32m   4268\u001b[0m \u001b[38;5;28;01melse\u001b[39;00m:\n",
      "File \u001b[0;32m~/opt/anaconda3/lib/python3.9/site-packages/pyparsing/core.py:910\u001b[0m, in \u001b[0;36mParserElement._parseCache\u001b[0;34m(self, instring, loc, doActions, callPreParse)\u001b[0m\n\u001b[1;32m    909\u001b[0m             \u001b[38;5;28;01mpass\u001b[39;00m\n\u001b[0;32m--> 910\u001b[0m     \u001b[38;5;28;01mraise\u001b[39;00m value\n\u001b[1;32m    912\u001b[0m loc_, result, endloc \u001b[38;5;241m=\u001b[39m value[\u001b[38;5;241m0\u001b[39m], value[\u001b[38;5;241m1\u001b[39m]\u001b[38;5;241m.\u001b[39mcopy(), value[\u001b[38;5;241m2\u001b[39m]\n",
      "\u001b[0;31mParseException\u001b[0m: Expected '\\\\', found end of text  (at char 21), (line:1, col:22)",
      "\nDuring handling of the above exception, another exception occurred:\n",
      "\u001b[0;31mTypeError\u001b[0m                                 Traceback (most recent call last)",
      "File \u001b[0;32mclassy.pyx:208\u001b[0m, in \u001b[0;36mclassy.Class.struct_cleanup\u001b[0;34m()\u001b[0m\n",
      "\u001b[0;31mTypeError\u001b[0m: argument of type 'NoneType' is not iterable"
     ]
    },
    {
     "name": "stderr",
     "output_type": "stream",
     "text": [
      "Exception ignored in: 'classy.Class.__dealloc__'\n",
      "Traceback (most recent call last):\n",
      "  File \"classy.pyx\", line 208, in classy.Class.struct_cleanup\n",
      "TypeError: argument of type 'NoneType' is not iterable\n"
     ]
    },
    {
     "ename": "TypeError",
     "evalue": "argument of type 'NoneType' is not iterable",
     "output_type": "error",
     "traceback": [
      "\u001b[0;31m---------------------------------------------------------------------------\u001b[0m",
      "\u001b[0;31mParseException\u001b[0m                            Traceback (most recent call last)",
      "File \u001b[0;32m~/opt/anaconda3/lib/python3.9/site-packages/pyparsing/core.py:887\u001b[0m, in \u001b[0;36mParserElement._parseCache\u001b[0;34m(self, instring, loc, doActions, callPreParse)\u001b[0m\n\u001b[1;32m    886\u001b[0m \u001b[38;5;28;01mtry\u001b[39;00m:\n\u001b[0;32m--> 887\u001b[0m     value \u001b[38;5;241m=\u001b[39m \u001b[38;5;28;43mself\u001b[39;49m\u001b[38;5;241;43m.\u001b[39;49m\u001b[43m_parseNoCache\u001b[49m\u001b[43m(\u001b[49m\u001b[43minstring\u001b[49m\u001b[43m,\u001b[49m\u001b[43m \u001b[49m\u001b[43mloc\u001b[49m\u001b[43m,\u001b[49m\u001b[43m \u001b[49m\u001b[43mdoActions\u001b[49m\u001b[43m,\u001b[49m\u001b[43m \u001b[49m\u001b[43mcallPreParse\u001b[49m\u001b[43m)\u001b[49m\n\u001b[1;32m    888\u001b[0m \u001b[38;5;28;01mexcept\u001b[39;00m ParseBaseException \u001b[38;5;28;01mas\u001b[39;00m pe:\n\u001b[1;32m    889\u001b[0m     \u001b[38;5;66;03m# cache a copy of the exception, without the traceback\u001b[39;00m\n",
      "File \u001b[0;32m~/opt/anaconda3/lib/python3.9/site-packages/pyparsing/core.py:787\u001b[0m, in \u001b[0;36mParserElement._parseNoCache\u001b[0;34m(self, instring, loc, doActions, callPreParse)\u001b[0m\n\u001b[1;32m    786\u001b[0m \u001b[38;5;28;01mtry\u001b[39;00m:\n\u001b[0;32m--> 787\u001b[0m     loc, tokens \u001b[38;5;241m=\u001b[39m \u001b[38;5;28;43mself\u001b[39;49m\u001b[38;5;241;43m.\u001b[39;49m\u001b[43mparseImpl\u001b[49m\u001b[43m(\u001b[49m\u001b[43minstring\u001b[49m\u001b[43m,\u001b[49m\u001b[43m \u001b[49m\u001b[43mpreloc\u001b[49m\u001b[43m,\u001b[49m\u001b[43m \u001b[49m\u001b[43mdoActions\u001b[49m\u001b[43m)\u001b[49m\n\u001b[1;32m    788\u001b[0m \u001b[38;5;28;01mexcept\u001b[39;00m \u001b[38;5;167;01mIndexError\u001b[39;00m:\n",
      "File \u001b[0;32m~/opt/anaconda3/lib/python3.9/site-packages/pyparsing/core.py:3780\u001b[0m, in \u001b[0;36mAnd.parseImpl\u001b[0;34m(self, instring, loc, doActions)\u001b[0m\n\u001b[1;32m   3777\u001b[0m \u001b[38;5;28;01mdef\u001b[39;00m \u001b[38;5;21mparseImpl\u001b[39m(\u001b[38;5;28mself\u001b[39m, instring, loc, doActions\u001b[38;5;241m=\u001b[39m\u001b[38;5;28;01mTrue\u001b[39;00m):\n\u001b[1;32m   3778\u001b[0m     \u001b[38;5;66;03m# pass False as callPreParse arg to _parse for first element, since we already\u001b[39;00m\n\u001b[1;32m   3779\u001b[0m     \u001b[38;5;66;03m# pre-parsed the string as part of our And pre-parsing\u001b[39;00m\n\u001b[0;32m-> 3780\u001b[0m     loc, resultlist \u001b[38;5;241m=\u001b[39m \u001b[38;5;28;43mself\u001b[39;49m\u001b[38;5;241;43m.\u001b[39;49m\u001b[43mexprs\u001b[49m\u001b[43m[\u001b[49m\u001b[38;5;241;43m0\u001b[39;49m\u001b[43m]\u001b[49m\u001b[38;5;241;43m.\u001b[39;49m\u001b[43m_parse\u001b[49m\u001b[43m(\u001b[49m\n\u001b[1;32m   3781\u001b[0m \u001b[43m        \u001b[49m\u001b[43minstring\u001b[49m\u001b[43m,\u001b[49m\u001b[43m \u001b[49m\u001b[43mloc\u001b[49m\u001b[43m,\u001b[49m\u001b[43m \u001b[49m\u001b[43mdoActions\u001b[49m\u001b[43m,\u001b[49m\u001b[43m \u001b[49m\u001b[43mcallPreParse\u001b[49m\u001b[38;5;241;43m=\u001b[39;49m\u001b[38;5;28;43;01mFalse\u001b[39;49;00m\n\u001b[1;32m   3782\u001b[0m \u001b[43m    \u001b[49m\u001b[43m)\u001b[49m\n\u001b[1;32m   3783\u001b[0m     errorStop \u001b[38;5;241m=\u001b[39m \u001b[38;5;28;01mFalse\u001b[39;00m\n",
      "File \u001b[0;32m~/opt/anaconda3/lib/python3.9/site-packages/pyparsing/core.py:887\u001b[0m, in \u001b[0;36mParserElement._parseCache\u001b[0;34m(self, instring, loc, doActions, callPreParse)\u001b[0m\n\u001b[1;32m    886\u001b[0m \u001b[38;5;28;01mtry\u001b[39;00m:\n\u001b[0;32m--> 887\u001b[0m     value \u001b[38;5;241m=\u001b[39m \u001b[38;5;28;43mself\u001b[39;49m\u001b[38;5;241;43m.\u001b[39;49m\u001b[43m_parseNoCache\u001b[49m\u001b[43m(\u001b[49m\u001b[43minstring\u001b[49m\u001b[43m,\u001b[49m\u001b[43m \u001b[49m\u001b[43mloc\u001b[49m\u001b[43m,\u001b[49m\u001b[43m \u001b[49m\u001b[43mdoActions\u001b[49m\u001b[43m,\u001b[49m\u001b[43m \u001b[49m\u001b[43mcallPreParse\u001b[49m\u001b[43m)\u001b[49m\n\u001b[1;32m    888\u001b[0m \u001b[38;5;28;01mexcept\u001b[39;00m ParseBaseException \u001b[38;5;28;01mas\u001b[39;00m pe:\n\u001b[1;32m    889\u001b[0m     \u001b[38;5;66;03m# cache a copy of the exception, without the traceback\u001b[39;00m\n",
      "File \u001b[0;32m~/opt/anaconda3/lib/python3.9/site-packages/pyparsing/core.py:787\u001b[0m, in \u001b[0;36mParserElement._parseNoCache\u001b[0;34m(self, instring, loc, doActions, callPreParse)\u001b[0m\n\u001b[1;32m    786\u001b[0m \u001b[38;5;28;01mtry\u001b[39;00m:\n\u001b[0;32m--> 787\u001b[0m     loc, tokens \u001b[38;5;241m=\u001b[39m \u001b[38;5;28;43mself\u001b[39;49m\u001b[38;5;241;43m.\u001b[39;49m\u001b[43mparseImpl\u001b[49m\u001b[43m(\u001b[49m\u001b[43minstring\u001b[49m\u001b[43m,\u001b[49m\u001b[43m \u001b[49m\u001b[43mpreloc\u001b[49m\u001b[43m,\u001b[49m\u001b[43m \u001b[49m\u001b[43mdoActions\u001b[49m\u001b[43m)\u001b[49m\n\u001b[1;32m    788\u001b[0m \u001b[38;5;28;01mexcept\u001b[39;00m \u001b[38;5;167;01mIndexError\u001b[39;00m:\n",
      "File \u001b[0;32m~/opt/anaconda3/lib/python3.9/site-packages/pyparsing/core.py:4267\u001b[0m, in \u001b[0;36mParseElementEnhance.parseImpl\u001b[0;34m(self, instring, loc, doActions)\u001b[0m\n\u001b[1;32m   4266\u001b[0m \u001b[38;5;28;01mif\u001b[39;00m \u001b[38;5;28mself\u001b[39m\u001b[38;5;241m.\u001b[39mexpr \u001b[38;5;129;01mis\u001b[39;00m \u001b[38;5;129;01mnot\u001b[39;00m \u001b[38;5;28;01mNone\u001b[39;00m:\n\u001b[0;32m-> 4267\u001b[0m     \u001b[38;5;28;01mreturn\u001b[39;00m \u001b[38;5;28;43mself\u001b[39;49m\u001b[38;5;241;43m.\u001b[39;49m\u001b[43mexpr\u001b[49m\u001b[38;5;241;43m.\u001b[39;49m\u001b[43m_parse\u001b[49m\u001b[43m(\u001b[49m\u001b[43minstring\u001b[49m\u001b[43m,\u001b[49m\u001b[43m \u001b[49m\u001b[43mloc\u001b[49m\u001b[43m,\u001b[49m\u001b[43m \u001b[49m\u001b[43mdoActions\u001b[49m\u001b[43m,\u001b[49m\u001b[43m \u001b[49m\u001b[43mcallPreParse\u001b[49m\u001b[38;5;241;43m=\u001b[39;49m\u001b[38;5;28;43;01mFalse\u001b[39;49;00m\u001b[43m)\u001b[49m\n\u001b[1;32m   4268\u001b[0m \u001b[38;5;28;01melse\u001b[39;00m:\n",
      "File \u001b[0;32m~/opt/anaconda3/lib/python3.9/site-packages/pyparsing/core.py:910\u001b[0m, in \u001b[0;36mParserElement._parseCache\u001b[0;34m(self, instring, loc, doActions, callPreParse)\u001b[0m\n\u001b[1;32m    909\u001b[0m             \u001b[38;5;28;01mpass\u001b[39;00m\n\u001b[0;32m--> 910\u001b[0m     \u001b[38;5;28;01mraise\u001b[39;00m value\n\u001b[1;32m    912\u001b[0m loc_, result, endloc \u001b[38;5;241m=\u001b[39m value[\u001b[38;5;241m0\u001b[39m], value[\u001b[38;5;241m1\u001b[39m]\u001b[38;5;241m.\u001b[39mcopy(), value[\u001b[38;5;241m2\u001b[39m]\n",
      "\u001b[0;31mParseException\u001b[0m: Expected '\\\\', found end of text  (at char 21), (line:1, col:22)",
      "\nDuring handling of the above exception, another exception occurred:\n",
      "\u001b[0;31mTypeError\u001b[0m                                 Traceback (most recent call last)",
      "File \u001b[0;32mclassy.pyx:208\u001b[0m, in \u001b[0;36mclassy.Class.struct_cleanup\u001b[0;34m()\u001b[0m\n",
      "\u001b[0;31mTypeError\u001b[0m: argument of type 'NoneType' is not iterable"
     ]
    },
    {
     "name": "stderr",
     "output_type": "stream",
     "text": [
      "Exception ignored in: 'classy.Class.__dealloc__'\n",
      "Traceback (most recent call last):\n",
      "  File \"classy.pyx\", line 208, in classy.Class.struct_cleanup\n",
      "TypeError: argument of type 'NoneType' is not iterable\n"
     ]
    },
    {
     "data": {
      "image/png": "[encoded data removed]",
      "text/plain": [
       "<Figure size 432x288 with 1 Axes>"
      ]
     },
     "metadata": {
      "needs_background": "light"
     },
     "output_type": "display_data"
    },
    {
     "data": {
      "text/plain": [
       "({'age': 13.771660947587096,\n",
       "  'Neff': 3.046830470065545,\n",
       "  'omega_b': 0.022382800000000005,\n",
       "  'Omega0_cdm': 0.26053552089392945,\n",
       "  'h': 0.6781,\n",
       "  'Omega0_k': 0.0,\n",
       "  'Omega0_m': 0.3098683214068752,\n",
       "  'Omega_b': 0.04867734979810887,\n",
       "  'Omega_g': 5.378150968509927e-05,\n",
       "  'Omega_lambda': 0.6900631754903148,\n",
       "  'Omega_m': 0.3098683214068752,\n",
       "  'Omega_r': 6.850310280993543e-05,\n",
       "  'rs_drag': 147.13627149465097,\n",
       "  'Sigma8': 0.8188508493835178,\n",
       "  'Sigma8_cb': 0.8205461611037105,\n",
       "  'T_cmb': 2.7255,\n",
       "  'theta_s_100': 1.0420089013589395,\n",
       "  'theta_star_100': 1.0443605615847245,\n",
       "  'n_s': 0.9660499,\n",
       "  'tau_reio': 0.05430842},\n",
       " {'age': 13.770595650398606,\n",
       "  'Neff': 3.046830470065545,\n",
       "  'omega_b': 0.022382800000000005,\n",
       "  'Omega0_cdm': 0.26120569320189113,\n",
       "  'h': 0.6781,\n",
       "  'Omega0_k': 0.0,\n",
       "  'Omega0_m': 0.30988304299999997,\n",
       "  'Omega_b': 0.04867734979810887,\n",
       "  'Omega_g': 5.378150968509927e-05,\n",
       "  'Omega_lambda': 0.6900259609715732,\n",
       "  'Omega_m': 0.30988304299999997,\n",
       "  'Omega_r': 9.09960284268184e-05,\n",
       "  'rs_drag': 147.0571485908071,\n",
       "  'Sigma8': 0.8248762289679383,\n",
       "  'Sigma8_cb': 0.8248762289679383,\n",
       "  'T_cmb': 2.7255,\n",
       "  'theta_s_100': 1.0416961679727812,\n",
       "  'theta_star_100': 1.0440433025178673,\n",
       "  'n_s': 0.9660499,\n",
       "  'tau_reio': 0.05430842})"
      ]
     },
     "execution_count": 12,
     "metadata": {},
     "output_type": "execute_result"
    }
   ],
   "source": [
    "v_masses_nontherm_alpha(0.001,True,\"mass-300-life-0.584.npz\",False,\"newNeff\",True)"
   ]
  },
  {
   "cell_type": "code",
   "execution_count": 13,
   "id": "79144d7a",
   "metadata": {},
   "outputs": [],
   "source": [
    "def v_masses_therm(m_small, normal,saved_file,power_graphs):\n",
    "    \n",
    "    #if normal is True, uses the normal hiearachy, If normal False, uses the inverted hiearachy.\n",
    "    \n",
    "    mass1,mass2,mass3 = NW.v_masses(m_small,normal)\n",
    "    \n",
    "    T,N,A,B,C,D,E = 1,1,0,0,0,0,-100\n",
    "    \n",
    "    params = '{},{},{},{},{},{},{}'.format(T,N,A,B,C,D,E)\n",
    "    \n",
    "    \n",
    "    neutrino_mass_settings = {'N_ncdm':3,\n",
    "          'use_ncdm_psd_files': \"0,0,0\",\n",
    "          'm_ncdm': '{},{},{}'.format(mass1,mass2,mass3),\n",
    "          'T_ncdm': \"0.71,0.71,0.71\",\n",
    "          'ncdm_psd_parameters': params,\n",
    "          'N_ur': 0.0\n",
    "          }   \n",
    "    \n",
    "    LambdaCDM_settings = {'omega_b':0.0223828,\n",
    "                     #'omega_cdm':0.1201075,\n",
    "                     'h':0.67810,\n",
    "                     'A_s':2.100549e-09,\n",
    "                     'n_s':0.9660499,\n",
    "                     'tau_reio':0.05430842,\n",
    "                     'output':'mPk',\n",
    "                     'P_k_max_1/Mpc':3.0,\n",
    "                      'Omega_m':0.309883043,\n",
    "                     # The next line should be uncommented for higher precision (but significantly slower running)\n",
    "                     'ncdm_fluid_approximation':3,\n",
    "                     # You may uncomment this line to get more info on the ncdm sector from Class:\n",
    "                     'background_verbose':1,\n",
    "                    }\n",
    "\n",
    "    neutrino = Class()\n",
    "    neutrino.set(LambdaCDM_settings)\n",
    "    neutrino.set(neutrino_mass_settings)\n",
    "    neutrino.compute()\n",
    "\n",
    "    neutrino_results = NW.dict_results(neutrino)\n",
    "    N_eff = neutrino_results['Neff']   \n",
    "        \n",
    "    LambdaCDM_other = {'N_ur':'{},{},{}'.format(N_eff,N_eff,N_eff) #needed to get LambdaCDM Neff closer to model Neff\n",
    "                     }\n",
    "    \n",
    "    LambdaCDM = Class()\n",
    "    LambdaCDM.set(LambdaCDM_settings)\n",
    "    LambdaCDM.set(LambdaCDM_other)\n",
    "    LambdaCDM.compute()\n",
    "    \n",
    "    LambdaCDM_results = NW.dict_results(LambdaCDM)\n",
    "    \n",
    "    kk = np.logspace(-4,np.log10(3),1000) # k in h/Mpc\n",
    "    Pk_LambdaCDM = np.zeros(len(kk)) # P(k) in (Mpc/h)**3\n",
    "    h = LambdaCDM_settings['h'] # get reduced Hubble for conversions to 1/Mpc\n",
    "\n",
    "    for i,k in enumerate(kk):\n",
    "        Pk_LambdaCDM[i] = LambdaCDM.pk(k*h,0.)*h**3 # function .pk(k,z)\n",
    "\n",
    "    \n",
    "    kk= np.logspace(-4,np.log10(3),1000) # k in h/Mpc\n",
    "    Pk_neutrino = np.zeros(len(kk))\n",
    "\n",
    "    for i,k in enumerate(kk):\n",
    "        Pk_neutrino[i] = neutrino.pk(k*h,0.)*h**3 # function .pk(k,z)\n",
    "        \n",
    "        \n",
    "    np.savez(saved_file, n_results = neutrino_results, k_n_array = kk, Pk_n_array = Pk_neutrino,Lambda_array = Pk_LambdaCDM, truth_value = normal, v1 = mass1, v2 = mass2, v3 = mass3, small_mass = m_small, sum_n = mass1+mass2+mass3)\n",
    "        \n",
    "    if power_graphs:\n",
    "        \n",
    "        plt.figure()\n",
    "        plt.loglog(kk,Pk_LambdaCDM)\n",
    "        plt.loglog(kk,Pk_neutrino,linestyle='--')\n",
    "        plt.xlabel(r'$k \\,\\,\\,\\, [h/\\mathrm{Mpc}]$')\n",
    "        plt.ylabel(r'$P(k) \\,\\,\\,\\, [\\mathrm{Mpc}/h]^3$')\n",
    "        plt.show()\n",
    "\n",
    "\n",
    "        plt.figure()\n",
    "        plt.semilogx(kk,Pk_neutrino/Pk_LambdaCDM-1)\n",
    "        plt.xlabel(r'$k [h /\\mathrm{Mpc}]$')\n",
    "        plt.ylabel(r'$P(k)^\\nu/P(k)-1$')\n",
    "        plt.show()\n",
    "    \n",
    "        return neutrino_results,LambdaCDM_results\n",
    "    else:\n",
    "        return neutrino_results,LambdaCDM_results\n"
   ]
  },
  {
   "cell_type": "code",
   "execution_count": 14,
   "id": "68f6e2b1",
   "metadata": {},
   "outputs": [
    {
     "data": {
      "image/png": "[encoded data removed]",
      "text/plain": [
       "<Figure size 432x288 with 1 Axes>"
      ]
     },
     "metadata": {
      "needs_background": "light"
     },
     "output_type": "display_data"
    },
    {
     "data": {
      "image/png": "[encoded data removed]",
      "text/plain": [
       "<Figure size 432x288 with 1 Axes>"
      ]
     },
     "metadata": {
      "needs_background": "light"
     },
     "output_type": "display_data"
    },
    {
     "data": {
      "text/plain": [
       "({'age': 13.772643180721698,\n",
       "  'Neff': 2.937176973031231,\n",
       "  'omega_b': 0.022382800000000005,\n",
       "  'Omega0_cdm': 0.25410592471491794,\n",
       "  'h': 0.6781,\n",
       "  'Omega0_k': 0.0,\n",
       "  'Omega0_m': 0.3098828062016554,\n",
       "  'Omega_b': 0.04867734979810887,\n",
       "  'Omega_g': 5.378150968509927e-05,\n",
       "  'Omega_lambda': 0.6900631754903148,\n",
       "  'Omega_m': 0.3098828062016554,\n",
       "  'Omega_r': 5.4018308029658004e-05,\n",
       "  'rs_drag': 148.4273434996185,\n",
       "  'Sigma8': 0.7564493008790236,\n",
       "  'Sigma8_cb': 0.7718341529074011,\n",
       "  'T_cmb': 2.7255,\n",
       "  'theta_s_100': 1.0503074986421015,\n",
       "  'theta_star_100': 1.0527099475735826,\n",
       "  'n_s': 0.9660499,\n",
       "  'tau_reio': 0.05430842},\n",
       " {'age': 13.770676396299137,\n",
       "  'Neff': 2.937176973031231,\n",
       "  'omega_b': 0.022382800000000005,\n",
       "  'Omega0_cdm': 0.26120569320189113,\n",
       "  'h': 0.6781,\n",
       "  'Omega0_k': 0.0,\n",
       "  'Omega0_m': 0.30988304299999997,\n",
       "  'Omega_b': 0.04867734979810887,\n",
       "  'Omega_g': 5.378150968509927e-05,\n",
       "  'Omega_lambda': 0.69002730029851,\n",
       "  'Omega_m': 0.30988304299999997,\n",
       "  'Omega_r': 8.965670148999979e-05,\n",
       "  'rs_drag': 147.61200397819286,\n",
       "  'Sigma8': 0.8319028299620312,\n",
       "  'Sigma8_cb': 0.8319028299620312,\n",
       "  'T_cmb': 2.7255,\n",
       "  'theta_s_100': 1.0455965890395726,\n",
       "  'theta_star_100': 1.04795476679586,\n",
       "  'n_s': 0.9660499,\n",
       "  'tau_reio': 0.05430842})"
      ]
     },
     "execution_count": 14,
     "metadata": {},
     "output_type": "execute_result"
    }
   ],
   "source": [
    "v_masses_therm(0.1,True,\"nontherm_func\",True)"
   ]
  },
  {
   "cell_type": "code",
   "execution_count": 15,
   "id": "dcf70366",
   "metadata": {},
   "outputs": [],
   "source": [
    "def make_data(filename1,filename2,filename3,filename4,filename5,filename6,small_m1,small_m2,small_m3,filename):\n",
    "    m1 = small_m1*10**-3\n",
    "    m2 = small_m2*10**-3\n",
    "    m3 = small_m3*10**-3\n",
    "    \n",
    "    n_result_nontherm,L_result_nontherm = v_masses_nontherm_alpha(m1,True,filename,False,filename1,False)\n",
    "    n_result2_nontherm,L_result2_nontherm = v_masses_nontherm_alpha(m2,True,filename,False,filename2,False)\n",
    "    n_result3_nontherm,L_result3_nontherm = v_masses_nontherm_alpha(m3,True,filename,False,filename3,False)\n",
    "    \n",
    "    n_result3_therm,L_result3_therm = v_masses_therm(m1,True,filename4,False)\n",
    "    n_result3_therm,L_result3_therm = v_masses_therm(m2,True,filename5,False)\n",
    "    n_result3_therm,L_result3_therm = v_masses_therm(m3,True,filename6,False)\n"
   ]
  },
  {
   "cell_type": "code",
   "execution_count": 16,
   "id": "ca0303ef",
   "metadata": {},
   "outputs": [],
   "source": [
    "def make_graphs(file1,file2,file3,file4,file5,file6):\n",
    "    \n",
    "    data_m1= np.load(file1)\n",
    "    L_array_m1 = data_m1['LambdaCDM_array']\n",
    "    Pkn_array_m1 = data_m1['Pk_n_array']\n",
    "    k_array_m1 = data_m1['k_n_array']\n",
    "    \n",
    "    data_m2= np.load(file2)\n",
    "    L_array_m2 = data_m2['LambdaCDM_array']\n",
    "    Pkn_array_m2 = data_m2['Pk_n_array']\n",
    "    k_array_m2 = data_m2['k_n_array']\n",
    "    \n",
    "    data_m3= np.load(file3)\n",
    "    L_array_m3 = data_m3['LambdaCDM_array']\n",
    "    Pkn_array_m3 = data_m3['Pk_n_array']\n",
    "    k_array_m3 = data_m3['k_n_array']\n",
    "    \n",
    "    \n",
    "    \n",
    "    data_m4= np.load(file4)\n",
    "    L_array_m4 = data_m4['Lambda_array']\n",
    "    Pkn_array_m4 = data_m4['Pk_n_array']\n",
    "    k_array_m4 = data_m4['k_n_array']\n",
    "    \n",
    "    data_m5= np.load(file5)\n",
    "    L_array_m5 = data_m5['Lambda_array']\n",
    "    Pkn_array_m5 = data_m5['Pk_n_array']\n",
    "    k_array_m5 = data_m5['k_n_array']\n",
    "    \n",
    "    data_m6= np.load(file6)\n",
    "    L_array_m6 = data_m6['Lambda_array']\n",
    "    Pkn_array_m6 = data_m6['Pk_n_array']\n",
    "    k_array_m6 = data_m6['k_n_array']\n",
    "    \n",
    "    \n",
    "    #dashed plots are thermal, whereas solid plots are nonthermal. 3 different neutrino masses\n",
    "    plt.figure()\n",
    "    plt.semilogx(k_array_m1,Pkn_array_m1/L_array_m1-1,color=\"red\")\n",
    "    plt.semilogx(k_array_m2,Pkn_array_m2/L_array_m2-1,color=\"purple\")\n",
    "    plt.semilogx(k_array_m3,Pkn_array_m3/L_array_m3-1,color=\"blue\")\n",
    "    plt.semilogx(k_array_m4,Pkn_array_m4/L_array_m4-1,linestyle='--',color=\"red\")\n",
    "    plt.semilogx(k_array_m5,Pkn_array_m5/L_array_m5-1,linestyle='--',color=\"purple\")\n",
    "    plt.semilogx(k_array_m6,Pkn_array_m6/L_array_m6-1,linestyle='--',color=\"blue\")\n",
    "    plt.ylabel(r'$P(k)^\\nu/P(k)-1$')\n",
    "    plt.xlabel(r'$k \\,\\,\\,\\, [h/\\mathrm{Mpc}]$')\n",
    "    plt.show()\n",
    "    "
   ]
  },
  {
   "cell_type": "code",
   "execution_count": 22,
   "id": "2215e65e",
   "metadata": {},
   "outputs": [],
   "source": [
    "make_data(\"short1_non\",\"short2_non\",\"short3_non\",\"short1_therm\",\"short2_therm\",\"short3_therm\",1,10,100,\"../BBN_models/mass-300-life-0.030-new.npz\")"
   ]
  },
  {
   "cell_type": "code",
   "execution_count": 23,
   "id": "1ea0b5cb",
   "metadata": {},
   "outputs": [
    {
     "ename": "TypeError",
     "evalue": "argument of type 'NoneType' is not iterable",
     "output_type": "error",
     "traceback": [
      "\u001b[0;31m---------------------------------------------------------------------------\u001b[0m",
      "\u001b[0;31mTypeError\u001b[0m                                 Traceback (most recent call last)",
      "File \u001b[0;32mclassy.pyx:208\u001b[0m, in \u001b[0;36mclassy.Class.struct_cleanup\u001b[0;34m()\u001b[0m\n",
      "\u001b[0;31mTypeError\u001b[0m: argument of type 'NoneType' is not iterable"
     ]
    },
    {
     "name": "stderr",
     "output_type": "stream",
     "text": [
      "Exception ignored in: 'classy.Class.__dealloc__'\n",
      "Traceback (most recent call last):\n",
      "  File \"classy.pyx\", line 208, in classy.Class.struct_cleanup\n",
      "TypeError: argument of type 'NoneType' is not iterable\n"
     ]
    },
    {
     "ename": "TypeError",
     "evalue": "argument of type 'NoneType' is not iterable",
     "output_type": "error",
     "traceback": [
      "\u001b[0;31m---------------------------------------------------------------------------\u001b[0m",
      "\u001b[0;31mTypeError\u001b[0m                                 Traceback (most recent call last)",
      "File \u001b[0;32mclassy.pyx:208\u001b[0m, in \u001b[0;36mclassy.Class.struct_cleanup\u001b[0;34m()\u001b[0m\n",
      "\u001b[0;31mTypeError\u001b[0m: argument of type 'NoneType' is not iterable"
     ]
    },
    {
     "name": "stderr",
     "output_type": "stream",
     "text": [
      "Exception ignored in: 'classy.Class.__dealloc__'\n",
      "Traceback (most recent call last):\n",
      "  File \"classy.pyx\", line 208, in classy.Class.struct_cleanup\n",
      "TypeError: argument of type 'NoneType' is not iterable\n"
     ]
    },
    {
     "data": {
      "image/png": "[encoded data removed]",
      "text/plain": [
       "<Figure size 432x288 with 1 Axes>"
      ]
     },
     "metadata": {
      "needs_background": "light"
     },
     "output_type": "display_data"
    }
   ],
   "source": [
    "make_graphs(\"short1_non.npz\",\"short2_non.npz\",\"short3_non.npz\",\"short1_therm.npz\",\"short2_therm.npz\",\"short3_therm.npz\")"
   ]
  },
  {
   "cell_type": "code",
   "execution_count": 19,
   "id": "a74eccc5",
   "metadata": {},
   "outputs": [
    {
     "name": "stdout",
     "output_type": "stream",
     "text": [
      "Running CLASS version v3.2.0\n",
      "Computing background\n",
      " -> age = 13.770598 Gyr\n",
      " -> conformal age = 14151.897990 Mpc\n",
      " -> N_eff = 3.044 (summed over all species that are non-relativistic at early times) \n",
      " -> radiation/matter equality at z = 3405.751104\n",
      "    corresponding to conformal time = 112.722902 Mpc\n",
      "Running CLASS version v3.2.0\n",
      "Computing background\n",
      " -> non-cold dark matter species with i=1 has m_i = 1.000000e-03 eV (so m_i / omega_i =8.173914e+01 eV)\n",
      " -> ncdm species i=1 sampled with 11 (resp. 5) points for purpose of background (resp. perturbation) integration. In the relativistic limit it gives Delta N_eff = 1.00319\n",
      " -> non-cold dark matter species with i=2 has m_i = 8.717798e-03 eV (so m_i / omega_i =9.460773e+01 eV)\n",
      " -> ncdm species i=2 sampled with 11 (resp. 5) points for purpose of background (resp. perturbation) integration. In the relativistic limit it gives Delta N_eff = 1.00319\n",
      " -> non-cold dark matter species with i=3 has m_i = 4.958831e-02 eV (so m_i / omega_i =9.483159e+01 eV)\n",
      " -> ncdm species i=3 sampled with 11 (resp. 5) points for purpose of background (resp. perturbation) integration. In the relativistic limit it gives Delta N_eff = 1.00319\n",
      " -> age = 13.771976 Gyr\n",
      " -> conformal age = 14158.068849 Mpc\n",
      " -> N_eff = 3.00958 (summed over all species that are non-relativistic at early times) \n",
      " -> radiation/matter equality at z = 3407.259720\n",
      "    corresponding to conformal time = 112.937242 Mpc\n",
      "Running CLASS version v3.2.0\n",
      "Computing background\n",
      " -> age = 13.770623 Gyr\n",
      " -> conformal age = 14152.512743 Mpc\n",
      " -> N_eff = 3.00958 (summed over all species that are non-relativistic at early times) \n",
      " -> radiation/matter equality at z = 3421.571806\n",
      "    corresponding to conformal time = 112.462071 Mpc\n",
      "Running CLASS version v3.2.0\n",
      "Computing background\n",
      " -> non-cold dark matter species with i=1 has m_i = 1.000000e-03 eV (so m_i / omega_i =1.167236e+02 eV)\n",
      " -> ncdm species i=1 sampled with 117 (resp. 58) points for purpose of background (resp. perturbation) integration. In the relativistic limit it gives Delta N_eff = 1.01561\n",
      " -> non-cold dark matter species with i=2 has m_i = 8.717798e-03 eV (so m_i / omega_i =1.911962e+02 eV)\n",
      " -> ncdm species i=2 sampled with 117 (resp. 58) points for purpose of background (resp. perturbation) integration. In the relativistic limit it gives Delta N_eff = 1.01561\n",
      " -> non-cold dark matter species with i=3 has m_i = 4.958831e-02 eV (so m_i / omega_i =1.952334e+02 eV)\n",
      " -> ncdm species i=3 sampled with 117 (resp. 58) points for purpose of background (resp. perturbation) integration. In the relativistic limit it gives Delta N_eff = 1.01561\n",
      " -> age = 13.771661 Gyr\n",
      " -> conformal age = 14155.225658 Mpc\n",
      " -> N_eff = 3.04683 (summed over all species that are non-relativistic at early times) \n",
      " -> radiation/matter equality at z = 3397.448582\n",
      "    corresponding to conformal time = 112.978201 Mpc\n",
      "Running CLASS version v3.2.0\n",
      "Computing background\n",
      " -> age = 13.770596 Gyr\n",
      " -> conformal age = 14151.847508 Mpc\n",
      " -> N_eff = 3.04683 (summed over all species that are non-relativistic at early times) \n",
      " -> radiation/matter equality at z = 3404.456767\n",
      "    corresponding to conformal time = 112.744322 Mpc\n",
      "Running CLASS version v3.2.0\n",
      "Computing background\n",
      " -> non-cold dark matter species with i=1 has m_i = 1.000000e-01 eV (so m_i / omega_i =9.556702e+01 eV)\n",
      " -> ncdm species i=1 sampled with 11 (resp. 5) points for purpose of background (resp. perturbation) integration. In the relativistic limit it gives Delta N_eff = 0.979059\n",
      " -> non-cold dark matter species with i=2 has m_i = 1.003743e-01 eV (so m_i / omega_i =9.556703e+01 eV)\n",
      " -> ncdm species i=2 sampled with 11 (resp. 5) points for purpose of background (resp. perturbation) integration. In the relativistic limit it gives Delta N_eff = 0.979059\n",
      " -> non-cold dark matter species with i=3 has m_i = 1.116154e-01 eV (so m_i / omega_i =9.556736e+01 eV)\n",
      " -> ncdm species i=3 sampled with 11 (resp. 5) points for purpose of background (resp. perturbation) integration. In the relativistic limit it gives Delta N_eff = 0.979059\n",
      " -> age = 13.772643 Gyr\n",
      " -> conformal age = 14168.817362 Mpc\n",
      " -> N_eff = 2.93718 (summed over all species that are non-relativistic at early times) \n",
      " -> radiation/matter equality at z = 3385.906490\n",
      "    corresponding to conformal time = 114.243697 Mpc\n",
      "Running CLASS version v3.2.0\n",
      "Computing background\n",
      " -> age = 13.770676 Gyr\n",
      " -> conformal age = 14153.810432 Mpc\n",
      " -> N_eff = 2.93718 (summed over all species that are non-relativistic at early times) \n",
      " -> radiation/matter equality at z = 3455.328847\n",
      "    corresponding to conformal time = 111.911530 Mpc\n",
      "Running CLASS version v3.2.0\n",
      "Computing background\n",
      " -> non-cold dark matter species with i=1 has m_i = 1.000000e-03 eV (so m_i / omega_i =8.173914e+01 eV)\n",
      " -> ncdm species i=1 sampled with 11 (resp. 5) points for purpose of background (resp. perturbation) integration. In the relativistic limit it gives Delta N_eff = 1.00319\n",
      " -> non-cold dark matter species with i=2 has m_i = 8.717798e-03 eV (so m_i / omega_i =9.460773e+01 eV)\n",
      " -> ncdm species i=2 sampled with 11 (resp. 5) points for purpose of background (resp. perturbation) integration. In the relativistic limit it gives Delta N_eff = 1.00319\n",
      " -> non-cold dark matter species with i=3 has m_i = 4.958831e-02 eV (so m_i / omega_i =9.483159e+01 eV)\n",
      " -> ncdm species i=3 sampled with 11 (resp. 5) points for purpose of background (resp. perturbation) integration. In the relativistic limit it gives Delta N_eff = 1.00319\n",
      " -> age = 13.771976 Gyr\n",
      " -> conformal age = 14158.068849 Mpc\n",
      " -> N_eff = 3.00958 (summed over all species that are non-relativistic at early times) \n",
      " -> radiation/matter equality at z = 3407.259720\n",
      "    corresponding to conformal time = 112.937242 Mpc\n",
      "Running CLASS version v3.2.0\n",
      "Computing background\n",
      " -> age = 13.770623 Gyr\n",
      " -> conformal age = 14152.512743 Mpc\n",
      " -> N_eff = 3.00958 (summed over all species that are non-relativistic at early times) \n",
      " -> radiation/matter equality at z = 3421.571806\n",
      "    corresponding to conformal time = 112.462071 Mpc\n",
      "Running CLASS version v3.2.0\n",
      "Computing background\n",
      " -> non-cold dark matter species with i=1 has m_i = 1.000000e-02 eV (so m_i / omega_i =9.466296e+01 eV)\n",
      " -> ncdm species i=1 sampled with 11 (resp. 5) points for purpose of background (resp. perturbation) integration. In the relativistic limit it gives Delta N_eff = 1.00319\n",
      " -> non-cold dark matter species with i=2 has m_i = 1.322876e-02 eV (so m_i / omega_i =9.473813e+01 eV)\n",
      " -> ncdm species i=2 sampled with 11 (resp. 5) points for purpose of background (resp. perturbation) integration. In the relativistic limit it gives Delta N_eff = 1.00319\n",
      " -> non-cold dark matter species with i=3 has m_i = 5.057667e-02 eV (so m_i / omega_i =9.483187e+01 eV)\n",
      " -> ncdm species i=3 sampled with 11 (resp. 5) points for purpose of background (resp. perturbation) integration. In the relativistic limit it gives Delta N_eff = 1.00319\n",
      " -> age = 13.772288 Gyr\n",
      " -> conformal age = 14159.715789 Mpc\n",
      " -> N_eff = 3.00958 (summed over all species that are non-relativistic at early times) \n",
      " -> radiation/matter equality at z = 3403.714788\n",
      "    corresponding to conformal time = 113.055180 Mpc\n",
      "Running CLASS version v3.2.0\n",
      "Computing background\n",
      " -> age = 13.770623 Gyr\n",
      " -> conformal age = 14152.512743 Mpc\n",
      " -> N_eff = 3.00958 (summed over all species that are non-relativistic at early times) \n",
      " -> radiation/matter equality at z = 3421.571806\n",
      "    corresponding to conformal time = 112.462071 Mpc\n",
      "Running CLASS version v3.2.0\n",
      "Computing background\n",
      " -> non-cold dark matter species with i=1 has m_i = 1.000000e-01 eV (so m_i / omega_i =9.483700e+01 eV)\n",
      " -> ncdm species i=1 sampled with 11 (resp. 5) points for purpose of background (resp. perturbation) integration. In the relativistic limit it gives Delta N_eff = 1.00319\n",
      " -> non-cold dark matter species with i=2 has m_i = 1.003743e-01 eV (so m_i / omega_i =9.483702e+01 eV)\n",
      " -> ncdm species i=2 sampled with 11 (resp. 5) points for purpose of background (resp. perturbation) integration. In the relativistic limit it gives Delta N_eff = 1.00319\n",
      " -> non-cold dark matter species with i=3 has m_i = 1.116154e-01 eV (so m_i / omega_i =9.483735e+01 eV)\n",
      " -> ncdm species i=3 sampled with 11 (resp. 5) points for purpose of background (resp. perturbation) integration. In the relativistic limit it gives Delta N_eff = 1.00319\n",
      " -> age = 13.772636 Gyr\n",
      " -> conformal age = 14167.764455 Mpc\n",
      " -> N_eff = 3.00958 (summed over all species that are non-relativistic at early times) \n",
      " -> radiation/matter equality at z = 3352.244292\n",
      "    corresponding to conformal time = 114.825772 Mpc\n",
      "Running CLASS version v3.2.0\n",
      "Computing background\n",
      " -> age = 13.770623 Gyr\n",
      " -> conformal age = 14152.512743 Mpc\n",
      " -> N_eff = 3.00958 (summed over all species that are non-relativistic at early times) \n",
      " -> radiation/matter equality at z = 3421.571806\n",
      "    corresponding to conformal time = 112.462071 Mpc\n",
      "Running CLASS version v3.2.0\n",
      "Computing background\n",
      " -> non-cold dark matter species with i=1 has m_i = 1.000000e-03 eV (so m_i / omega_i =8.270577e+01 eV)\n",
      " -> ncdm species i=1 sampled with 11 (resp. 5) points for purpose of background (resp. perturbation) integration. In the relativistic limit it gives Delta N_eff = 0.979059\n",
      " -> non-cold dark matter species with i=2 has m_i = 8.717798e-03 eV (so m_i / omega_i =9.534367e+01 eV)\n",
      " -> ncdm species i=2 sampled with 11 (resp. 5) points for purpose of background (resp. perturbation) integration. In the relativistic limit it gives Delta N_eff = 0.979059\n",
      " -> non-cold dark matter species with i=3 has m_i = 4.958831e-02 eV (so m_i / omega_i =9.556174e+01 eV)\n",
      " -> ncdm species i=3 sampled with 11 (resp. 5) points for purpose of background (resp. perturbation) integration. In the relativistic limit it gives Delta N_eff = 0.979059\n",
      " -> age = 13.772001 Gyr\n",
      " -> conformal age = 14159.282630 Mpc\n",
      " -> N_eff = 2.93718 (summed over all species that are non-relativistic at early times) \n",
      " -> radiation/matter equality at z = 3440.992268\n",
      "    corresponding to conformal time = 112.380562 Mpc\n",
      "Running CLASS version v3.2.0\n",
      "Computing background\n",
      " -> age = 13.770676 Gyr\n",
      " -> conformal age = 14153.810432 Mpc\n",
      " -> N_eff = 2.93718 (summed over all species that are non-relativistic at early times) \n",
      " -> radiation/matter equality at z = 3455.328847\n",
      "    corresponding to conformal time = 111.911530 Mpc\n",
      "Running CLASS version v3.2.0\n",
      "Computing background\n",
      " -> non-cold dark matter species with i=1 has m_i = 1.000000e-02 eV (so m_i / omega_i =9.539747e+01 eV)\n",
      " -> ncdm species i=1 sampled with 11 (resp. 5) points for purpose of background (resp. perturbation) integration. In the relativistic limit it gives Delta N_eff = 0.979059\n",
      " -> non-cold dark matter species with i=2 has m_i = 1.322876e-02 eV (so m_i / omega_i =9.547071e+01 eV)\n",
      " -> ncdm species i=2 sampled with 11 (resp. 5) points for purpose of background (resp. perturbation) integration. In the relativistic limit it gives Delta N_eff = 0.979059\n",
      " -> non-cold dark matter species with i=3 has m_i = 5.057667e-02 eV (so m_i / omega_i =9.556201e+01 eV)\n",
      " -> ncdm species i=3 sampled with 11 (resp. 5) points for purpose of background (resp. perturbation) integration. In the relativistic limit it gives Delta N_eff = 0.979059\n",
      " -> age = 13.772305 Gyr\n",
      " -> conformal age = 14160.905495 Mpc\n",
      " -> N_eff = 2.93718 (summed over all species that are non-relativistic at early times) \n",
      " -> radiation/matter equality at z = 3437.439204\n",
      "    corresponding to conformal time = 112.497037 Mpc\n",
      "Running CLASS version v3.2.0\n",
      "Computing background\n",
      " -> age = 13.770676 Gyr\n",
      " -> conformal age = 14153.810432 Mpc\n",
      " -> N_eff = 2.93718 (summed over all species that are non-relativistic at early times) \n",
      " -> radiation/matter equality at z = 3455.328847\n",
      "    corresponding to conformal time = 111.911530 Mpc\n",
      "Running CLASS version v3.2.0\n",
      "Computing background\n",
      " -> non-cold dark matter species with i=1 has m_i = 1.000000e-01 eV (so m_i / omega_i =9.556702e+01 eV)\n",
      " -> ncdm species i=1 sampled with 11 (resp. 5) points for purpose of background (resp. perturbation) integration. In the relativistic limit it gives Delta N_eff = 0.979059\n",
      " -> non-cold dark matter species with i=2 has m_i = 1.003743e-01 eV (so m_i / omega_i =9.556703e+01 eV)\n",
      " -> ncdm species i=2 sampled with 11 (resp. 5) points for purpose of background (resp. perturbation) integration. In the relativistic limit it gives Delta N_eff = 0.979059\n",
      " -> non-cold dark matter species with i=3 has m_i = 1.116154e-01 eV (so m_i / omega_i =9.556736e+01 eV)\n",
      " -> ncdm species i=3 sampled with 11 (resp. 5) points for purpose of background (resp. perturbation) integration. In the relativistic limit it gives Delta N_eff = 0.979059\n",
      " -> age = 13.772643 Gyr\n",
      " -> conformal age = 14168.817362 Mpc\n",
      " -> N_eff = 2.93718 (summed over all species that are non-relativistic at early times) \n",
      " -> radiation/matter equality at z = 3385.906490\n",
      "    corresponding to conformal time = 114.243697 Mpc\n",
      "Running CLASS version v3.2.0\n",
      "Computing background\n",
      " -> age = 13.770676 Gyr\n",
      " -> conformal age = 14153.810432 Mpc\n",
      " -> N_eff = 2.93718 (summed over all species that are non-relativistic at early times) \n",
      " -> radiation/matter equality at z = 3455.328847\n",
      "    corresponding to conformal time = 111.911530 Mpc\n",
      "Running CLASS version v3.2.0\n",
      "Computing background\n",
      " -> non-cold dark matter species with i=1 has m_i = 1.000000e-03 eV (so m_i / omega_i =1.167236e+02 eV)\n",
      " -> ncdm species i=1 sampled with 117 (resp. 58) points for purpose of background (resp. perturbation) integration. In the relativistic limit it gives Delta N_eff = 1.01561\n",
      " -> non-cold dark matter species with i=2 has m_i = 8.717798e-03 eV (so m_i / omega_i =1.911962e+02 eV)\n",
      " -> ncdm species i=2 sampled with 117 (resp. 58) points for purpose of background (resp. perturbation) integration. In the relativistic limit it gives Delta N_eff = 1.01561\n",
      " -> non-cold dark matter species with i=3 has m_i = 4.958831e-02 eV (so m_i / omega_i =1.952334e+02 eV)\n",
      " -> ncdm species i=3 sampled with 117 (resp. 58) points for purpose of background (resp. perturbation) integration. In the relativistic limit it gives Delta N_eff = 1.01561\n",
      " -> age = 13.771661 Gyr\n",
      " -> conformal age = 14155.225658 Mpc\n",
      " -> N_eff = 3.04683 (summed over all species that are non-relativistic at early times) \n",
      " -> radiation/matter equality at z = 3397.448582\n",
      "    corresponding to conformal time = 112.978201 Mpc\n",
      "Running CLASS version v3.2.0\n",
      "Computing background\n",
      " -> age = 13.770596 Gyr\n",
      " -> conformal age = 14151.847508 Mpc\n",
      " -> N_eff = 3.04683 (summed over all species that are non-relativistic at early times) \n",
      " -> radiation/matter equality at z = 3404.456767\n",
      "    corresponding to conformal time = 112.744322 Mpc\n",
      "Running CLASS version v3.2.0\n",
      "Computing background\n",
      " -> non-cold dark matter species with i=1 has m_i = 1.000000e-02 eV (so m_i / omega_i =1.921212e+02 eV)\n",
      " -> ncdm species i=1 sampled with 117 (resp. 58) points for purpose of background (resp. perturbation) integration. In the relativistic limit it gives Delta N_eff = 1.01561\n",
      " -> non-cold dark matter species with i=2 has m_i = 1.322876e-02 eV (so m_i / omega_i =1.934464e+02 eV)\n",
      " -> ncdm species i=2 sampled with 117 (resp. 58) points for purpose of background (resp. perturbation) integration. In the relativistic limit it gives Delta N_eff = 1.01561\n",
      " -> non-cold dark matter species with i=3 has m_i = 5.057667e-02 eV (so m_i / omega_i =1.952390e+02 eV)\n",
      " -> ncdm species i=3 sampled with 117 (resp. 58) points for purpose of background (resp. perturbation) integration. In the relativistic limit it gives Delta N_eff = 1.01561\n",
      " -> age = 13.771879 Gyr\n",
      " -> conformal age = 14156.105440 Mpc\n",
      " -> N_eff = 3.04683 (summed over all species that are non-relativistic at early times) \n",
      " -> radiation/matter equality at z = 3395.785965\n",
      "    corresponding to conformal time = 113.033664 Mpc\n",
      "Running CLASS version v3.2.0\n",
      "Computing background\n",
      " -> age = 13.770596 Gyr\n",
      " -> conformal age = 14151.847508 Mpc\n",
      " -> N_eff = 3.04683 (summed over all species that are non-relativistic at early times) \n",
      " -> radiation/matter equality at z = 3404.456767\n",
      "    corresponding to conformal time = 112.744322 Mpc\n",
      "Running CLASS version v3.2.0\n",
      "Computing background\n",
      " -> non-cold dark matter species with i=1 has m_i = 1.000000e-01 eV (so m_i / omega_i =1.953431e+02 eV)\n",
      " -> ncdm species i=1 sampled with 117 (resp. 58) points for purpose of background (resp. perturbation) integration. In the relativistic limit it gives Delta N_eff = 1.01561\n",
      " -> non-cold dark matter specie"
     ]
    }
   ],
   "source": [
    "make_data(\"long1_non\",\"long2_non\",\"long3_non\",\"long1_therm\",\"long2_therm\",\"long3_therm\",1,10,100,\"mass-300-life-0.584.npz\")"
   ]
  },
  {
   "cell_type": "code",
   "execution_count": 20,
   "id": "ed50b17c",
   "metadata": {},
   "outputs": [
    {
     "data": {
      "image/png": "[encoded data removed]",
      "text/plain": [
       "<Figure size 432x288 with 1 Axes>"
      ]
     },
     "metadata": {
      "needs_background": "light"
     },
     "output_type": "display_data"
    }
   ],
   "source": [
    "make_graphs(\"long1_non.npz\",\"long2_non.npz\",\"long3_non.npz\",\"long1_therm.npz\",\"long2_therm.npz\",\"long3_therm.npz\")"
   ]
  },
  {
   "cell_type": "code",
   "execution_count": null,
   "id": "354cb08c",
   "metadata": {},
   "outputs": [],
   "source": []
  }
 ],
 "metadata": {
  "kernelspec": {
   "display_name": "Python 3 (ipykernel)",
   "language": "python",
   "name": "python3"
  },
  "language_info": {
   "codemirror_mode": {
    "name": "ipython",
    "version": 3
   },
   "file_extension": ".py",
   "mimetype": "text/x-python",
   "name": "python",
   "nbconvert_exporter": "python",
   "pygments_lexer": "ipython3",
   "version": "3.9.12"
  }
 },
 "nbformat": 4,
 "nbformat_minor": 5
}
