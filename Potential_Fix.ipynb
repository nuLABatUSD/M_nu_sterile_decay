{
 "cells": [
  {
   "cell_type": "code",
   "execution_count": 1,
   "id": "26dfabed",
   "metadata": {},
   "outputs": [],
   "source": [
    "import numpy as np\n",
    "import matplotlib.pyplot as plt\n",
    "import numba as nb\n",
    "import FittingWorkCleaner as FWC\n",
    "import Neutrino_Work as NW\n",
    "from classy import Class"
   ]
  },
  {
   "cell_type": "code",
   "execution_count": 2,
   "id": "b526ab61",
   "metadata": {},
   "outputs": [],
   "source": [
    "data_1= np.load(\"mass-300-life-0.030.npz\", allow_pickle=True)\n",
    "f_actual = data_1['fe'][-1]\n",
    "e_actual = data_1['e'][-1]\n",
    "Neff_short = data_1['neff']\n",
    "\n",
    "data_2= np.load(\"mass-300-life-0.584.npz\", allow_pickle=True)\n",
    "f_actual_2 = data_2['fe'][-1]\n",
    "e_actual_2 = data_2['e'][-1]\n",
    "Neff_long = data_2['neff']\n",
    "\n",
    "\n",
    "data_file = np.load(\"test-fit.npz\", allow_pickle=True)\n",
    "e = data_file['eps']\n",
    "f = data_file['fe']\n",
    "\n",
    "\n",
    "data_file2 = np.load(\"test-fit2.npz\", allow_pickle=True)\n",
    "e2 = data_file2['eps']\n",
    "f2 = data_file2['fe']"
   ]
  },
  {
   "cell_type": "code",
   "execution_count": 3,
   "id": "4928d9e2",
   "metadata": {},
   "outputs": [
    {
     "data": {
      "text/plain": [
       "(1.2335436064249623,\n",
       " 0.6850939103999747,\n",
       " array([ 1.14347633e-09, -1.60098091e-06,  6.68093687e-04, -1.56469746e-01,\n",
       "        -6.86539040e+00]))"
      ]
     },
     "execution_count": 3,
     "metadata": {},
     "output_type": "execute_result"
    }
   ],
   "source": [
    "FWC.finale(e_actual_2,f_actual_2,4,False)"
   ]
  },
  {
   "cell_type": "code",
   "execution_count": 108,
   "id": "cb7a0ebb",
   "metadata": {},
   "outputs": [],
   "source": [
    "def larger_emax(filename,alpha_num):\n",
    "    alpha = alpha_num\n",
    "    \n",
    "    data_actual = np.load(filename, allow_pickle=True)\n",
    "    f = data_actual['fe'][-1]\n",
    "    e = data_actual['e'][-1]\n",
    "    \n",
    "    af = data_actual['scalefactors'][-1]\n",
    "    tf = data_actual['temp'][-1]\n",
    "    value = 1/(af*tf) \n",
    "    \n",
    "    T,N,coefficients = FWC.finale(e,f,4,False)\n",
    "    A,B,C,D,E = coefficients[0],coefficients[1],coefficients[2],coefficients[3],coefficients[4]\n",
    "    \n",
    "    T_p = T/alpha\n",
    "    N_p = N\n",
    "    A_p = A*(alpha)**4\n",
    "    B_p = B*(alpha)**3\n",
    "    C_p = C*(alpha)**2\n",
    "    D_p = D*(alpha)**1\n",
    "    E_p = E\n",
    "    value_p = value*alpha\n",
    "    \n",
    "    k = len(e)-15\n",
    "    e_shorter = np.delete(e,np.s_[-k:])\n",
    "    \n",
    "    dn = np.zeros(len(e_shorter))\n",
    "    for i in range(len(e_shorter)):\n",
    "        dn[i] = (value)**3*(2/(2*np.pi)**3)*(((N/np.exp(e_shorter[i]/T))+1)+np.exp(A*e_shorter[i]**4+B*e_shorter[i]**3+C*e_shorter[i]**2+D*e_shorter[i]+E))*4*(np.pi)**2*(e_shorter[i])**2\n",
    "        \n",
    "    \n",
    "    k_p = len(e)-30\n",
    "    e_p = np.delete(e,np.s_[-k_p:])\n",
    "    \n",
    "    dn_p = np.zeros(len(e_p))\n",
    "    for i in range(len(e_p)):\n",
    "        dn_p[i] = (value_p)**3*(2/(2*np.pi)**3)*(((N_p/np.exp(e_p[i]/T_p))+1)+np.exp(A_p*e_p[i]**4+B_p*e_p[i]**3+C_p*e_p[i]**2+D_p*e_p[i]+E_p))*4*(np.pi)**2*(e_p[i])**2\n",
    "        \n",
    "    F_p = np.zeros(len(e_p))\n",
    "    for i in range(len(e_p)):\n",
    "        F_p[i] = (2/(2*np.pi)**3)*(((N_p/np.exp(e_p[i]/T_p))+1)+np.exp(A_p*e_p[i]**4+B_p*e_p[i]**3+C_p*e_p[i]**2+D_p*e_p[i]+E_p))\n",
    "        \n",
    "    plt.figure()\n",
    "    plt.plot(e_shorter,dn,color=\"blue\")\n",
    "    plt.plot(e_p,dn_p,color='red')\n",
    "    plt.show\n",
    "    \n",
    "    \n",
    "    plt.figure()\n",
    "    plt.plot(alpha*e_p,F_p,color='black')\n",
    "    plt.show\n",
    "    \n",
    "    \n",
    "    \n",
    "    \n",
    "    "
   ]
  },
  {
   "cell_type": "code",
   "execution_count": 109,
   "id": "6b327c3e",
   "metadata": {},
   "outputs": [
    {
     "data": {
      "image/png": "[encoded data removed]",
      "text/plain": [
       "<Figure size 432x288 with 1 Axes>"
      ]
     },
     "metadata": {
      "needs_background": "light"
     },
     "output_type": "display_data"
    },
    {
     "data": {
      "image/png": "[encoded data removed]",
      "text/plain": [
       "<Figure size 432x288 with 1 Axes>"
      ]
     },
     "metadata": {
      "needs_background": "light"
     },
     "output_type": "display_data"
    }
   ],
   "source": [
    "larger_emax(\"mass-300-life-0.584.npz\",2)"
   ]
  },
  {
   "cell_type": "code",
   "execution_count": 142,
   "id": "5e2d6216",
   "metadata": {},
   "outputs": [
    {
     "name": "stdout",
     "output_type": "stream",
     "text": [
      "1.1434763286060605e-09\n"
     ]
    }
   ],
   "source": [
    "T,N,coeff = FWC.finale(e_actual_2,f_actual_2,4,False)  \n",
    "A,B,C,D,E = coeff[0],coeff[1],coeff[2],coeff[3],coeff[4]\n",
    "af = data_1['scalefactors'][-1]\n",
    "tf = data_1['temp'][-1]\n",
    "T_ncdm = 1/(af*tf) \n",
    "k = len(e_actual_2)-30\n",
    "e_shorter = np.delete(e_actual_2,np.s_[-k:])\n",
    "f_shorter = np.delete(f_actual_2,np.s_[-k:])\n",
    "print(A)\n"
   ]
  },
  {
   "cell_type": "code",
   "execution_count": 132,
   "id": "b903c767",
   "metadata": {},
   "outputs": [],
   "source": [
    "def mimic(e,T,N,A,B,C,D,E,T_ncdm):\n",
    "    dn = np.zeros(len(e))\n",
    "    for i in range(len(e)):\n",
    "        dn[i] = (T_ncdm)**3*(2/(2*np.pi)**3)*(((N/np.exp(e[i]/T))+1)+np.exp(A*e[i]**4+B*e[i]**3+C*e[i]**2+D*e[i]+E))*4*(np.pi)**2\n",
    "    return dn \n",
    "\n",
    "    \n",
    "    "
   ]
  },
  {
   "cell_type": "code",
   "execution_count": 133,
   "id": "ebf4a2a4",
   "metadata": {},
   "outputs": [
    {
     "data": {
      "text/plain": [
       "array([0.11976202, 0.10354048, 0.09272331, 0.08550963, 0.08069868,\n",
       "       0.07748986, 0.07534935, 0.0739212 , 0.07296811, 0.07233183,\n",
       "       0.07190684, 0.07162278, 0.07143275, 0.07130545, 0.07122003,\n",
       "       0.07116257, 0.07112378, 0.07109749, 0.07107956, 0.07106723,\n",
       "       0.07105866, 0.07105263, 0.07104831, 0.07104515, 0.07104279,\n",
       "       0.07104098, 0.07103955, 0.07103839, 0.07103743, 0.07103661])"
      ]
     },
     "execution_count": 133,
     "metadata": {},
     "output_type": "execute_result"
    }
   ],
   "source": [
    "mimic(e_shorter,T,N,A,B,C,D,E,T_ncdm)"
   ]
  },
  {
   "cell_type": "code",
   "execution_count": 135,
   "id": "ded6ea7d",
   "metadata": {},
   "outputs": [
    {
     "data": {
      "image/png": "[encoded data removed]",
      "text/plain": [
       "<Figure size 432x288 with 1 Axes>"
      ]
     },
     "metadata": {
      "needs_background": "light"
     },
     "output_type": "display_data"
    },
    {
     "data": {
      "text/plain": [
       "(1.2335436064249623,\n",
       " 0.6850939103999747,\n",
       " array([ 1.14347633e-09, -1.60098091e-06,  6.68093687e-04, -1.56469746e-01,\n",
       "        -6.86539040e+00]))"
      ]
     },
     "execution_count": 135,
     "metadata": {},
     "output_type": "execute_result"
    }
   ],
   "source": [
    "FWC.finale(e_actual_2,f_actual_2,4,True)"
   ]
  },
  {
   "cell_type": "code",
   "execution_count": 140,
   "id": "a0dfec43",
   "metadata": {},
   "outputs": [
    {
     "name": "stderr",
     "output_type": "stream",
     "text": [
      "/Users/charmquark/Downloads/M_nu_sterile_decay/FittingWorkCleaner.py:90: RuntimeWarning: overflow encountered in exp\n",
      "  diff_reverse[i] = (f_array_reverse[i])-((Nbest)/(np.exp(e_array_reverse[i]/Tbest)+1))\n",
      "/Users/charmquark/Downloads/M_nu_sterile_decay/FittingWorkCleaner.py:117: RuntimeWarning: overflow encountered in exp\n",
      "  plt.semilogy(e_array,N_best*(e_array**2)/(np.exp(e_array/T_best)+1)+e_array**2*np.exp(polynomial(e_array)),linestyle='--')\n"
     ]
    },
    {
     "data": {
      "image/png": "[encoded data removed]",
      "text/plain": [
       "<Figure size 432x288 with 1 Axes>"
      ]
     },
     "metadata": {
      "needs_background": "light"
     },
     "output_type": "display_data"
    },
    {
     "data": {
      "text/plain": [
       "(1.2335436064249623,\n",
       " 0.6850939103999747,\n",
       " array([ 9.94195555e-12, -3.80535518e-08,  4.56298843e-05, -6.06696231e-02,\n",
       "        -9.86733677e+00]))"
      ]
     },
     "execution_count": 140,
     "metadata": {},
     "output_type": "execute_result"
    }
   ],
   "source": [
    "FWC.finale_no_cdf(e_actual_2,f_actual_2,4,True)"
   ]
  },
  {
   "cell_type": "code",
   "execution_count": null,
   "id": "1ba204b8",
   "metadata": {},
   "outputs": [],
   "source": []
  }
 ],
 "metadata": {
  "kernelspec": {
   "display_name": "Python 3 (ipykernel)",
   "language": "python",
   "name": "python3"
  },
  "language_info": {
   "codemirror_mode": {
    "name": "ipython",
    "version": 3
   },
   "file_extension": ".py",
   "mimetype": "text/x-python",
   "name": "python",
   "nbconvert_exporter": "python",
   "pygments_lexer": "ipython3",
   "version": "3.9.12"
  }
 },
 "nbformat": 4,
 "nbformat_minor": 5
}
