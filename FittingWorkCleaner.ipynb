{
 "cells": [
  {
   "cell_type": "code",
   "execution_count": 1,
   "id": "853dcb0c",
   "metadata": {},
   "outputs": [],
   "source": [
    "import numpy as np\n",
    "import matplotlib.pyplot as plt\n",
    "import numba as nb"
   ]
  },
  {
   "cell_type": "code",
   "execution_count": 2,
   "id": "d3489920",
   "metadata": {},
   "outputs": [],
   "source": [
    "data_file = np.load(\"test-fit.npz\", allow_pickle=True)\n",
    "e = data_file['eps']\n",
    "f = data_file['fe']"
   ]
  },
  {
   "cell_type": "code",
   "execution_count": 3,
   "id": "7ea54a4f",
   "metadata": {},
   "outputs": [],
   "source": [
    "data_file2 = np.load(\"test-fit2.npz\", allow_pickle=True)\n",
    "e2 = data_file2['eps']\n",
    "f2 = data_file2['fe']"
   ]
  },
  {
   "cell_type": "code",
   "execution_count": 4,
   "id": "d13784d6",
   "metadata": {},
   "outputs": [],
   "source": [
    "@nb.jit(nopython=True)\n",
    "def fit2(e_array, f_array):\n",
    "    e_max = e_array[np.where(e_array**2*f_array == np.max(e_array**2*f_array))[0]][0]\n",
    "    f_max = f_array[np.where(e_array**2*f_array == np.max(e_array**2*f_array))[0]][0]\n",
    "    \n",
    "    Del_e = e_array[1] - e_array[0]\n",
    "    Del_T = (1/2.301)*Del_e\n",
    "    \n",
    "    T = e_max/2.301\n",
    "    N = (((np.exp(e_max/T)+1)*np.max(e_array**2*f_array))/e_max**2)\n",
    "    Del_N = (((np.exp(e_max/T+Del_T)+1)*np.max(e_array**2*f_array))/e_max**2)\n",
    "    \n",
    "    return T,N,Del_T,Del_N"
   ]
  },
  {
   "cell_type": "code",
   "execution_count": 5,
   "id": "9cdb9e98",
   "metadata": {},
   "outputs": [],
   "source": [
    "@nb.jit(nopython=True)\n",
    "def least_sum(e_array,f_array,T, N):\n",
    "    Sum = 0 \n",
    "    for i in range(len(e_array)):\n",
    "        Sum = Sum + ((e_array[i]**2*f_array[i]-((N)*(e_array[i]**2)/(np.exp(e_array[i]/T)+1)))**2)\n",
    "    return Sum"
   ]
  },
  {
   "cell_type": "code",
   "execution_count": 6,
   "id": "a1ee973a",
   "metadata": {},
   "outputs": [],
   "source": [
    "@nb.jit(nopython=True)\n",
    "def fit3(e_array,f_array):\n",
    "    \n",
    "    T_0, N_0, T_error, N_error = fit2(e_array,f_array)\n",
    "    \n",
    "    \n",
    "    T = np.linspace(T_0-T_error,T_0+T_error,100)\n",
    "    N = np.linspace(N_0-N_error,N_0+N_error,100)\n",
    "    M = np.zeros((len(T),len(N)))\n",
    "    for i in range(len(T)):\n",
    "        for j in range(len(N)):\n",
    "            M[i,j] = least_sum(e_array,f_array,T[i],N[j])\n",
    "    \n",
    "    w = np.where(M==np.amin(M))\n",
    "    T_best = T[w[0][0]]\n",
    "    N_best = N[w[1][0]]\n",
    "    \n",
    "    return T_best,N_best"
   ]
  },
  {
   "cell_type": "code",
   "execution_count": 7,
   "id": "c789ba95",
   "metadata": {},
   "outputs": [],
   "source": [
    "def everything1(e_array,f_array):\n",
    "    Tbest,Nbest = fit3(e_array,f_array)\n",
    "    e_array_reverse = e_array[::-1]\n",
    "    f_array_reverse = f_array[::-1]\n",
    "    diff_reverse = np.zeros(len(e_array_reverse))\n",
    "    \n",
    "    for i in range(len(e_array_reverse)):\n",
    "        diff_reverse[i] = (f_array_reverse[i])-((Nbest)/(np.exp(e_array_reverse[i]/Tbest)+1))\n",
    "    return diff_reverse,Tbest,Nbest"
   ]
  },
  {
   "cell_type": "code",
   "execution_count": 8,
   "id": "67def110",
   "metadata": {},
   "outputs": [],
   "source": [
    "def everything2(e_array,f_array):\n",
    "    diff_still_reverse,T_best,N_best = everything1(e_array,f_array)\n",
    "    \n",
    "    diff_smaller_reverse = []\n",
    "    for i in diff_still_reverse: \n",
    "        if i < 0:\n",
    "            break\n",
    "        if i > 0:\n",
    "            diff_smaller_reverse.append(i)\n",
    "    diff_smaller_correct = diff_smaller_reverse[::-1]\n",
    "    E_new = e_array[len(e_array)-len(diff_smaller_correct):]\n",
    "    F_new = f_array[len(e_array)-len(diff_smaller_correct):]\n",
    "    \n",
    "    \n",
    "    np.polyfit(E_new,np.log(diff_smaller_correct),2) \n",
    "    A_best = np.polyfit(E_new,np.log(diff_smaller_correct),2)[0]\n",
    "    B_best = np.polyfit(E_new,np.log(diff_smaller_correct),2)[1]\n",
    "    C_best = np.polyfit(E_new,np.log(diff_smaller_correct),2)[2]\n",
    "    \n",
    "    poly = A_best*e_array**2+B_best*e_array+C_best\n",
    "    \n",
    "    \n",
    "    plt.figure()\n",
    "    plt.semilogy(e_array,e_array**2*f_array,color=\"black\")\n",
    "    plt.semilogy(e_array,N_best*(e_array**2)/(np.exp(e_array/T_best)+1)+e**2*np.exp(poly),linestyle='--')\n",
    "    plt.show()\n",
    "    \n",
    "    return A_best,B_best,C_best,T_best,N_best\n",
    "    "
   ]
  },
  {
   "cell_type": "code",
   "execution_count": 9,
   "id": "7d2253e3",
   "metadata": {},
   "outputs": [
    {
     "data": {
      "image/png": "[encoded data removed]",
      "text/plain": [
       "<Figure size 432x288 with 1 Axes>"
      ]
     },
     "metadata": {
      "needs_background": "light"
     },
     "output_type": "display_data"
    },
    {
     "data": {
      "text/plain": [
       "(0.0012908544032027547,\n",
       " -0.4484654379921326,\n",
       " -7.659854919569376,\n",
       " 1.5671710586964824,\n",
       " 0.7117404676647079)"
      ]
     },
     "execution_count": 9,
     "metadata": {},
     "output_type": "execute_result"
    }
   ],
   "source": [
    "everything2(e,f)"
   ]
  },
  {
   "cell_type": "code",
   "execution_count": 10,
   "id": "9baa0f62",
   "metadata": {},
   "outputs": [
    {
     "data": {
      "image/png": "[encoded data removed]",
      "text/plain": [
       "<Figure size 432x288 with 1 Axes>"
      ]
     },
     "metadata": {
      "needs_background": "light"
     },
     "output_type": "display_data"
    },
    {
     "data": {
      "text/plain": [
       "(-0.002040106185677538,\n",
       " 0.09924849888416934,\n",
       " -9.722659061181984,\n",
       " 2.7195027195027195,\n",
       " 12.570015639330949)"
      ]
     },
     "execution_count": 10,
     "metadata": {},
     "output_type": "execute_result"
    }
   ],
   "source": [
    "everything2(e2,f2)"
   ]
  },
  {
   "cell_type": "code",
   "execution_count": 11,
   "id": "8bb6162a",
   "metadata": {},
   "outputs": [],
   "source": [
    "def everything_quartic(e_array,f_array):\n",
    "    diff_still_reverse,T_best,N_best = everything1(e_array,f_array)\n",
    "    \n",
    "    diff_smaller_reverse = []\n",
    "    for i in diff_still_reverse: \n",
    "        if i < 0:\n",
    "            break\n",
    "        if i > 0:\n",
    "            diff_smaller_reverse.append(i)\n",
    "    diff_smaller_correct = diff_smaller_reverse[::-1]\n",
    "    E_new = e_array[len(e_array)-len(diff_smaller_correct):]\n",
    "    F_new = f_array[len(e_array)-len(diff_smaller_correct):]\n",
    "    \n",
    "    \n",
    "    np.polyfit(E_new,np.log(diff_smaller_correct),4) \n",
    "    A_best = np.polyfit(E_new,np.log(diff_smaller_correct),4)[0]\n",
    "    B_best = np.polyfit(E_new,np.log(diff_smaller_correct),4)[1]\n",
    "    C_best = np.polyfit(E_new,np.log(diff_smaller_correct),4)[2]\n",
    "    D_best = np.polyfit(E_new,np.log(diff_smaller_correct),4)[3]\n",
    "    E_best = np.polyfit(E_new,np.log(diff_smaller_correct),4)[4]\n",
    "    \n",
    "    poly = A_best*e_array**4+B_best*e_array**3+C_best*e_array**2+D_best*e_array+E_best\n",
    "    \n",
    "    \n",
    "    plt.figure()\n",
    "    plt.semilogy(e_array,e_array**2*f_array,color=\"black\")\n",
    "    plt.semilogy(e_array,N_best*(e_array**2)/(np.exp(e_array/T_best)+1)+e**2*np.exp(poly),linestyle='--')\n",
    "    plt.show()\n",
    "    \n",
    "    return A_best,B_best,C_best,D_best,E_best,T_best,N_best"
   ]
  },
  {
   "cell_type": "code",
   "execution_count": 12,
   "id": "832e8f77",
   "metadata": {},
   "outputs": [
    {
     "data": {
      "image/png": "[encoded data removed]",
      "text/plain": [
       "<Figure size 432x288 with 1 Axes>"
      ]
     },
     "metadata": {
      "needs_background": "light"
     },
     "output_type": "display_data"
    },
    {
     "data": {
      "text/plain": [
       "(-4.971340245397517e-06,\n",
       " 0.0005312945030614747,\n",
       " -0.015755937570267487,\n",
       " -0.28245235227342047,\n",
       " -7.999642575294844,\n",
       " 1.5671710586964824,\n",
       " 0.7117404676647079)"
      ]
     },
     "execution_count": 12,
     "metadata": {},
     "output_type": "execute_result"
    }
   ],
   "source": [
    "everything_quartic(e,f)"
   ]
  },
  {
   "cell_type": "code",
   "execution_count": 13,
   "id": "243fafab",
   "metadata": {},
   "outputs": [],
   "source": [
    "def everything_poly(e_array,f_array,poly_degree):\n",
    "    diff_still_reverse,T_best,N_best = everything1(e_array,f_array)\n",
    "    \n",
    "    diff_smaller_reverse = []\n",
    "    for i in diff_still_reverse: \n",
    "        if i < 0:\n",
    "            break\n",
    "        if i > 0:\n",
    "            diff_smaller_reverse.append(i)\n",
    "    diff_smaller_correct = diff_smaller_reverse[::-1]\n",
    "    E_new = e_array[len(e_array)-len(diff_smaller_correct):]\n",
    "    F_new = f_array[len(e_array)-len(diff_smaller_correct):]\n",
    "    \n",
    "    \n",
    "    np.polyfit(E_new,np.log(diff_smaller_correct),poly_degree) \n",
    "    coefficients = np.polyfit(E_new,np.log(diff_smaller_correct),poly_degree) \n",
    "    polynomial = np.poly1d(coefficients,)\n",
    "    \n",
    "    plt.figure()\n",
    "    plt.semilogy(e_array,e_array**2*f_array,color=\"black\")\n",
    "    plt.semilogy(e_array,N_best*(e_array**2)/(np.exp(e_array/T_best)+1)+e_array**2*np.exp(polynomial(e_array)),linestyle='--')\n",
    "    plt.show()\n",
    "    \n",
    "    return T_best,N_best, coefficients"
   ]
  },
  {
   "cell_type": "code",
   "execution_count": 14,
   "id": "3bc382f3",
   "metadata": {},
   "outputs": [
    {
     "data": {
      "image/png": "[encoded data removed]",
      "text/plain": [
       "<Figure size 432x288 with 1 Axes>"
      ]
     },
     "metadata": {
      "needs_background": "light"
     },
     "output_type": "display_data"
    },
    {
     "data": {
      "text/plain": [
       "(1.5671710586964824,\n",
       " 0.7117404676647079,\n",
       " array([ 1.29085440e-03, -4.48465438e-01, -7.65985492e+00]))"
      ]
     },
     "execution_count": 14,
     "metadata": {},
     "output_type": "execute_result"
    }
   ],
   "source": [
    "everything_poly(e,f,2)"
   ]
  },
  {
   "cell_type": "code",
   "execution_count": 15,
   "id": "faef89ea",
   "metadata": {},
   "outputs": [
    {
     "data": {
      "image/png": "[encoded data removed]",
      "text/plain": [
       "<Figure size 432x288 with 1 Axes>"
      ]
     },
     "metadata": {
      "needs_background": "light"
     },
     "output_type": "display_data"
    },
    {
     "data": {
      "text/plain": [
       "(2.7195027195027195,\n",
       " 12.570015639330949,\n",
       " array([-2.04010619e-03,  9.92484989e-02, -9.72265906e+00]))"
      ]
     },
     "execution_count": 15,
     "metadata": {},
     "output_type": "execute_result"
    }
   ],
   "source": [
    "everything_poly(e2,f2,2)"
   ]
  },
  {
   "cell_type": "code",
   "execution_count": 16,
   "id": "d7cbdcd5",
   "metadata": {},
   "outputs": [],
   "source": [
    "data= np.load(\"mass-300-life-0.030.npz\", allow_pickle=True)\n",
    "f_actual = data['fe'][-1]\n",
    "e_actual = data['e'][-1]\n",
    "\n"
   ]
  },
  {
   "cell_type": "code",
   "execution_count": 17,
   "id": "ee8c3de5",
   "metadata": {},
   "outputs": [],
   "source": [
    "@nb.jit(nopython=True)\n",
    "def cdf_faster(e,f):\n",
    "    r = np.zeros(len(e))\n",
    "    \n",
    "    y = e**2 * f\n",
    "    de = e[1] - e[0]\n",
    "    \n",
    "    #r[1] = 0.5 * (y[0] + y[1]) * de\n",
    "    for i in range(1, len(r)):\n",
    "        r[i] = r[i-1] + 0.5 * (y[i-1] + y[i]) * de\n",
    "        \n",
    "    r /= np.trapz(y,e)\n",
    "    \n",
    "    return r"
   ]
  },
  {
   "cell_type": "code",
   "execution_count": 29,
   "id": "56a5c6db",
   "metadata": {},
   "outputs": [],
   "source": [
    "def everything_poly_cdf(e_array,f_array,poly_degree):\n",
    "    diff_still_reverse,T_best,N_best = everything1(e_array,f_array)\n",
    "    \n",
    "    diff_smaller_reverse = []\n",
    "    for i in diff_still_reverse: \n",
    "        if i < 0:\n",
    "            break\n",
    "        if i > 0:\n",
    "            diff_smaller_reverse.append(i)\n",
    "    diff_smaller_correct = diff_smaller_reverse[::-1]\n",
    "    E_new = e_array[len(e_array)-len(diff_smaller_correct):]\n",
    "    F_new = f_array[len(e_array)-len(diff_smaller_correct):]\n",
    "    \n",
    "    \n",
    "    np.polyfit(E_new,np.log(diff_smaller_correct),poly_degree) \n",
    "    coefficients = np.polyfit(E_new,np.log(diff_smaller_correct),poly_degree) \n",
    "    polynomial = np.poly1d(coefficients)\n",
    "    \n",
    "    cdf = cdf_faster(e_array,f_array)\n",
    "    high = np.where(cdf_faster(e_array,f_array)>0.99999)[0][0]\n",
    "    \n",
    "    k = len(e_array)-high\n",
    "    e_array_shorter = np.delete(e_array,np.s_[-k:])\n",
    "    f_array_shorter = np.delete(f_array,np.s_[-k:])\n",
    "    \n",
    "    \n",
    "    int_test = np.trapz(e_array_shorter**2*f_array_shorter) - np.trapz(N_best*(e_array_shorter**2)/(np.exp(e_array_shorter/T_best)+1)+e_array_shorter**2*np.exp(polynomial(e_array_shorter)))\n",
    "\n",
    "    \n",
    "    \n",
    "    plt.figure()\n",
    "    plt.semilogy(e_array_shorter,e_array_shorter**2*f_array_shorter,color=\"black\")\n",
    "    plt.semilogy(e_array_shorter,N_best*(e_array_shorter**2)/(np.exp(e_array_shorter/T_best)+1)+e_array_shorter**2*np.exp(polynomial(e_array_shorter)),linestyle='--')\n",
    "    plt.show()\n",
    "    \n",
    "    return T_best,N_best,coefficients,int_test"
   ]
  },
  {
   "cell_type": "code",
   "execution_count": 30,
   "id": "42e3ff37",
   "metadata": {},
   "outputs": [
    {
     "data": {
      "image/png": "[encoded data removed]",
      "text/plain": [
       "<Figure size 432x288 with 1 Axes>"
      ]
     },
     "metadata": {
      "needs_background": "light"
     },
     "output_type": "display_data"
    },
    {
     "data": {
      "text/plain": [
       "(1.1896452574418677,\n",
       " 0.9597880757044976,\n",
       " array([ 2.92095811e-08, -1.87331012e-05,  3.67435334e-03, -4.89366948e-01,\n",
       "        -9.97753026e+00]),\n",
       " -0.02328316614033188)"
      ]
     },
     "execution_count": 30,
     "metadata": {},
     "output_type": "execute_result"
    }
   ],
   "source": [
    "everything_poly_cdf(e_actual,f_actual,4)"
   ]
  },
  {
   "cell_type": "code",
   "execution_count": 20,
   "id": "a3df0cc2",
   "metadata": {},
   "outputs": [],
   "source": [
    "data_2= np.load(\"mass-300-life-0.584.npz\", allow_pickle=True)\n",
    "f_actual_2 = data_2['fe'][-1]\n",
    "e_actual_2 = data_2['e'][-1]"
   ]
  },
  {
   "cell_type": "code",
   "execution_count": null,
   "id": "179088f7",
   "metadata": {},
   "outputs": [],
   "source": [
    "\n"
   ]
  },
  {
   "cell_type": "code",
   "execution_count": null,
   "id": "b6970eb1",
   "metadata": {},
   "outputs": [],
   "source": []
  },
  {
   "cell_type": "code",
   "execution_count": null,
   "id": "6eb9ba66",
   "metadata": {},
   "outputs": [],
   "source": []
  }
 ],
 "metadata": {
  "kernelspec": {
   "display_name": "Python 3 (ipykernel)",
   "language": "python",
   "name": "python3"
  },
  "language_info": {
   "codemirror_mode": {
    "name": "ipython",
    "version": 3
   },
   "file_extension": ".py",
   "mimetype": "text/x-python",
   "name": "python",
   "nbconvert_exporter": "python",
   "pygments_lexer": "ipython3",
   "version": "3.9.12"
  }
 },
 "nbformat": 4,
 "nbformat_minor": 5
}
