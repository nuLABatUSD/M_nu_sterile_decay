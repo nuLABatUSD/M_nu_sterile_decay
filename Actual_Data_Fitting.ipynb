{
 "cells": [
  {
   "cell_type": "code",
   "execution_count": 1,
   "id": "eb8a19c8",
   "metadata": {},
   "outputs": [],
   "source": [
    "import numpy as np\n",
    "import matplotlib.pyplot as plt\n",
    "import numba as nb\n",
    "import FittingWorkCleaner as FWC"
   ]
  },
  {
   "cell_type": "code",
   "execution_count": 2,
   "id": "4ab7e4ea",
   "metadata": {},
   "outputs": [
    {
     "name": "stdout",
     "output_type": "stream",
     "text": [
      "['mass', 'mixing', 'lifetime', 'neff', 'scalefactors', 'time', 'temp', 'Tcm', 'e', 'fe', 'NumbDensityDist', 'decayrate', 'collisionrate', 'n_p_rate', 'p_n_rate']\n"
     ]
    }
   ],
   "source": [
    "data= np.load(\"mass-300-life-0.030.npz\", allow_pickle=True)\n",
    "print(data.files)"
   ]
  },
  {
   "cell_type": "code",
   "execution_count": 29,
   "id": "6d69c95d",
   "metadata": {},
   "outputs": [],
   "source": [
    "f_actual = data['fe'][-1]\n",
    "e_actual = data['e'][-1]\n",
    "mass_data = data['mass']"
   ]
  },
  {
   "cell_type": "code",
   "execution_count": 4,
   "id": "8816c48a",
   "metadata": {},
   "outputs": [
    {
     "name": "stdout",
     "output_type": "stream",
     "text": [
      "(564,)\n",
      "(564,)\n"
     ]
    }
   ],
   "source": [
    "print(e_actual.shape)\n",
    "print(f_actual.shape)"
   ]
  },
  {
   "cell_type": "code",
   "execution_count": 32,
   "id": "34b1e063",
   "metadata": {},
   "outputs": [
    {
     "name": "stdout",
     "output_type": "stream",
     "text": [
      "300.0\n"
     ]
    }
   ],
   "source": [
    "print(mass_data)"
   ]
  },
  {
   "cell_type": "code",
   "execution_count": 5,
   "id": "d6f15ea4",
   "metadata": {},
   "outputs": [
    {
     "name": "stdout",
     "output_type": "stream",
     "text": [
      "['mass', 'mixing', 'lifetime', 'neff', 'scalefactors', 'time', 'temp', 'Tcm', 'e', 'fe', 'NumbDensityDist', 'decayrate', 'collisionrate', 'n_p_rate', 'p_n_rate']\n"
     ]
    }
   ],
   "source": [
    "data_2= np.load(\"mass-300-life-0.584.npz\", allow_pickle=True)\n",
    "print(data_2.files)"
   ]
  },
  {
   "cell_type": "code",
   "execution_count": 6,
   "id": "3cd7c07e",
   "metadata": {},
   "outputs": [],
   "source": [
    "f_actual_2 = data_2['fe'][-1]\n",
    "e_actual_2 = data_2['e'][-1]"
   ]
  },
  {
   "cell_type": "code",
   "execution_count": 7,
   "id": "22d271cd",
   "metadata": {},
   "outputs": [
    {
     "name": "stdout",
     "output_type": "stream",
     "text": [
      "(494,)\n",
      "(494,)\n"
     ]
    }
   ],
   "source": [
    "print(e_actual_2.shape)\n",
    "print(f_actual_2.shape)"
   ]
  },
  {
   "cell_type": "code",
   "execution_count": 8,
   "id": "3d1aea3d",
   "metadata": {},
   "outputs": [],
   "source": [
    "def please_work(filename,poly_degree,plot):\n",
    "    actual_data = np.load(filename,allow_pickle=True)\n",
    "    f_actual = actual_data['fe'][-1]\n",
    "    e_actual = actual_data['e'][-1]\n",
    "    FWC.everything_poly(e_actual,f_actual,poly_degree,plot)"
   ]
  },
  {
   "cell_type": "code",
   "execution_count": 9,
   "id": "d7293220",
   "metadata": {},
   "outputs": [
    {
     "data": {
      "image/png": "[encoded data removed]",
      "text/plain": [
       "<Figure size 432x288 with 1 Axes>"
      ]
     },
     "metadata": {
      "needs_background": "light"
     },
     "output_type": "display_data"
    }
   ],
   "source": [
    "please_work(\"mass-300-life-0.030.npz\",4,True)"
   ]
  },
  {
   "cell_type": "code",
   "execution_count": 10,
   "id": "ddd70fb7",
   "metadata": {},
   "outputs": [
    {
     "name": "stderr",
     "output_type": "stream",
     "text": [
      "/Users/charmquark/Downloads/M_nu_sterile_decay/FittingWorkCleaner.py:90: RuntimeWarning: overflow encountered in exp\n",
      "  diff_reverse[i] = (f_array_reverse[i])-((Nbest)/(np.exp(e_array_reverse[i]/Tbest)+1))\n",
      "/Users/charmquark/Downloads/M_nu_sterile_decay/FittingWorkCleaner.py:117: RuntimeWarning: overflow encountered in exp\n",
      "  plt.semilogy(e_array,N_best*(e_array**2)/(np.exp(e_array/T_best)+1)+e_array**2*np.exp(polynomial(e_array)),linestyle='--')\n"
     ]
    },
    {
     "data": {
      "image/png": "[encoded data removed]",
      "text/plain": [
       "<Figure size 432x288 with 1 Axes>"
      ]
     },
     "metadata": {
      "needs_background": "light"
     },
     "output_type": "display_data"
    }
   ],
   "source": [
    "please_work(\"mass-300-life-0.584.npz\",4,True)"
   ]
  },
  {
   "cell_type": "code",
   "execution_count": 11,
   "id": "a05d5358",
   "metadata": {},
   "outputs": [],
   "source": [
    "T_b,N_b,Co,= FWC.everything_poly(e_actual,f_actual,4,False)"
   ]
  },
  {
   "cell_type": "code",
   "execution_count": 12,
   "id": "33beafc6",
   "metadata": {},
   "outputs": [
    {
     "name": "stdout",
     "output_type": "stream",
     "text": [
      "5.8058348458432665\n",
      "5.829118649320976\n",
      "21.775977940174926\n",
      "21.861221884383497\n"
     ]
    }
   ],
   "source": [
    "polynom = np.poly1d(Co)\n",
    "print(np.trapz(e_actual**2*f_actual))\n",
    "print(np.trapz(N_b*(e_actual**2)/(np.exp(e_actual/T_b)+1)+e_actual**2*np.exp(polynom(e_actual))))\n",
    "\n",
    "print(np.trapz(e_actual**3*f_actual))\n",
    "print(np.trapz(N_b*(e_actual**3)/(np.exp(e_actual/T_b)+1)+e_actual**3*np.exp(polynom(e_actual))))"
   ]
  },
  {
   "cell_type": "code",
   "execution_count": 13,
   "id": "441f662e",
   "metadata": {},
   "outputs": [],
   "source": [
    "Buck = 21.775977940174926/21.861221884383497"
   ]
  },
  {
   "cell_type": "code",
   "execution_count": 14,
   "id": "2253859d",
   "metadata": {},
   "outputs": [
    {
     "name": "stdout",
     "output_type": "stream",
     "text": [
      "5.8058348458432665\n",
      "5.8063890385263095\n",
      "21.775977940174926\n",
      "21.775977940174926\n"
     ]
    }
   ],
   "source": [
    "polynom = np.poly1d(Co)\n",
    "print(np.trapz(e_actual**2*f_actual))\n",
    "print(np.trapz(Buck*N_b*(e_actual**2)/(np.exp(e_actual/T_b)+1)+e_actual**2*np.exp(polynom(e_actual)+np.log(Buck))))\n",
    "\n",
    "print(np.trapz(e_actual**3*f_actual))\n",
    "print(np.trapz(Buck*N_b*(e_actual**3)/(np.exp(e_actual/T_b)+1)+e_actual**3*np.exp(polynom(e_actual)+np.log(Buck))))"
   ]
  },
  {
   "cell_type": "code",
   "execution_count": 15,
   "id": "6040b384",
   "metadata": {},
   "outputs": [],
   "source": [
    "k = 200\n",
    "e_actual_2_shorter = np.delete(e_actual_2,np.s_[-k:])\n",
    "f_actual_2_shorter = np.delete(f_actual_2,np.s_[-k:])"
   ]
  },
  {
   "cell_type": "code",
   "execution_count": 16,
   "id": "0ed4e20f",
   "metadata": {},
   "outputs": [
    {
     "name": "stderr",
     "output_type": "stream",
     "text": [
      "/Users/charmquark/Downloads/M_nu_sterile_decay/FittingWorkCleaner.py:90: RuntimeWarning: overflow encountered in exp\n",
      "  diff_reverse[i] = (f_array_reverse[i])-((Nbest)/(np.exp(e_array_reverse[i]/Tbest)+1))\n",
      "/Users/charmquark/Downloads/M_nu_sterile_decay/FittingWorkCleaner.py:117: RuntimeWarning: overflow encountered in exp\n",
      "  plt.semilogy(e_array,N_best*(e_array**2)/(np.exp(e_array/T_best)+1)+e_array**2*np.exp(polynomial(e_array)),linestyle='--')\n"
     ]
    },
    {
     "data": {
      "image/png": "[encoded data removed]",
      "text/plain": [
       "<Figure size 432x288 with 1 Axes>"
      ]
     },
     "metadata": {
      "needs_background": "light"
     },
     "output_type": "display_data"
    }
   ],
   "source": [
    "T_bes,N_bes,Coef = FWC.everything_poly(e_actual_2_shorter,f_actual_2_shorter,4,True)"
   ]
  },
  {
   "cell_type": "code",
   "execution_count": 17,
   "id": "7bfd2a15",
   "metadata": {},
   "outputs": [
    {
     "name": "stdout",
     "output_type": "stream",
     "text": [
      "5.321136409564899\n",
      "5.153146106695982\n",
      "28.34533597368343\n",
      "28.030035139964586\n"
     ]
    },
    {
     "name": "stderr",
     "output_type": "stream",
     "text": [
      "/var/folders/4_/8dqxg1mn27s2m8nmvf9r3nkh0000gp/T/ipykernel_63205/2622468764.py:3: RuntimeWarning: overflow encountered in exp\n",
      "  print(np.trapz(N_bes*(e_actual_2_shorter**2)/(np.exp(e_actual_2_shorter/T_bes)+1)+e_actual_2_shorter**2*np.exp(polynomia(e_actual_2_shorter))))\n",
      "/var/folders/4_/8dqxg1mn27s2m8nmvf9r3nkh0000gp/T/ipykernel_63205/2622468764.py:6: RuntimeWarning: overflow encountered in exp\n",
      "  print(np.trapz(N_bes*(e_actual_2_shorter**3)/(np.exp(e_actual_2_shorter/T_bes)+1)+e_actual_2_shorter**3*np.exp(polynomia(e_actual_2_shorter))))\n"
     ]
    }
   ],
   "source": [
    "polynomia = np.poly1d(Coef)\n",
    "print(np.trapz(e_actual_2_shorter**2*f_actual_2_shorter))\n",
    "print(np.trapz(N_bes*(e_actual_2_shorter**2)/(np.exp(e_actual_2_shorter/T_bes)+1)+e_actual_2_shorter**2*np.exp(polynomia(e_actual_2_shorter))))\n",
    "\n",
    "print(np.trapz(e_actual_2_shorter**3*f_actual_2_shorter))\n",
    "print(np.trapz(N_bes*(e_actual_2_shorter**3)/(np.exp(e_actual_2_shorter/T_bes)+1)+e_actual_2_shorter**3*np.exp(polynomia(e_actual_2_shorter))))"
   ]
  },
  {
   "cell_type": "code",
   "execution_count": 18,
   "id": "f42d4c79",
   "metadata": {},
   "outputs": [
    {
     "name": "stdout",
     "output_type": "stream",
     "text": [
      "5.321136409564899\n",
      "5.211112186852609\n",
      "28.34533597368343\n",
      "28.345335973683426\n"
     ]
    },
    {
     "name": "stderr",
     "output_type": "stream",
     "text": [
      "/var/folders/4_/8dqxg1mn27s2m8nmvf9r3nkh0000gp/T/ipykernel_63205/122514119.py:5: RuntimeWarning: overflow encountered in exp\n",
      "  print(np.trapz(Buck1*N_bes*(e_actual_2_shorter**2)/(np.exp(e_actual_2_shorter/T_bes)+1)+e_actual_2_shorter**2*np.exp(polynomia(e_actual_2_shorter)+np.log(Buck1))))\n",
      "/var/folders/4_/8dqxg1mn27s2m8nmvf9r3nkh0000gp/T/ipykernel_63205/122514119.py:8: RuntimeWarning: overflow encountered in exp\n",
      "  print(np.trapz(Buck1*N_bes*(e_actual_2_shorter**3)/(np.exp(e_actual_2_shorter/T_bes)+1)+e_actual_2_shorter**3*np.exp(polynomia(e_actual_2_shorter)+np.log(Buck1))))\n"
     ]
    }
   ],
   "source": [
    "Buck1 = 28.34533597368343/28.030035139964586\n",
    "\n",
    "polynomia = np.poly1d(Coef)\n",
    "print(np.trapz(e_actual_2_shorter**2*f_actual_2_shorter))\n",
    "print(np.trapz(Buck1*N_bes*(e_actual_2_shorter**2)/(np.exp(e_actual_2_shorter/T_bes)+1)+e_actual_2_shorter**2*np.exp(polynomia(e_actual_2_shorter)+np.log(Buck1))))\n",
    "\n",
    "print(np.trapz(e_actual_2_shorter**3*f_actual_2_shorter))\n",
    "print(np.trapz(Buck1*N_bes*(e_actual_2_shorter**3)/(np.exp(e_actual_2_shorter/T_bes)+1)+e_actual_2_shorter**3*np.exp(polynomia(e_actual_2_shorter)+np.log(Buck1))))\n"
   ]
  },
  {
   "cell_type": "code",
   "execution_count": 19,
   "id": "65b65eed",
   "metadata": {},
   "outputs": [],
   "source": [
    "@nb.jit(nopython=True)\n",
    "def cdf_faster(e,f):\n",
    "    r = np.zeros(len(e))\n",
    "    \n",
    "    y = e**2 * f\n",
    "    for i in range(1, len(r)):\n",
    "        r[i] = r[i-1] + 0.5 * (y[i-1] + y[i]) * (e[i]-e[i-1])\n",
    "        \n",
    "    r /= np.trapz(y,e)\n",
    "    \n",
    "    return r\n",
    "\n"
   ]
  },
  {
   "cell_type": "code",
   "execution_count": 20,
   "id": "60659bfd",
   "metadata": {},
   "outputs": [],
   "source": [
    "R = cdf_faster(e_actual,f_actual)"
   ]
  },
  {
   "cell_type": "code",
   "execution_count": 21,
   "id": "2638834f",
   "metadata": {},
   "outputs": [],
   "source": [
    "Q = cdf_faster(e_actual_2,f_actual_2)"
   ]
  },
  {
   "cell_type": "code",
   "execution_count": 22,
   "id": "6794f5f8",
   "metadata": {},
   "outputs": [
    {
     "data": {
      "image/png": "[encoded data removed]",
      "text/plain": [
       "<Figure size 432x288 with 1 Axes>"
      ]
     },
     "metadata": {
      "needs_background": "light"
     },
     "output_type": "display_data"
    }
   ],
   "source": [
    "plt.figure()\n",
    "plt.plot(e_actual, R)\n",
    "plt.plot(f_actual,R)\n",
    "plt.show()"
   ]
  },
  {
   "cell_type": "code",
   "execution_count": 23,
   "id": "f5f85b93",
   "metadata": {},
   "outputs": [
    {
     "data": {
      "text/plain": [
       "34"
      ]
     },
     "execution_count": 23,
     "metadata": {},
     "output_type": "execute_result"
    }
   ],
   "source": [
    "np.where(cdf_faster(e_actual,f_actual)>0.9999)[0][0]"
   ]
  },
  {
   "cell_type": "code",
   "execution_count": 24,
   "id": "3b6466e3",
   "metadata": {},
   "outputs": [
    {
     "data": {
      "image/png": "[encoded data removed]",
      "text/plain": [
       "<Figure size 432x288 with 1 Axes>"
      ]
     },
     "metadata": {
      "needs_background": "light"
     },
     "output_type": "display_data"
    }
   ],
   "source": [
    "plt.figure()\n",
    "plt.plot(e_actual_2,Q)\n",
    "plt.plot(f_actual_2,Q)\n",
    "plt.show()"
   ]
  },
  {
   "cell_type": "code",
   "execution_count": 25,
   "id": "c89b4363",
   "metadata": {},
   "outputs": [
    {
     "data": {
      "text/plain": [
       "31"
      ]
     },
     "execution_count": 25,
     "metadata": {},
     "output_type": "execute_result"
    }
   ],
   "source": [
    "np.where(cdf_faster(e_actual_2,f_actual_2)>0.80)[0][0]"
   ]
  },
  {
   "cell_type": "code",
   "execution_count": 26,
   "id": "4894b8aa",
   "metadata": {},
   "outputs": [
    {
     "data": {
      "image/png": "[encoded data removed]",
      "text/plain": [
       "<Figure size 432x288 with 1 Axes>"
      ]
     },
     "metadata": {
      "needs_background": "light"
     },
     "output_type": "display_data"
    },
    {
     "data": {
      "text/plain": [
       "(1.1896452574418677,\n",
       " 0.9597880757044976,\n",
       " array([-4.18485322e-03,  2.24917692e-01, -4.50647499e+00,  3.94343274e+01,\n",
       "        -1.40372095e+02]))"
      ]
     },
     "execution_count": 26,
     "metadata": {},
     "output_type": "execute_result"
    }
   ],
   "source": [
    "FWC.finale(e_actual,f_actual,4,True)"
   ]
  },
  {
   "cell_type": "code",
   "execution_count": 27,
   "id": "1ea55e86",
   "metadata": {},
   "outputs": [
    {
     "data": {
      "text/plain": [
       "(1.2335436064249623,\n",
       " 0.6850939103999747,\n",
       " array([ 1.14347633e-09, -1.60098091e-06,  6.68093687e-04, -1.56469746e-01,\n",
       "        -6.86539040e+00]))"
      ]
     },
     "execution_count": 27,
     "metadata": {},
     "output_type": "execute_result"
    }
   ],
   "source": [
    "FWC.finale(e_actual_2,f_actual_2,4,False)"
   ]
  },
  {
   "cell_type": "code",
   "execution_count": null,
   "id": "760bd177",
   "metadata": {},
   "outputs": [],
   "source": []
  },
  {
   "cell_type": "code",
   "execution_count": null,
   "id": "a01f7150",
   "metadata": {},
   "outputs": [],
   "source": []
  },
  {
   "cell_type": "code",
   "execution_count": null,
   "id": "89386829",
   "metadata": {},
   "outputs": [],
   "source": []
  }
 ],
 "metadata": {
  "kernelspec": {
   "display_name": "Python 3 (ipykernel)",
   "language": "python",
   "name": "python3"
  },
  "language_info": {
   "codemirror_mode": {
    "name": "ipython",
    "version": 3
   },
   "file_extension": ".py",
   "mimetype": "text/x-python",
   "name": "python",
   "nbconvert_exporter": "python",
   "pygments_lexer": "ipython3",
   "version": "3.9.12"
  }
 },
 "nbformat": 4,
 "nbformat_minor": 5
}
